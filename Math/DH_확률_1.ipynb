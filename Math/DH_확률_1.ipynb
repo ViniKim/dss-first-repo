{
 "cells": [
  {
   "cell_type": "code",
   "execution_count": 24,
   "metadata": {},
   "outputs": [
    {
     "data": {
      "text/plain": [
       "{'♠', '♣', '♥', '♦'}"
      ]
     },
     "execution_count": 24,
     "metadata": {},
     "output_type": "execute_result"
    }
   ],
   "source": [
    "C = set([\"\\u2660\", \"\\u2663\", \"\\u2665\", \"\\u2666\"])\n",
    "C"
   ]
  },
  {
   "cell_type": "code",
   "execution_count": 25,
   "metadata": {},
   "outputs": [
    {
     "data": {
      "text/plain": [
       "{1, 2, 3}"
      ]
     },
     "execution_count": 25,
     "metadata": {},
     "output_type": "execute_result"
    }
   ],
   "source": [
    "A = set([1,2,3,3,2])\n",
    "A"
   ]
  },
  {
   "cell_type": "code",
   "execution_count": 26,
   "metadata": {},
   "outputs": [
    {
     "data": {
      "text/plain": [
       "frozenset({'H', 'T'})"
      ]
     },
     "execution_count": 26,
     "metadata": {},
     "output_type": "execute_result"
    }
   ],
   "source": [
    "B = frozenset([\"H\", \"T\"])\n",
    "B"
   ]
  },
  {
   "cell_type": "code",
   "execution_count": 27,
   "metadata": {},
   "outputs": [
    {
     "data": {
      "text/plain": [
       "3"
      ]
     },
     "execution_count": 27,
     "metadata": {},
     "output_type": "execute_result"
    }
   ],
   "source": [
    "len(A)"
   ]
  },
  {
   "cell_type": "code",
   "execution_count": 28,
   "metadata": {},
   "outputs": [],
   "source": [
    "A1 = set([1,2,3,4])\n",
    "A2 = set([2,4,6])\n",
    "A3 = set([1,2,3])\n",
    "A4 = set([2,3,4,5,6])"
   ]
  },
  {
   "cell_type": "code",
   "execution_count": 29,
   "metadata": {},
   "outputs": [
    {
     "data": {
      "text/plain": [
       "{1, 2, 3, 4, 6}"
      ]
     },
     "execution_count": 29,
     "metadata": {},
     "output_type": "execute_result"
    }
   ],
   "source": [
    "A1.union(A2)"
   ]
  },
  {
   "cell_type": "code",
   "execution_count": 30,
   "metadata": {},
   "outputs": [
    {
     "data": {
      "text/plain": [
       "{1, 2, 3, 4, 6}"
      ]
     },
     "execution_count": 30,
     "metadata": {},
     "output_type": "execute_result"
    }
   ],
   "source": [
    "A2 | A1"
   ]
  },
  {
   "cell_type": "code",
   "execution_count": 31,
   "metadata": {},
   "outputs": [
    {
     "data": {
      "text/plain": [
       "{2, 3}"
      ]
     },
     "execution_count": 31,
     "metadata": {},
     "output_type": "execute_result"
    }
   ],
   "source": [
    "A3.intersection(A4)"
   ]
  },
  {
   "cell_type": "code",
   "execution_count": 32,
   "metadata": {},
   "outputs": [
    {
     "data": {
      "text/plain": [
       "{2, 3}"
      ]
     },
     "execution_count": 32,
     "metadata": {},
     "output_type": "execute_result"
    }
   ],
   "source": [
    "A4&A3"
   ]
  },
  {
   "cell_type": "code",
   "execution_count": 33,
   "metadata": {},
   "outputs": [
    {
     "data": {
      "text/plain": [
       "True"
      ]
     },
     "execution_count": 33,
     "metadata": {},
     "output_type": "execute_result"
    }
   ],
   "source": [
    "A3.issubset(A1)"
   ]
  },
  {
   "cell_type": "code",
   "execution_count": 34,
   "metadata": {},
   "outputs": [
    {
     "data": {
      "text/plain": [
       "True"
      ]
     },
     "execution_count": 34,
     "metadata": {},
     "output_type": "execute_result"
    }
   ],
   "source": [
    "A3 <= A1"
   ]
  },
  {
   "cell_type": "code",
   "execution_count": 35,
   "metadata": {},
   "outputs": [
    {
     "data": {
      "text/plain": [
       "False"
      ]
     },
     "execution_count": 35,
     "metadata": {},
     "output_type": "execute_result"
    }
   ],
   "source": [
    "A3.issubset(A2)"
   ]
  },
  {
   "cell_type": "code",
   "execution_count": 36,
   "metadata": {},
   "outputs": [
    {
     "data": {
      "text/plain": [
       "False"
      ]
     },
     "execution_count": 36,
     "metadata": {},
     "output_type": "execute_result"
    }
   ],
   "source": [
    "A3 <= A2"
   ]
  },
  {
   "cell_type": "code",
   "execution_count": 37,
   "metadata": {},
   "outputs": [
    {
     "data": {
      "text/plain": [
       "True"
      ]
     },
     "execution_count": 37,
     "metadata": {},
     "output_type": "execute_result"
    }
   ],
   "source": [
    "A3 <= A3"
   ]
  },
  {
   "cell_type": "code",
   "execution_count": 38,
   "metadata": {},
   "outputs": [
    {
     "data": {
      "text/plain": [
       "False"
      ]
     },
     "execution_count": 38,
     "metadata": {},
     "output_type": "execute_result"
    }
   ],
   "source": [
    "A3 < A3"
   ]
  },
  {
   "cell_type": "code",
   "execution_count": 39,
   "metadata": {},
   "outputs": [
    {
     "data": {
      "text/plain": [
       "{1, 3}"
      ]
     },
     "execution_count": 39,
     "metadata": {},
     "output_type": "execute_result"
    }
   ],
   "source": [
    "A1.difference(A2)"
   ]
  },
  {
   "cell_type": "code",
   "execution_count": 40,
   "metadata": {},
   "outputs": [
    {
     "data": {
      "text/plain": [
       "{1, 3}"
      ]
     },
     "execution_count": 40,
     "metadata": {},
     "output_type": "execute_result"
    }
   ],
   "source": [
    "A1 - A2"
   ]
  },
  {
   "cell_type": "code",
   "execution_count": 41,
   "metadata": {},
   "outputs": [
    {
     "data": {
      "text/plain": [
       "set()"
      ]
     },
     "execution_count": 41,
     "metadata": {},
     "output_type": "execute_result"
    }
   ],
   "source": [
    "\n",
    "nullset = set([])\n",
    "nullset"
   ]
  },
  {
   "cell_type": "code",
   "execution_count": 42,
   "metadata": {},
   "outputs": [
    {
     "data": {
      "text/plain": [
       "True"
      ]
     },
     "execution_count": 42,
     "metadata": {},
     "output_type": "execute_result"
    }
   ],
   "source": [
    "nullset < A1"
   ]
  },
  {
   "cell_type": "code",
   "execution_count": 43,
   "metadata": {},
   "outputs": [
    {
     "data": {
      "text/plain": [
       "set()"
      ]
     },
     "execution_count": 43,
     "metadata": {},
     "output_type": "execute_result"
    }
   ],
   "source": [
    "\n",
    "nullset.intersection(A1)"
   ]
  },
  {
   "cell_type": "code",
   "execution_count": 44,
   "metadata": {},
   "outputs": [
    {
     "data": {
      "text/plain": [
       "{1, 2, 3, 4}"
      ]
     },
     "execution_count": 44,
     "metadata": {},
     "output_type": "execute_result"
    }
   ],
   "source": [
    "nullset.union(A1)"
   ]
  },
  {
   "cell_type": "code",
   "execution_count": 45,
   "metadata": {},
   "outputs": [],
   "source": [
    "\n",
    "import sympy"
   ]
  },
  {
   "cell_type": "code",
   "execution_count": 46,
   "metadata": {},
   "outputs": [],
   "source": [
    "HH, HT, TH, TT = (),(),(),()"
   ]
  },
  {
   "cell_type": "code",
   "execution_count": 47,
   "metadata": {},
   "outputs": [],
   "source": [
    "\n",
    "\n",
    "\n",
    "B = set([HH,HT,TH,TT])"
   ]
  },
  {
   "cell_type": "code",
   "execution_count": 48,
   "metadata": {},
   "outputs": [],
   "source": [
    "C1 = frozenset([\"[]\"])\n",
    "C2 = frozenset([\"HH\"])\n",
    "C3 = frozenset([\"HT\"])\n",
    "C4 = frozenset([\"TH\"])\n",
    "C5 = frozenset([\"TT\"])\n",
    "C6 = frozenset([\"HH,HT\"])\n",
    "C7 = frozenset([\"HH,TH\"])\n",
    "C8 = frozenset([\"HH,TT\"])\n",
    "C9 = frozenset([\"HT,TH\"])\n",
    "C10 = frozenset([\"HT,TT\"])\n",
    "C11 = frozenset([\"TH,TT\"])\n",
    "C12 = frozenset([\"HH,HT,TH\"])\n",
    "C13 = frozenset([\"HH,HT,TT\"])\n",
    "C14 = frozenset([\"HT,TH,TT\"])\n",
    "C15 = frozenset([\"HH,TH,TT\"])\n",
    "C16 = frozenset([\"HH,HT,TH,TT\"])\n"
   ]
  },
  {
   "cell_type": "code",
   "execution_count": 49,
   "metadata": {},
   "outputs": [
    {
     "data": {
      "text/plain": [
       "{frozenset({'TH'}),\n",
       " frozenset({'HH,TH'}),\n",
       " frozenset({'HT,TH'}),\n",
       " frozenset({'TH,TT'}),\n",
       " frozenset({'HH,HT'}),\n",
       " frozenset({'HT,TH,TT'}),\n",
       " frozenset({'HH,HT,TT'}),\n",
       " frozenset({'HT,TT'}),\n",
       " frozenset({'TT'}),\n",
       " frozenset({'HT'}),\n",
       " frozenset({'HH,HT,TH,TT'}),\n",
       " frozenset({'HH,TT'}),\n",
       " frozenset({'HH,HT,TH'}),\n",
       " frozenset({'HH'}),\n",
       " frozenset({'HH,TH,TT'}),\n",
       " frozenset({'[]'})}"
      ]
     },
     "execution_count": 49,
     "metadata": {},
     "output_type": "execute_result"
    }
   ],
   "source": [
    "D = set([C1,C2,C3,C4,C5,C6,C7,C8,C9,C10,C11,C12,C13,C14,C15,C16])\n",
    "D"
   ]
  },
  {
   "cell_type": "markdown",
   "metadata": {},
   "source": [
    "플레잉카드 한장을 뽑아서 무늬를 결정하는 문제의 표본 공간  Ω3 의 모든 사건을 구하고 이를 frozenset의 set으로 만든다."
   ]
  },
  {
   "cell_type": "code",
   "execution_count": 50,
   "metadata": {},
   "outputs": [],
   "source": [
    "A1 = frozenset(['H'])\n",
    "A2 = frozenset(['D'])\n",
    "A3 = frozenset(['S'])\n",
    "A4 = frozenset(['C'])\n",
    "A5 = frozenset(['H','D'])\n",
    "A6 = frozenset(['H','S'])\n",
    "A7 = frozenset(['H','C'])\n",
    "A8 = frozenset(['D','C'])\n",
    "A9 = frozenset(['S','C'])\n",
    "A10 = frozenset(['H','D',\"S\"])\n",
    "A11 = frozenset(['H',\"D\",\"C\"])\n",
    "A12 = frozenset(['H',\"S\",\"C\"])\n",
    "A13 = frozenset(['H',\"S\",\"C\",\"D\"])\n",
    "A14 = frozenset(['D','S'])\n",
    "A15 = frozenset([''])\n",
    "A16 = frozenset(['S','D'])"
   ]
  },
  {
   "cell_type": "code",
   "execution_count": 51,
   "metadata": {},
   "outputs": [
    {
     "data": {
      "text/plain": [
       "{frozenset({'H'}),\n",
       " frozenset({'C', 'D'}),\n",
       " frozenset({'D', 'H', 'S'}),\n",
       " frozenset({''}),\n",
       " frozenset({'C'}),\n",
       " frozenset({'H', 'S'}),\n",
       " frozenset({'C', 'H'}),\n",
       " frozenset({'S'}),\n",
       " frozenset({'D'}),\n",
       " frozenset({'D', 'S'}),\n",
       " frozenset({'D', 'H'}),\n",
       " frozenset({'C', 'D', 'H'}),\n",
       " frozenset({'C', 'S'}),\n",
       " frozenset({'C', 'H', 'S'}),\n",
       " frozenset({'C', 'D', 'H', 'S'})}"
      ]
     },
     "execution_count": 51,
     "metadata": {},
     "output_type": "execute_result"
    }
   ],
   "source": [
    "B = set([A1,A2,A3,A4,A5,A6,A7,A8,A9,A10,A11,A12,A13,A14,A15,A16])\n",
    "B"
   ]
  },
  {
   "cell_type": "code",
   "execution_count": 52,
   "metadata": {},
   "outputs": [
    {
     "data": {
      "text/plain": [
       "{frozenset({''}): 0,\n",
       " frozenset({'H'}): 0.25,\n",
       " frozenset({'D'}): 0.25,\n",
       " frozenset({'S'}): 0.25,\n",
       " frozenset({'C'}): 0.25,\n",
       " frozenset({'D', 'H'}): 0.5,\n",
       " frozenset({'H', 'S'}): 0.5,\n",
       " frozenset({'C', 'H'}): 0.5,\n",
       " frozenset({'C', 'D'}): 0.5,\n",
       " frozenset({'C', 'S'}): 0.5,\n",
       " frozenset({'D', 'S'}): 0.5,\n",
       " frozenset({'D', 'H', 'S'}): 0.75,\n",
       " frozenset({'C', 'D', 'H'}): 0.75,\n",
       " frozenset({'C', 'H', 'S'}): 0.75,\n",
       " frozenset({'C', 'D', 'H', 'S'}): 1}"
      ]
     },
     "execution_count": 52,
     "metadata": {},
     "output_type": "execute_result"
    }
   ],
   "source": [
    "P = {A15:0, A1:0.25, A2:0.25, A3:0.25, A4:0.25, A5: 0.5, A6:0.5, A7:0.5, A8:0.5, A9: 0.5, A14:0.5, A16:0.5, A10:0.75, A11:0.75, A12:0.75, A13:1}\n",
    "P"
   ]
  },
  {
   "cell_type": "code",
   "execution_count": 53,
   "metadata": {},
   "outputs": [
    {
     "data": {
      "text/plain": [
       "[2, 3, 4]"
      ]
     },
     "execution_count": 53,
     "metadata": {},
     "output_type": "execute_result"
    }
   ],
   "source": [
    "F = [2,3,4]\n",
    "F"
   ]
  },
  {
   "cell_type": "code",
   "execution_count": 54,
   "metadata": {},
   "outputs": [
    {
     "ename": "TypeError",
     "evalue": "unhashable type: 'list'",
     "output_type": "error",
     "traceback": [
      "\u001b[1;31m---------------------------------------------------------------------------\u001b[0m",
      "\u001b[1;31mTypeError\u001b[0m                                 Traceback (most recent call last)",
      "\u001b[1;32m<ipython-input-54-476277cde8bf>\u001b[0m in \u001b[0;36m<module>\u001b[1;34m()\u001b[0m\n\u001b[1;32m----> 1\u001b[1;33m \u001b[0mG\u001b[0m \u001b[1;33m=\u001b[0m \u001b[0mset\u001b[0m\u001b[1;33m(\u001b[0m\u001b[1;33m[\u001b[0m\u001b[0mF\u001b[0m\u001b[1;33m]\u001b[0m\u001b[1;33m)\u001b[0m\u001b[1;33m\u001b[0m\u001b[0m\n\u001b[0m\u001b[0;32m      2\u001b[0m \u001b[0mG\u001b[0m\u001b[1;33m\u001b[0m\u001b[0m\n",
      "\u001b[1;31mTypeError\u001b[0m: unhashable type: 'list'"
     ]
    }
   ],
   "source": [
    "G = set([F])\n",
    "G"
   ]
  },
  {
   "cell_type": "code",
   "execution_count": 55,
   "metadata": {},
   "outputs": [],
   "source": [
    "import pgmpy"
   ]
  },
  {
   "cell_type": "markdown",
   "metadata": {},
   "source": [
    "JointProbabilityDistribution(variables, cardinality, values)"
   ]
  },
  {
   "cell_type": "code",
   "execution_count": 56,
   "metadata": {},
   "outputs": [],
   "source": [
    "import numpy as np"
   ]
  },
  {
   "cell_type": "code",
   "execution_count": 57,
   "metadata": {},
   "outputs": [],
   "source": [
    "from pgmpy.factors.discrete import JointProbabilityDistribution as JPD"
   ]
  },
  {
   "cell_type": "code",
   "execution_count": 58,
   "metadata": {},
   "outputs": [
    {
     "name": "stdout",
     "output_type": "stream",
     "text": [
      "╒═════╤═════╤══════════╕\n",
      "│ X   │ Y   │   P(X,Y) │\n",
      "╞═════╪═════╪══════════╡\n",
      "│ X_0 │ Y_0 │   0.1500 │\n",
      "├─────┼─────┼──────────┤\n",
      "│ X_0 │ Y_1 │   0.4500 │\n",
      "├─────┼─────┼──────────┤\n",
      "│ X_1 │ Y_0 │   0.3500 │\n",
      "├─────┼─────┼──────────┤\n",
      "│ X_1 │ Y_1 │   0.0500 │\n",
      "╘═════╧═════╧══════════╛\n"
     ]
    }
   ],
   "source": [
    "j1 = JPD(['X', 'Y'], [2, 2], np.array([3, 9, 7, 1]) / 20)\n",
    "print(j1)"
   ]
  },
  {
   "cell_type": "code",
   "execution_count": 59,
   "metadata": {},
   "outputs": [
    {
     "name": "stdout",
     "output_type": "stream",
     "text": [
      "╒═════╤═════╤══════════╕\n",
      "│ X   │ Y   │   P(X,Y) │\n",
      "╞═════╪═════╪══════════╡\n",
      "│ X_0 │ Y_0 │   0.3000 │\n",
      "├─────┼─────┼──────────┤\n",
      "│ X_0 │ Y_1 │   0.3000 │\n",
      "├─────┼─────┼──────────┤\n",
      "│ X_1 │ Y_0 │   0.2000 │\n",
      "├─────┼─────┼──────────┤\n",
      "│ X_1 │ Y_1 │   0.2000 │\n",
      "╘═════╧═════╧══════════╛\n"
     ]
    }
   ],
   "source": [
    "j2 = JPD(['X', 'Y'], [2, 2], np.array([6, 6, 4, 4]) / 20)\n",
    "print(j2)"
   ]
  },
  {
   "cell_type": "code",
   "execution_count": 60,
   "metadata": {},
   "outputs": [
    {
     "ename": "NameError",
     "evalue": "name 'marginal_distribution' is not defined",
     "output_type": "error",
     "traceback": [
      "\u001b[1;31m---------------------------------------------------------------------------\u001b[0m",
      "\u001b[1;31mNameError\u001b[0m                                 Traceback (most recent call last)",
      "\u001b[1;32m<ipython-input-60-589c833ac636>\u001b[0m in \u001b[0;36m<module>\u001b[1;34m()\u001b[0m\n\u001b[1;32m----> 1\u001b[1;33m \u001b[0mmarginal_distribution\u001b[0m\u001b[1;33m(\u001b[0m\u001b[0mvalues\u001b[0m\u001b[1;33m,\u001b[0m \u001b[0minplace\u001b[0m\u001b[1;33m=\u001b[0m\u001b[1;32mTrue\u001b[0m\u001b[1;33m)\u001b[0m \u001b[1;31m#False로 해주는 게 편함\u001b[0m\u001b[1;33m\u001b[0m\u001b[0m\n\u001b[0m",
      "\u001b[1;31mNameError\u001b[0m: name 'marginal_distribution' is not defined"
     ]
    }
   ],
   "source": [
    "marginal_distribution(values, inplace=True) #False로 해주는 게 편함"
   ]
  },
  {
   "cell_type": "code",
   "execution_count": null,
   "metadata": {},
   "outputs": [],
   "source": [
    "conditional_distribution(values, inplace=True)"
   ]
  },
  {
   "cell_type": "code",
   "execution_count": null,
   "metadata": {},
   "outputs": [],
   "source": [
    "m2x = j2.marginal_distribution(['X'], inplace=False)\n",
    "print(m2x)"
   ]
  },
  {
   "cell_type": "code",
   "execution_count": null,
   "metadata": {},
   "outputs": [],
   "source": [
    "m2y = j2.marginal_distribution(['Y'], inplace=False)\n",
    "print(m2y)"
   ]
  },
  {
   "cell_type": "code",
   "execution_count": null,
   "metadata": {},
   "outputs": [],
   "source": [
    "c1x0 = j2.conditional_distribution([('X', 0)], inplace=False)  # 사건 A에 대한 조건부 확률\n",
    "print(c1x0)"
   ]
  },
  {
   "cell_type": "code",
   "execution_count": null,
   "metadata": {},
   "outputs": [],
   "source": [
    "c1x1 = j2.conditional_distribution([('X', 1)], inplace=False)  \n",
    "print(c1x1)"
   ]
  },
  {
   "cell_type": "code",
   "execution_count": 61,
   "metadata": {},
   "outputs": [
    {
     "name": "stdout",
     "output_type": "stream",
     "text": [
      "╒═════╤════════╕\n",
      "│ X   │   P(X) │\n",
      "╞═════╪════════╡\n",
      "│ X_0 │ 0.6000 │\n",
      "├─────┼────────┤\n",
      "│ X_1 │ 0.4000 │\n",
      "╘═════╧════════╛\n"
     ]
    }
   ],
   "source": [
    "c1y0 = j2.conditional_distribution([('Y', 0)], inplace=False) # 사건 B에 대한 조건부 확률\n",
    "print(c1y0)"
   ]
  },
  {
   "cell_type": "code",
   "execution_count": 62,
   "metadata": {},
   "outputs": [
    {
     "name": "stdout",
     "output_type": "stream",
     "text": [
      "╒═════╤════════╕\n",
      "│ X   │   P(X) │\n",
      "╞═════╪════════╡\n",
      "│ X_0 │ 0.6000 │\n",
      "├─────┼────────┤\n",
      "│ X_1 │ 0.4000 │\n",
      "╘═════╧════════╛\n"
     ]
    }
   ],
   "source": [
    "c1y1 = j2.conditional_distribution([('Y', 1)], inplace=False)\n",
    "print(c1y1)"
   ]
  },
  {
   "cell_type": "code",
   "execution_count": null,
   "metadata": {},
   "outputs": [],
   "source": [
    "j2.check_independence(['X'], ['Y'])"
   ]
  },
  {
   "cell_type": "code",
   "execution_count": null,
   "metadata": {},
   "outputs": [],
   "source": []
  },
  {
   "cell_type": "code",
   "execution_count": null,
   "metadata": {},
   "outputs": [],
   "source": []
  }
 ],
 "metadata": {
  "kernelspec": {
   "display_name": "Python 3",
   "language": "python",
   "name": "python3"
  },
  "language_info": {
   "codemirror_mode": {
    "name": "ipython",
    "version": 3
   },
   "file_extension": ".py",
   "mimetype": "text/x-python",
   "name": "python",
   "nbconvert_exporter": "python",
   "pygments_lexer": "ipython3",
   "version": "3.6.4"
  }
 },
 "nbformat": 4,
 "nbformat_minor": 2
}
