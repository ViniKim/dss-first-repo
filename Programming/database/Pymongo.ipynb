{
 "cells": [
  {
   "cell_type": "code",
   "execution_count": 2,
   "metadata": {},
   "outputs": [],
   "source": [
    "import pymongo, requests"
   ]
  },
  {
   "cell_type": "code",
   "execution_count": 10,
   "metadata": {},
   "outputs": [
    {
     "data": {
      "text/plain": [
       "MongoClient(host=['13.124.198.120:27017'], document_class=dict, tz_aware=False, connect=True)"
      ]
     },
     "execution_count": 10,
     "metadata": {},
     "output_type": "execute_result"
    }
   ],
   "source": [
    "# server에 연결\n",
    "# client = pymongo.MongoClient('mongodb://13.209.15.89:27017')\n",
    "client = pymongo.MongoClient('mongodb://13.124.198.120:27017')\n",
    "client"
   ]
  },
  {
   "cell_type": "code",
   "execution_count": 11,
   "metadata": {},
   "outputs": [
    {
     "data": {
      "text/plain": [
       "Database(MongoClient(host=['13.124.198.120:27017'], document_class=dict, tz_aware=False, connect=True), 'dss')"
      ]
     },
     "execution_count": 11,
     "metadata": {},
     "output_type": "execute_result"
    }
   ],
   "source": [
    "# 데이터 베이스 선택\n",
    "db = client.dss\n",
    "db"
   ]
  },
  {
   "cell_type": "code",
   "execution_count": 12,
   "metadata": {},
   "outputs": [
    {
     "data": {
      "text/plain": [
       "['user', 'info1', 'info', 'articles']"
      ]
     },
     "execution_count": 12,
     "metadata": {},
     "output_type": "execute_result"
    }
   ],
   "source": [
    "# 데이터베이스의 컬렉션 리스트를 확인\n",
    "db.collection_names()"
   ]
  },
  {
   "cell_type": "code",
   "execution_count": 13,
   "metadata": {},
   "outputs": [
    {
     "data": {
      "text/plain": [
       "Collection(Database(MongoClient(host=['13.124.198.120:27017'], document_class=dict, tz_aware=False, connect=True), 'dss'), 'info')"
      ]
     },
     "execution_count": 13,
     "metadata": {},
     "output_type": "execute_result"
    }
   ],
   "source": [
    "# 컬렉션 선택\n",
    "collection = db.info\n",
    "collection"
   ]
  },
  {
   "cell_type": "markdown",
   "metadata": {},
   "source": [
    "##### Find"
   ]
  },
  {
   "cell_type": "code",
   "execution_count": 14,
   "metadata": {},
   "outputs": [
    {
     "data": {
      "text/plain": [
       "(dict,\n",
       " {'_id': ObjectId('5b5956e38bd3f44fdb1766a3'),\n",
       "  'comments': [{'msg': 'check', 'name': 'po'}],\n",
       "  'level': 4.0,\n",
       "  'subject': 'java'})"
      ]
     },
     "execution_count": 14,
     "metadata": {},
     "output_type": "execute_result"
    }
   ],
   "source": [
    "# find_one - 한 개의 도큐먼트를 가져옵니다.\n",
    "document = collection.find_one( { \"subject\":\"java\" })\n",
    "type(document), document"
   ]
  },
  {
   "cell_type": "code",
   "execution_count": 16,
   "metadata": {},
   "outputs": [
    {
     "data": {
      "text/plain": [
       "<pymongo.cursor.Cursor at 0xba77c18>"
      ]
     },
     "execution_count": 16,
     "metadata": {},
     "output_type": "execute_result"
    }
   ],
   "source": [
    "# find: 여러개의 도큐먼트를 가져옵니다\n",
    "documents = collection.find( { \"subject\":\"java\"})\n",
    "documents\n",
    "# cursor로 가져와서 데이터 사라짐"
   ]
  },
  {
   "cell_type": "code",
   "execution_count": 17,
   "metadata": {},
   "outputs": [
    {
     "data": {
      "text/plain": [
       "2"
      ]
     },
     "execution_count": 17,
     "metadata": {},
     "output_type": "execute_result"
    }
   ],
   "source": [
    "data = list(documents) # 이 순간 document cursor에서 데이터는 사라진 거\n",
    "len(data)"
   ]
  },
  {
   "cell_type": "code",
   "execution_count": 18,
   "metadata": {},
   "outputs": [
    {
     "data": {
      "text/plain": [
       "[{'_id': ObjectId('5b5956e38bd3f44fdb1766a3'),\n",
       "  'comments': [{'msg': 'check', 'name': 'po'}],\n",
       "  'level': 4.0,\n",
       "  'subject': 'java'},\n",
       " {'_id': ObjectId('5b5956e38bd3f44fdb1766a7'),\n",
       "  'comments': [{'msg': 'hello', 'name': 'alice'}],\n",
       "  'level': 4.0,\n",
       "  'subject': 'java'}]"
      ]
     },
     "execution_count": 18,
     "metadata": {},
     "output_type": "execute_result"
    }
   ],
   "source": [
    "data"
   ]
  },
  {
   "cell_type": "code",
   "execution_count": 19,
   "metadata": {},
   "outputs": [
    {
     "data": {
      "text/plain": [
       "[]"
      ]
     },
     "execution_count": 19,
     "metadata": {},
     "output_type": "execute_result"
    }
   ],
   "source": [
    "list(documents)"
   ]
  },
  {
   "cell_type": "code",
   "execution_count": 20,
   "metadata": {},
   "outputs": [
    {
     "data": {
      "text/plain": [
       "8"
      ]
     },
     "execution_count": 20,
     "metadata": {},
     "output_type": "execute_result"
    }
   ],
   "source": [
    "# count - documents의 갯수를 가져오는 함수\n",
    "documents = collection.find()\n",
    "documents.count()"
   ]
  },
  {
   "cell_type": "code",
   "execution_count": 23,
   "metadata": {},
   "outputs": [
    {
     "data": {
      "text/plain": [
       "[{'_id': ObjectId('5b5956e38bd3f44fdb1766a4'),\n",
       "  'comments': [{'msg': 'nice', 'name': 'jin'}],\n",
       "  'level': 3.0,\n",
       "  'subject': 'javascript'},\n",
       " {'_id': ObjectId('5b5956e38bd3f44fdb1766a5'),\n",
       "  'comments': [],\n",
       "  'level': 3.0,\n",
       "  'subject': 'html'},\n",
       " {'_id': ObjectId('5b5956e38bd3f44fdb1766a2'),\n",
       "  'comments': [{'msg': 'bad', 'name': 'jin'}, {'msg': 'hi', 'name': 'alice'}],\n",
       "  'level': 1.0,\n",
       "  'subject': 'r'},\n",
       " {'_id': ObjectId('5b5956e38bd3f44fdb1766a6'),\n",
       "  'comments': [{'msg': 'hello', 'name': 'alice'}],\n",
       "  'level': 1.0,\n",
       "  'subject': 'sass'},\n",
       " {'_id': ObjectId('5b5959d828ae716578113a09'),\n",
       "  'comments': [{'msg': 'hello', 'name': 'alice'}],\n",
       "  'level': 1.0,\n",
       "  'subject': 'less'}]"
      ]
     },
     "execution_count": 23,
     "metadata": {},
     "output_type": "execute_result"
    }
   ],
   "source": [
    "# sort - 정렬\n",
    "documents = collection.find( { \"level\":{\"$lte\":3} }).sort(\"level\", pymongo.DESCENDING) \n",
    "list(documents)"
   ]
  },
  {
   "cell_type": "code",
   "execution_count": 24,
   "metadata": {},
   "outputs": [
    {
     "data": {
      "text/plain": [
       "(-1, 1)"
      ]
     },
     "execution_count": 24,
     "metadata": {},
     "output_type": "execute_result"
    }
   ],
   "source": [
    "pymongo.DESCENDING, pymongo.ASCENDING # 왜 변수를 썼을까? 헷갈릴 수 있거나 가독성 때문에. 얘네는 변하지 않는 상수값임."
   ]
  },
  {
   "cell_type": "markdown",
   "metadata": {},
   "source": [
    "##### insert"
   ]
  },
  {
   "cell_type": "code",
   "execution_count": 25,
   "metadata": {},
   "outputs": [
    {
     "data": {
      "text/plain": [
       "<pymongo.results.InsertOneResult at 0xb9eec18>"
      ]
     },
     "execution_count": 25,
     "metadata": {},
     "output_type": "execute_result"
    }
   ],
   "source": [
    "# insert_one\n",
    "data = { \"subject\":\"css\", \"level\":1, \"comments\":[{\"name\":\"peter\", \"msg\":\"easy\"}]}\n",
    "result = collection.insert_one(data)\n",
    "result"
   ]
  },
  {
   "cell_type": "code",
   "execution_count": 26,
   "metadata": {},
   "outputs": [
    {
     "data": {
      "text/plain": [
       "ObjectId('5b5967c510ae9246f07239b3')"
      ]
     },
     "execution_count": 26,
     "metadata": {},
     "output_type": "execute_result"
    }
   ],
   "source": [
    "result.inserted_id"
   ]
  },
  {
   "cell_type": "code",
   "execution_count": 27,
   "metadata": {},
   "outputs": [
    {
     "data": {
      "text/plain": [
       "<pymongo.results.InsertManyResult at 0xba202d0>"
      ]
     },
     "execution_count": 27,
     "metadata": {},
     "output_type": "execute_result"
    }
   ],
   "source": [
    "# insert_many\n",
    "datas = [\n",
    "     { \"subject\":\"webpack\", \"level\":2, \"comments\":[{\"name\":\"peter\", \"msg\":\"easy\"}]},\n",
    "     { \"subject\":\"gulp\", \"level\":3, \"comments\":[{\"name\":\"peter\", \"msg\":\"easy\"}]},\n",
    "     { \"subject\":\"bower\", \"level\":4, \"comments\":[{\"name\":\"peter\", \"msg\":\"easy\"}]}\n",
    "]\n",
    "result = collection.insert_many(datas)\n",
    "result"
   ]
  },
  {
   "cell_type": "code",
   "execution_count": 28,
   "metadata": {},
   "outputs": [
    {
     "data": {
      "text/plain": [
       "[ObjectId('5b59687c10ae9246f07239b4'),\n",
       " ObjectId('5b59687c10ae9246f07239b5'),\n",
       " ObjectId('5b59687c10ae9246f07239b6')]"
      ]
     },
     "execution_count": 28,
     "metadata": {},
     "output_type": "execute_result"
    }
   ],
   "source": [
    "result.inserted_ids"
   ]
  },
  {
   "cell_type": "markdown",
   "metadata": {},
   "source": [
    "##### 직방 데이터 크롤링 후 저장"
   ]
  },
  {
   "cell_type": "code",
   "execution_count": 29,
   "metadata": {},
   "outputs": [
    {
     "data": {
      "text/plain": [
       "<Response [200]>"
      ]
     },
     "execution_count": 29,
     "metadata": {},
     "output_type": "execute_result"
    }
   ],
   "source": [
    "url = \"https://api.zigbang.com/v3/items?detail=true&item_ids=[12206760,12094036,12040375,12249273,11903344,12188931,12237028,12018148,12121895,12249788,12245412,12206334,12268514,12223277,12066414,12254456,12114469,12274901,12258318,11616136,12228027,12067179,12184743,12226910,12195037,11146143,12197969,12251354,12056487,12087003,12174430,12088100,12259470,12247416,12267757,12040464,12246351,12135221,12227516,12244636,12220890,12238625,12249804,12252070,12119008,12235456,12258942,12141726,12196362,12200175,12205782,12071490,12178704,12262708,12258898,12148952,12258356,12272428,12264126,12236302]\"\n",
    "response = requests.get(url)\n",
    "response"
   ]
  },
  {
   "cell_type": "code",
   "execution_count": 30,
   "metadata": {},
   "outputs": [
    {
     "data": {
      "text/plain": [
       "60"
      ]
     },
     "execution_count": 30,
     "metadata": {},
     "output_type": "execute_result"
    }
   ],
   "source": [
    "# parsing - [{},{},{},...]\n",
    "zigbang_dic_list = response.json().get(\"items\")\n",
    "len(zigbang_dic_list)"
   ]
  },
  {
   "cell_type": "code",
   "execution_count": 31,
   "metadata": {},
   "outputs": [
    {
     "data": {
      "text/plain": [
       "60"
      ]
     },
     "execution_count": 31,
     "metadata": {},
     "output_type": "execute_result"
    }
   ],
   "source": [
    "items = [item[\"item\"] for item in zigbang_dic_list]\n",
    "len(items)"
   ]
  },
  {
   "cell_type": "code",
   "execution_count": 32,
   "metadata": {
    "scrolled": true
   },
   "outputs": [
    {
     "data": {
      "text/plain": [
       "[{'_floor': '3층',\n",
       "  'address1': '서울시 관악구 봉천동',\n",
       "  'address2': '873-6',\n",
       "  'address3': None,\n",
       "  'agent_address1': '서울특별시 관악구 봉천동 885-20',\n",
       "  'agent_comment': '안녕하세요 친절하고 성실한 공인중개사 박재현실장입니다^^\\n저는 관악구에 오랫동안 거주하며 중개업무를 해왔습니다.\\n자격증을 보유한 부동산인으로서 제 이름을 걸고 전문성 있는 임차인의 가이드가 될 것을 약속합니다.\\n24시간 연중무휴 언제든지 전화or 문자주세요!\\n',\n",
       "  'agent_email': 'wkdidrh@naver.com',\n",
       "  'agent_lat': 37.483078002929695,\n",
       "  'agent_lng': 126.949256896973,\n",
       "  'agent_local1': '서울시',\n",
       "  'agent_local2': '관악구',\n",
       "  'agent_mobile': '0507-1280-3355',\n",
       "  'agent_name': '하늘공인중개사(김영진)',\n",
       "  'agent_no': 34118,\n",
       "  'agent_phone': '02-884-2131',\n",
       "  'bjd_code': '1162010100',\n",
       "  'bonbun_code': '873',\n",
       "  'bubun_code': '6',\n",
       "  'building': None,\n",
       "  'building_type': '다세대건물',\n",
       "  'contract': '서울특별시',\n",
       "  'deposit': 2000,\n",
       "  'description': '★월세 2000/30, 1000/40\\n★서울대입구역 도보7분거리 위치 \\n★실사진,실매물,싸이즈,가격대비 가성비 가장 좋습니다 \\n★내용/개별냉난방,에어컨,세탁기,냉장고,책상,옷장,싱크대,전기인덕션\\n★가격대비추천매물, 이매물은 망설임 없이 잡으셔야합니다\\n★주변에 서울대입구역,시장,영화관 및 편의시설과 인접해 있어 거주하시기 아주 좋습니다. \\n★매물근처는 유해업소가없고 거주하시기 아주 좋은 동네입니다\\n★즉시입주\\n\\n\\n\\n★100% 실매물입니다 .제가 하나하나 찾아보고 직접 찍은 겁니다^^허위매물근절!',\n",
       "  'description_og': '★월세 2000/30, 1000/40\\n★서울대입구역 도보7분거리 위치 \\n★실사진,실매물,싸이즈,가격대비 가성비 가장 좋습니다 \\n★내용/개별냉난방,에어컨,세탁기,냉장고,책상,옷장,싱크대,전기인덕션\\n★가격대비추천매물, 이매물은 망설임 없이 잡으셔야합니다\\n★주변에 서울대입구역,시장,영화관 및 편의시설과 인접해 있어 거주하시기 아주 좋습니다. \\n★매물근처는 유해업소가없고 거주하시기 아주 좋은 동네입니다\\n★즉시입주\\n\\n\\n\\n★100% 실매물입니다 .제가 하나하나 찾아보고 직접 찍은 겁니다^^허위매물근절!',\n",
       "  'elevator': '없음',\n",
       "  'floor': '3층',\n",
       "  'floor_all': '5층',\n",
       "  'id': 12206760,\n",
       "  'images': [{'count': 1,\n",
       "    'index': 0,\n",
       "    'url': 'https://ic.zigbang.com/ic/users/2531502/photos/uploads/59be72a77ca6d4bb72163cf67cdd5cb5a4fafab3.127697.JPG'},\n",
       "   {'count': 2,\n",
       "    'index': 1,\n",
       "    'url': 'https://ic.zigbang.com/ic/users/2531502/photos/uploads/e7ac8ee797e7799063cc5da444bf7966362c9a94.128057.JPG'},\n",
       "   {'count': 3,\n",
       "    'index': 2,\n",
       "    'url': 'https://ic.zigbang.com/ic/users/2531502/photos/uploads/e1333012c35037dd7e35943d36b8fafc236368a8.146247.JPG'},\n",
       "   {'count': 4,\n",
       "    'index': 3,\n",
       "    'url': 'https://ic.zigbang.com/ic/users/2531502/photos/uploads/81d20c0633226b7d9c83737dbcee804dc3753adf.138179.JPG'},\n",
       "   {'count': 5,\n",
       "    'index': 4,\n",
       "    'url': 'https://ic.zigbang.com/ic/users/2531502/photos/uploads/59579c4b0f7774203113e8e33959633b6c88898c.136973.JPG'},\n",
       "   {'count': 6,\n",
       "    'index': 5,\n",
       "    'url': 'https://ic.zigbang.com/ic/users/2531502/photos/uploads/1bbdd2bd0197702db64697e97e74bfd41a4a8933.78829.JPG'},\n",
       "   {'count': 7,\n",
       "    'index': 6,\n",
       "    'url': 'https://ic.zigbang.com/ic/users/2531502/photos/uploads/2a71160327663dc8dff08b4509d8fa59be13fa8e.94424.JPG'},\n",
       "   {'count': 8,\n",
       "    'index': 7,\n",
       "    'url': 'https://ic.zigbang.com/ic/users/2531502/photos/uploads/84907341eddcee2cb069a331e9be30fefb1489c6.126809.JPG'}],\n",
       "  'images_thumbnail': '/users/2531502/photos/uploads/59be72a77ca6d4bb72163cf67cdd5cb5a4fafab3.127697.JPG',\n",
       "  'is_deposit_only': False,\n",
       "  'is_direct': False,\n",
       "  'is_homepage': True,\n",
       "  'is_owner': False,\n",
       "  'is_premium': True,\n",
       "  'is_premium2': True,\n",
       "  'is_realestate': True,\n",
       "  'is_room': False,\n",
       "  'is_status_close': False,\n",
       "  'is_status_open': True,\n",
       "  'is_type_room': False,\n",
       "  'is_zzim': False,\n",
       "  'loan_text': '확인필요',\n",
       "  'local1': '서울시',\n",
       "  'local2': '관악구',\n",
       "  'local3': '봉천동',\n",
       "  'manage_cost': '6만원',\n",
       "  'manage_cost_inc': '수도,인터넷,TV',\n",
       "  'movein_date': '즉시입주',\n",
       "  'near_subways': '서울대입구역(2호선), 봉천역(2호선), 낙성대역(2호선)',\n",
       "  'options': '에어컨,냉장고,세탁기,인덕션,책상,책장,침대,옷장,신발장,싱크대',\n",
       "  'original_user_phone': '010-4742-0538',\n",
       "  'parking': '가능',\n",
       "  'pets_text': '확인필요',\n",
       "  'premium_items': [],\n",
       "  'profile_url': 'http://ic.zigbang.com/vp/profile/2531502/3f5158d79c7f7a1d90db02a062a85836cd5ee9ac.jpg',\n",
       "  'random_location': '37.48273698614423,126.94976351357631',\n",
       "  'read_updated_at': '2001-01-01',\n",
       "  'rent': 30,\n",
       "  'room_direction_text': '확인필요',\n",
       "  'room_gubun_code': '01',\n",
       "  'room_type': '오픈형 원룸',\n",
       "  'room_type_code': '01',\n",
       "  'secret_memo': None,\n",
       "  'size': 5,\n",
       "  'size_contract': 0,\n",
       "  'size_m2': 16.53,\n",
       "  'size_m2_contract': '-',\n",
       "  'status': '광고중',\n",
       "  'title': '❤서두르셔야합니다❤ 추천매물!',\n",
       "  'updated_at': '8일 전',\n",
       "  'updated_at2': '2018-07-18',\n",
       "  'user_email': 'wkdidrh@naver.com',\n",
       "  'user_has_no_penalty': True,\n",
       "  'user_has_penalty': False,\n",
       "  'user_intro': '',\n",
       "  'user_mobile': '0507-1281-7336',\n",
       "  'user_name': '소속공인중개사 박재현',\n",
       "  'user_no': 2531502,\n",
       "  'user_phone': '0507-1281-7336',\n",
       "  'view_count': 118},\n",
       " {'_floor': '3층',\n",
       "  'address1': '서울시 관악구 봉천동',\n",
       "  'address2': '886-30',\n",
       "  'address3': None,\n",
       "  'agent_address1': '서울특별시 관악구 봉천동 885-20',\n",
       "  'agent_comment': '',\n",
       "  'agent_email': 'wkdidrh@naver.com',\n",
       "  'agent_lat': 37.483078002929695,\n",
       "  'agent_lng': 126.949256896973,\n",
       "  'agent_local1': '서울시',\n",
       "  'agent_local2': '관악구',\n",
       "  'agent_mobile': '0507-1280-3355',\n",
       "  'agent_name': '하늘공인중개사(김영진)',\n",
       "  'agent_no': 36229,\n",
       "  'agent_phone': '02-884-2131',\n",
       "  'bjd_code': '1162010100',\n",
       "  'bonbun_code': '886',\n",
       "  'bubun_code': '30',\n",
       "  'building': None,\n",
       "  'building_type': '다세대건물',\n",
       "  'contract': '서울특별시',\n",
       "  'deposit': 3000,\n",
       "  'description': '☞위치☜\\n\\n서울대입구역 초 역세권\\n\\n\\n☞편의시설☜\\n\\n초역세권,대형마트,영화관,쇼핑타운,편의점,세탁소등\\n모든 편의시설이 즐비한 곳에 위치한 원룸입니다.\\n\\n\\n☞특이사항☜\\n\\n▶신축급원룸으로 붙박이장, 빌트윈으로 깔끔하구요.\\n\\n특히 여성분들이 좋아하시는 원룸입니다.\\n\\n\\n▶채광이 좋아서 통풍도 잘 되고 특히 집이 환하고 이쁩니다. \\n\\n\\n▶더불어 여성안심귀갓길로 밤에 혼자다니는 여성분들을 위해 \\n\\n완벽한 보안시설부터 24시간 365일 풀가동으로 돌아가는 \\n\\nCCTV가 설치되어있습니다.\\n\\n\\n▶이 매물은 세입자와 협의하여 1~3개월 거주가능합니다\\n\\n\\t\\n★저희 하늘공인중개사 사무소에서는 손님에게 정직하고 친절하게 상담하고 모십니다.\\n\\n★1억원 보증보험가입되어있는 부동산으로서 안전한 중개를 약속 드립니다.\\n\\n★차량픽업서비스로 더욱 편하고 안락한 중개를 약속 드립니다.\\n\\n\\n',\n",
       "  'description_og': '☞위치☜\\n\\n서울대입구역 초 역세권\\n\\n\\n☞편의시설☜\\n\\n초역세권,대형마트,영화관,쇼핑타운,편의점,세탁소등\\n모든 편의시설이 즐비한 곳에 위치한 원룸입니다.\\n\\n\\n☞특이사항☜\\n\\n▶신축급원룸으로 붙박이장, 빌트윈으로 깔끔하구요.\\n\\n특히 여성분들이 좋아하시는 원룸입니다.\\n\\n\\n▶채광이 좋아서 통풍도 잘 되고 특히 집이 환하고 이쁩니다. \\n\\n\\n▶더불어 여성안심귀갓길로 밤에 혼자다니는 여성분들을 위해 \\n\\n완벽한 보안시설부터 24시간 365일 풀가동으로 돌아가는 \\n\\nCCTV가 설치되어있습니다.\\n\\n\\n▶이 매물은 세입자와 협의하여 1~3개월 거주가능합니다\\n\\n\\t\\n★저희 하늘공인중개사 사무소에서는 손님에게 정직하고 친절하게 상담하고 모십니다.\\n\\n★1억원 보증보험가입되어있는 부동산으로서 안전한 중개를 약속 드립니다.\\n\\n★차량픽업서비스로 더욱 편하고 안락한 중개를 약속 드립니다.\\n\\n\\n',\n",
       "  'elevator': '없음',\n",
       "  'floor': '3층',\n",
       "  'floor_all': '3층',\n",
       "  'id': 12094036,\n",
       "  'images': [{'count': 1,\n",
       "    'index': 0,\n",
       "    'url': 'https://ic.zigbang.com/ic/users/2531502/photos/uploads/bc83844cbb0356846c5c5d60865332a3bd1b96ad.103239.JPG'},\n",
       "   {'count': 2,\n",
       "    'index': 1,\n",
       "    'url': 'https://ic.zigbang.com/ic/users/2531502/photos/uploads/cfc1cbdcfcf2e90844b85cdeec3bbb99bbc3a6e0.102960.JPG'},\n",
       "   {'count': 3,\n",
       "    'index': 2,\n",
       "    'url': 'https://ic.zigbang.com/ic/users/2531502/photos/uploads/8640f922d1edf8e1b776ab82f033c792be7bbe83.103845.JPG'},\n",
       "   {'count': 4,\n",
       "    'index': 3,\n",
       "    'url': 'https://ic.zigbang.com/ic/users/2531502/photos/uploads/736e1d7ea162d09cf99f9f3b574b1c94eec3a4d4.103414.JPG'},\n",
       "   {'count': 5,\n",
       "    'index': 4,\n",
       "    'url': 'https://ic.zigbang.com/ic/users/2531502/photos/uploads/6ff95c937f2060787601e36eb1bba9e0f05a94c1.113290.JPG'},\n",
       "   {'count': 6,\n",
       "    'index': 5,\n",
       "    'url': 'https://ic.zigbang.com/ic/users/2531502/photos/uploads/cdbee5cbfd03ea7fd8bb7fc1a2d573ff5b853307.100990.JPG'},\n",
       "   {'count': 7,\n",
       "    'index': 6,\n",
       "    'url': 'https://ic.zigbang.com/ic/users/2531502/photos/uploads/47354b9b22cc68b2ef4ad910afab06563003df9a.129429.JPG'}],\n",
       "  'images_thumbnail': '/users/2531502/photos/uploads/bc83844cbb0356846c5c5d60865332a3bd1b96ad.103239.JPG',\n",
       "  'is_deposit_only': False,\n",
       "  'is_direct': False,\n",
       "  'is_homepage': True,\n",
       "  'is_owner': False,\n",
       "  'is_premium': True,\n",
       "  'is_premium2': True,\n",
       "  'is_realestate': True,\n",
       "  'is_room': False,\n",
       "  'is_status_close': False,\n",
       "  'is_status_open': True,\n",
       "  'is_type_room': False,\n",
       "  'is_zzim': False,\n",
       "  'loan_text': '확인필요',\n",
       "  'local1': '서울시',\n",
       "  'local2': '관악구',\n",
       "  'local3': '봉천동',\n",
       "  'manage_cost': '10만원',\n",
       "  'manage_cost_inc': '수도,인터넷,TV',\n",
       "  'movein_date': '즉시입주',\n",
       "  'near_subways': '서울대입구역(2호선), 봉천역(2호선), 숭실대입구역(7호선)',\n",
       "  'options': '에어컨,냉장고,세탁기,인덕션,침대,옷장,신발장,싱크대',\n",
       "  'original_user_phone': '010-5383-4427',\n",
       "  'parking': '가능',\n",
       "  'pets_text': '확인필요',\n",
       "  'premium_items': [],\n",
       "  'profile_url': 'http://ic.zigbang.com/vp/profile/2531502/3f5158d79c7f7a1d90db02a062a85836cd5ee9ac.jpg',\n",
       "  'random_location': '37.4838139557147,126.94839105686314',\n",
       "  'read_updated_at': '2001-01-01',\n",
       "  'rent': 35,\n",
       "  'room_direction_text': '확인필요',\n",
       "  'room_gubun_code': '01',\n",
       "  'room_type': '복층형 원룸',\n",
       "  'room_type_code': '03',\n",
       "  'secret_memo': None,\n",
       "  'size': 6,\n",
       "  'size_contract': 0,\n",
       "  'size_m2': 19.83,\n",
       "  'size_m2_contract': '-',\n",
       "  'status': '광고중',\n",
       "  'title': '★★신축급,풀옵션,올화이트,채광굿,보안굿,여성들이 좋아하실방!!!',\n",
       "  'updated_at': '20일 전',\n",
       "  'updated_at2': '2018-07-06',\n",
       "  'user_email': 'wkdidrh@naver.com',\n",
       "  'user_has_no_penalty': True,\n",
       "  'user_has_penalty': False,\n",
       "  'user_intro': '',\n",
       "  'user_mobile': '0507-1282-9978',\n",
       "  'user_name': '소속공인중개사 서민희',\n",
       "  'user_no': 2531502,\n",
       "  'user_phone': '0507-1282-9978',\n",
       "  'view_count': 1967}]"
      ]
     },
     "execution_count": 32,
     "metadata": {},
     "output_type": "execute_result"
    }
   ],
   "source": [
    "items[:2]"
   ]
  },
  {
   "cell_type": "code",
   "execution_count": 33,
   "metadata": {},
   "outputs": [
    {
     "data": {
      "text/plain": [
       "<pymongo.results.InsertManyResult at 0xc5c5630>"
      ]
     },
     "execution_count": 33,
     "metadata": {},
     "output_type": "execute_result"
    }
   ],
   "source": [
    "zigbang = client.crawling.zigbang\n",
    "result = zigbang.insert_many(items)\n",
    "result"
   ]
  },
  {
   "cell_type": "code",
   "execution_count": 34,
   "metadata": {},
   "outputs": [
    {
     "data": {
      "text/plain": [
       "<pymongo.cursor.Cursor at 0xc5cd5c0>"
      ]
     },
     "execution_count": 34,
     "metadata": {},
     "output_type": "execute_result"
    }
   ],
   "source": [
    "# 렌트비용이 50 이하인 데이터 추출\n",
    "QUERY = { \"rent\": {\"$lte\":50}}\n",
    "documents = zigbang.find(QUERY)\n",
    "documents"
   ]
  },
  {
   "cell_type": "code",
   "execution_count": 35,
   "metadata": {},
   "outputs": [
    {
     "data": {
      "text/plain": [
       "205"
      ]
     },
     "execution_count": 35,
     "metadata": {},
     "output_type": "execute_result"
    }
   ],
   "source": [
    "data = list(documents)\n",
    "len(data)"
   ]
  },
  {
   "cell_type": "code",
   "execution_count": 36,
   "metadata": {},
   "outputs": [
    {
     "data": {
      "text/html": [
       "<div>\n",
       "<style scoped>\n",
       "    .dataframe tbody tr th:only-of-type {\n",
       "        vertical-align: middle;\n",
       "    }\n",
       "\n",
       "    .dataframe tbody tr th {\n",
       "        vertical-align: top;\n",
       "    }\n",
       "\n",
       "    .dataframe thead th {\n",
       "        text-align: right;\n",
       "    }\n",
       "</style>\n",
       "<table border=\"1\" class=\"dataframe\">\n",
       "  <thead>\n",
       "    <tr style=\"text-align: right;\">\n",
       "      <th></th>\n",
       "      <th>_floor</th>\n",
       "      <th>_id</th>\n",
       "      <th>address1</th>\n",
       "      <th>address2</th>\n",
       "      <th>address3</th>\n",
       "      <th>agent_address1</th>\n",
       "      <th>agent_comment</th>\n",
       "      <th>agent_email</th>\n",
       "      <th>agent_lat</th>\n",
       "      <th>agent_lng</th>\n",
       "      <th>...</th>\n",
       "      <th>updated_at2</th>\n",
       "      <th>user_email</th>\n",
       "      <th>user_has_no_penalty</th>\n",
       "      <th>user_has_penalty</th>\n",
       "      <th>user_intro</th>\n",
       "      <th>user_mobile</th>\n",
       "      <th>user_name</th>\n",
       "      <th>user_no</th>\n",
       "      <th>user_phone</th>\n",
       "      <th>view_count</th>\n",
       "    </tr>\n",
       "  </thead>\n",
       "  <tbody>\n",
       "    <tr>\n",
       "      <th>200</th>\n",
       "      <td>3층</td>\n",
       "      <td>5b596bf610ae9246f07239ed</td>\n",
       "      <td>서울시 관악구 봉천동</td>\n",
       "      <td>1604-16</td>\n",
       "      <td>None</td>\n",
       "      <td>서울특별시 관악구 남부순환로187길 9</td>\n",
       "      <td>허위매물에 지치시죠?\\n부동산에 많이 당하셨죠?\\n부동산은 정해진 평균시세가 있습니...</td>\n",
       "      <td>underboy2@naver.com</td>\n",
       "      <td>37.485256</td>\n",
       "      <td>126.933372</td>\n",
       "      <td>...</td>\n",
       "      <td>2018-07-24</td>\n",
       "      <td>underboy2@naver.com</td>\n",
       "      <td>True</td>\n",
       "      <td>False</td>\n",
       "      <td></td>\n",
       "      <td>0507-1280-8468</td>\n",
       "      <td>중개보조원 빈지현</td>\n",
       "      <td>4272410</td>\n",
       "      <td>0507-1280-8468</td>\n",
       "      <td>84</td>\n",
       "    </tr>\n",
       "    <tr>\n",
       "      <th>201</th>\n",
       "      <td>3층</td>\n",
       "      <td>5b596bf610ae9246f07239ef</td>\n",
       "      <td>서울시 관악구 봉천동</td>\n",
       "      <td>854-8</td>\n",
       "      <td>None</td>\n",
       "      <td>서울특별시 관악구 관악로12길 58-2</td>\n",
       "      <td>✔ 퇴근후/주말 언제든 전화나 문자주시면 친절한 상담후 방 보여드려요 \\n\\n✔ \"...</td>\n",
       "      <td>yeho207@naver.com</td>\n",
       "      <td>37.477585</td>\n",
       "      <td>126.955444</td>\n",
       "      <td>...</td>\n",
       "      <td>2018-07-24</td>\n",
       "      <td>yeho207@naver.com</td>\n",
       "      <td>True</td>\n",
       "      <td>False</td>\n",
       "      <td></td>\n",
       "      <td>0507-1281-0532</td>\n",
       "      <td>중개보조원 주윤수</td>\n",
       "      <td>1560562</td>\n",
       "      <td>0507-1281-0532</td>\n",
       "      <td>27</td>\n",
       "    </tr>\n",
       "    <tr>\n",
       "      <th>202</th>\n",
       "      <td>1층</td>\n",
       "      <td>5b596bf610ae9246f07239f0</td>\n",
       "      <td>서울시 동작구 상도동</td>\n",
       "      <td>126-49</td>\n",
       "      <td>None</td>\n",
       "      <td>서울특별시 동작구 상도로15길 112, 101호(상도동)</td>\n",
       "      <td>✔허위매물없는 1억원 책임보헙 가입 되있는 안전한 부동산\\n\\n✔ 전화,문자,카톡 ...</td>\n",
       "      <td>elf2493@hanmail.net</td>\n",
       "      <td>37.504440</td>\n",
       "      <td>126.936951</td>\n",
       "      <td>...</td>\n",
       "      <td>2018-07-26</td>\n",
       "      <td>jilstt@naver.com</td>\n",
       "      <td>True</td>\n",
       "      <td>False</td>\n",
       "      <td>동작구 7호선, 1호선 풀옵션 원룸, 투룸 최다보유 우주부동산입니다. 합리적이고 알...</td>\n",
       "      <td>0507-1280-3389</td>\n",
       "      <td>중개보조원 최재열</td>\n",
       "      <td>597303</td>\n",
       "      <td>0507-1280-3389</td>\n",
       "      <td>5</td>\n",
       "    </tr>\n",
       "    <tr>\n",
       "      <th>203</th>\n",
       "      <td>4층</td>\n",
       "      <td>5b596bf610ae9246f07239f1</td>\n",
       "      <td>서울시 관악구 봉천동</td>\n",
       "      <td>1598-14</td>\n",
       "      <td>None</td>\n",
       "      <td>서울특별시 관악구 남부순환로167길 14</td>\n",
       "      <td>💚편한위치와 계신곳을 말씀해주시면 바로 가겠습니다 !!💚\\n💚마음에 드시는 매물이 ...</td>\n",
       "      <td>nam76769470@gmail.com</td>\n",
       "      <td>37.484226</td>\n",
       "      <td>126.923531</td>\n",
       "      <td>...</td>\n",
       "      <td>2018-07-25</td>\n",
       "      <td>nam76769470@gmail.com</td>\n",
       "      <td>True</td>\n",
       "      <td>False</td>\n",
       "      <td></td>\n",
       "      <td>0507-1280-5213</td>\n",
       "      <td>중개보조원 안진수</td>\n",
       "      <td>3383939</td>\n",
       "      <td>0507-1280-5213</td>\n",
       "      <td>180</td>\n",
       "    </tr>\n",
       "    <tr>\n",
       "      <th>204</th>\n",
       "      <td>3층</td>\n",
       "      <td>5b596bf610ae9246f07239f2</td>\n",
       "      <td>서울시 관악구 봉천동</td>\n",
       "      <td>1516-1</td>\n",
       "      <td>None</td>\n",
       "      <td>서울특별시 관악구 신림동 1410-14</td>\n",
       "      <td>\\n궁금하신점 있으시면 24시간 언제든지 연락주세요!! \\n\\n친절하게 상담해드리겠...</td>\n",
       "      <td>dreamykyun@hanmail.net</td>\n",
       "      <td>37.485039</td>\n",
       "      <td>126.933975</td>\n",
       "      <td>...</td>\n",
       "      <td>2018-07-22</td>\n",
       "      <td>dreamykyun@hanmail.net</td>\n",
       "      <td>True</td>\n",
       "      <td>False</td>\n",
       "      <td>관악지역 직방의 NO.1 안심중개사, [박사공인중개사] 입니다!\\n\\n고객 만족 가...</td>\n",
       "      <td>0507-1281-1226</td>\n",
       "      <td>중개보조원 신상목</td>\n",
       "      <td>261091</td>\n",
       "      <td>0507-1281-1226</td>\n",
       "      <td>99</td>\n",
       "    </tr>\n",
       "  </tbody>\n",
       "</table>\n",
       "<p>5 rows × 82 columns</p>\n",
       "</div>"
      ],
      "text/plain": [
       "    _floor                       _id     address1 address2 address3  \\\n",
       "200     3층  5b596bf610ae9246f07239ed  서울시 관악구 봉천동  1604-16     None   \n",
       "201     3층  5b596bf610ae9246f07239ef  서울시 관악구 봉천동    854-8     None   \n",
       "202     1층  5b596bf610ae9246f07239f0  서울시 동작구 상도동   126-49     None   \n",
       "203     4층  5b596bf610ae9246f07239f1  서울시 관악구 봉천동  1598-14     None   \n",
       "204     3층  5b596bf610ae9246f07239f2  서울시 관악구 봉천동   1516-1     None   \n",
       "\n",
       "                      agent_address1  \\\n",
       "200            서울특별시 관악구 남부순환로187길 9   \n",
       "201            서울특별시 관악구 관악로12길 58-2   \n",
       "202  서울특별시 동작구 상도로15길 112, 101호(상도동)   \n",
       "203           서울특별시 관악구 남부순환로167길 14   \n",
       "204            서울특별시 관악구 신림동 1410-14   \n",
       "\n",
       "                                         agent_comment  \\\n",
       "200  허위매물에 지치시죠?\\n부동산에 많이 당하셨죠?\\n부동산은 정해진 평균시세가 있습니...   \n",
       "201  ✔ 퇴근후/주말 언제든 전화나 문자주시면 친절한 상담후 방 보여드려요 \\n\\n✔ \"...   \n",
       "202  ✔허위매물없는 1억원 책임보헙 가입 되있는 안전한 부동산\\n\\n✔ 전화,문자,카톡 ...   \n",
       "203  💚편한위치와 계신곳을 말씀해주시면 바로 가겠습니다 !!💚\\n💚마음에 드시는 매물이 ...   \n",
       "204  \\n궁금하신점 있으시면 24시간 언제든지 연락주세요!! \\n\\n친절하게 상담해드리겠...   \n",
       "\n",
       "                agent_email  agent_lat   agent_lng    ...     updated_at2  \\\n",
       "200     underboy2@naver.com  37.485256  126.933372    ...      2018-07-24   \n",
       "201       yeho207@naver.com  37.477585  126.955444    ...      2018-07-24   \n",
       "202     elf2493@hanmail.net  37.504440  126.936951    ...      2018-07-26   \n",
       "203   nam76769470@gmail.com  37.484226  126.923531    ...      2018-07-25   \n",
       "204  dreamykyun@hanmail.net  37.485039  126.933975    ...      2018-07-22   \n",
       "\n",
       "                 user_email user_has_no_penalty user_has_penalty  \\\n",
       "200     underboy2@naver.com                True            False   \n",
       "201       yeho207@naver.com                True            False   \n",
       "202        jilstt@naver.com                True            False   \n",
       "203   nam76769470@gmail.com                True            False   \n",
       "204  dreamykyun@hanmail.net                True            False   \n",
       "\n",
       "                                            user_intro     user_mobile  \\\n",
       "200                                                     0507-1280-8468   \n",
       "201                                                     0507-1281-0532   \n",
       "202  동작구 7호선, 1호선 풀옵션 원룸, 투룸 최다보유 우주부동산입니다. 합리적이고 알...  0507-1280-3389   \n",
       "203                                                     0507-1280-5213   \n",
       "204  관악지역 직방의 NO.1 안심중개사, [박사공인중개사] 입니다!\\n\\n고객 만족 가...  0507-1281-1226   \n",
       "\n",
       "     user_name  user_no      user_phone view_count  \n",
       "200  중개보조원 빈지현  4272410  0507-1280-8468         84  \n",
       "201  중개보조원 주윤수  1560562  0507-1281-0532         27  \n",
       "202  중개보조원 최재열   597303  0507-1280-3389          5  \n",
       "203  중개보조원 안진수  3383939  0507-1280-5213        180  \n",
       "204  중개보조원 신상목   261091  0507-1281-1226         99  \n",
       "\n",
       "[5 rows x 82 columns]"
      ]
     },
     "execution_count": 36,
     "metadata": {},
     "output_type": "execute_result"
    }
   ],
   "source": [
    "# 판다스의 데이터 프레임으로 만들어 보겠습니다\n",
    "df = pd.DataFrame(data)\n",
    "df.tail()"
   ]
  },
  {
   "cell_type": "code",
   "execution_count": 38,
   "metadata": {},
   "outputs": [
    {
     "data": {
      "text/html": [
       "<div>\n",
       "<style scoped>\n",
       "    .dataframe tbody tr th:only-of-type {\n",
       "        vertical-align: middle;\n",
       "    }\n",
       "\n",
       "    .dataframe tbody tr th {\n",
       "        vertical-align: top;\n",
       "    }\n",
       "\n",
       "    .dataframe thead th {\n",
       "        text-align: right;\n",
       "    }\n",
       "</style>\n",
       "<table border=\"1\" class=\"dataframe\">\n",
       "  <thead>\n",
       "    <tr style=\"text-align: right;\">\n",
       "      <th></th>\n",
       "      <th>deposit</th>\n",
       "      <th>rent</th>\n",
       "      <th>options</th>\n",
       "      <th>size</th>\n",
       "    </tr>\n",
       "  </thead>\n",
       "  <tbody>\n",
       "    <tr>\n",
       "      <th>200</th>\n",
       "      <td>2000</td>\n",
       "      <td>35</td>\n",
       "      <td>냉장고,세탁기,인덕션,전자레인지,옷장,신발장,싱크대</td>\n",
       "      <td>9.0</td>\n",
       "    </tr>\n",
       "    <tr>\n",
       "      <th>201</th>\n",
       "      <td>200</td>\n",
       "      <td>50</td>\n",
       "      <td>에어컨,냉장고,세탁기,인덕션,책상,책장,옷장,신발장,싱크대</td>\n",
       "      <td>6.0</td>\n",
       "    </tr>\n",
       "    <tr>\n",
       "      <th>202</th>\n",
       "      <td>300</td>\n",
       "      <td>42</td>\n",
       "      <td>에어컨,냉장고,세탁기,인덕션,전자레인지,책상,책장,옷장,신발장,싱크대</td>\n",
       "      <td>4.5</td>\n",
       "    </tr>\n",
       "    <tr>\n",
       "      <th>203</th>\n",
       "      <td>100</td>\n",
       "      <td>27</td>\n",
       "      <td>에어컨,냉장고,세탁기,가스레인지,전자레인지,책상,책장,침대,옷장,신발장,싱크대</td>\n",
       "      <td>6.0</td>\n",
       "    </tr>\n",
       "    <tr>\n",
       "      <th>204</th>\n",
       "      <td>23000</td>\n",
       "      <td>0</td>\n",
       "      <td>에어컨,냉장고,세탁기,인덕션,신발장,싱크대</td>\n",
       "      <td>14.0</td>\n",
       "    </tr>\n",
       "  </tbody>\n",
       "</table>\n",
       "</div>"
      ],
      "text/plain": [
       "     deposit  rent                                      options  size\n",
       "200     2000    35                 냉장고,세탁기,인덕션,전자레인지,옷장,신발장,싱크대   9.0\n",
       "201      200    50             에어컨,냉장고,세탁기,인덕션,책상,책장,옷장,신발장,싱크대   6.0\n",
       "202      300    42       에어컨,냉장고,세탁기,인덕션,전자레인지,책상,책장,옷장,신발장,싱크대   4.5\n",
       "203      100    27  에어컨,냉장고,세탁기,가스레인지,전자레인지,책상,책장,침대,옷장,신발장,싱크대   6.0\n",
       "204    23000     0                      에어컨,냉장고,세탁기,인덕션,신발장,싱크대  14.0"
      ]
     },
     "execution_count": 38,
     "metadata": {},
     "output_type": "execute_result"
    }
   ],
   "source": [
    "filtered_df = df[[\"deposit\",\"rent\",\"options\",\"size\"]]\n",
    "filtered_df.tail()"
   ]
  },
  {
   "cell_type": "code",
   "execution_count": 41,
   "metadata": {},
   "outputs": [
    {
     "data": {
      "text/plain": [
       "<pymongo.cursor.Cursor at 0xe375e10>"
      ]
     },
     "execution_count": 41,
     "metadata": {},
     "output_type": "execute_result"
    }
   ],
   "source": [
    "QUERY = { \"rent\": {\"$lte\":50}}\n",
    "documents = zigbang.find(QUERY, {\"_id\":False, \"deposit\":True, \"rent\":True, \"options\":True, \"size\":True})\n",
    "documents"
   ]
  },
  {
   "cell_type": "code",
   "execution_count": 42,
   "metadata": {},
   "outputs": [
    {
     "data": {
      "text/html": [
       "<div>\n",
       "<style scoped>\n",
       "    .dataframe tbody tr th:only-of-type {\n",
       "        vertical-align: middle;\n",
       "    }\n",
       "\n",
       "    .dataframe tbody tr th {\n",
       "        vertical-align: top;\n",
       "    }\n",
       "\n",
       "    .dataframe thead th {\n",
       "        text-align: right;\n",
       "    }\n",
       "</style>\n",
       "<table border=\"1\" class=\"dataframe\">\n",
       "  <thead>\n",
       "    <tr style=\"text-align: right;\">\n",
       "      <th></th>\n",
       "      <th>deposit</th>\n",
       "      <th>options</th>\n",
       "      <th>rent</th>\n",
       "      <th>size</th>\n",
       "    </tr>\n",
       "  </thead>\n",
       "  <tbody>\n",
       "    <tr>\n",
       "      <th>200</th>\n",
       "      <td>2000</td>\n",
       "      <td>냉장고,세탁기,인덕션,전자레인지,옷장,신발장,싱크대</td>\n",
       "      <td>35</td>\n",
       "      <td>9.0</td>\n",
       "    </tr>\n",
       "    <tr>\n",
       "      <th>201</th>\n",
       "      <td>200</td>\n",
       "      <td>에어컨,냉장고,세탁기,인덕션,책상,책장,옷장,신발장,싱크대</td>\n",
       "      <td>50</td>\n",
       "      <td>6.0</td>\n",
       "    </tr>\n",
       "    <tr>\n",
       "      <th>202</th>\n",
       "      <td>300</td>\n",
       "      <td>에어컨,냉장고,세탁기,인덕션,전자레인지,책상,책장,옷장,신발장,싱크대</td>\n",
       "      <td>42</td>\n",
       "      <td>4.5</td>\n",
       "    </tr>\n",
       "    <tr>\n",
       "      <th>203</th>\n",
       "      <td>100</td>\n",
       "      <td>에어컨,냉장고,세탁기,가스레인지,전자레인지,책상,책장,침대,옷장,신발장,싱크대</td>\n",
       "      <td>27</td>\n",
       "      <td>6.0</td>\n",
       "    </tr>\n",
       "    <tr>\n",
       "      <th>204</th>\n",
       "      <td>23000</td>\n",
       "      <td>에어컨,냉장고,세탁기,인덕션,신발장,싱크대</td>\n",
       "      <td>0</td>\n",
       "      <td>14.0</td>\n",
       "    </tr>\n",
       "  </tbody>\n",
       "</table>\n",
       "</div>"
      ],
      "text/plain": [
       "     deposit                                      options  rent  size\n",
       "200     2000                 냉장고,세탁기,인덕션,전자레인지,옷장,신발장,싱크대    35   9.0\n",
       "201      200             에어컨,냉장고,세탁기,인덕션,책상,책장,옷장,신발장,싱크대    50   6.0\n",
       "202      300       에어컨,냉장고,세탁기,인덕션,전자레인지,책상,책장,옷장,신발장,싱크대    42   4.5\n",
       "203      100  에어컨,냉장고,세탁기,가스레인지,전자레인지,책상,책장,침대,옷장,신발장,싱크대    27   6.0\n",
       "204    23000                      에어컨,냉장고,세탁기,인덕션,신발장,싱크대     0  14.0"
      ]
     },
     "execution_count": 42,
     "metadata": {},
     "output_type": "execute_result"
    }
   ],
   "source": [
    "df = pd.DataFrame(list(documents))\n",
    "df.tail()"
   ]
  },
  {
   "cell_type": "code",
   "execution_count": 43,
   "metadata": {},
   "outputs": [],
   "source": [
    "# delete - database\n",
    "client.drop_database(\"crawling\")"
   ]
  },
  {
   "cell_type": "code",
   "execution_count": 44,
   "metadata": {},
   "outputs": [
    {
     "data": {
      "text/plain": [
       "{'code': 26, 'errmsg': 'ns not found', 'ok': 0.0}"
      ]
     },
     "execution_count": 44,
     "metadata": {},
     "output_type": "execute_result"
    }
   ],
   "source": [
    "client.crawling.drop_collection(\"zigbang\")"
   ]
  },
  {
   "cell_type": "code",
   "execution_count": null,
   "metadata": {},
   "outputs": [],
   "source": []
  }
 ],
 "metadata": {
  "kernelspec": {
   "display_name": "Python 3",
   "language": "python",
   "name": "python3"
  },
  "language_info": {
   "codemirror_mode": {
    "name": "ipython",
    "version": 3
   },
   "file_extension": ".py",
   "mimetype": "text/x-python",
   "name": "python",
   "nbconvert_exporter": "python",
   "pygments_lexer": "ipython3",
   "version": "3.6.4"
  }
 },
 "nbformat": 4,
 "nbformat_minor": 2
}
