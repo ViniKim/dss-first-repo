{
 "cells": [
  {
   "cell_type": "markdown",
   "metadata": {},
   "source": [
    "#### Mode\n",
    "- 명령모드\n",
    "- 편집모드"
   ]
  },
  {
   "cell_type": "markdown",
   "metadata": {},
   "source": [
    "Markdown\n",
    "- heading : '#'\n",
    "- 인용 : '>'\n",
    "- 리스트 : '-', '*'\n",
    "- 코드 : ``` ```\n",
    "- 링크 : [text](url_link)\n",
    "- 가로선 : ---"
   ]
  },
  {
   "cell_type": "markdown",
   "metadata": {},
   "source": [
    "[Google](http://wwww.google.com)"
   ]
  },
  {
   "cell_type": "markdown",
   "metadata": {},
   "source": [
    "Magic Command\n",
    "- jupyter notebook에서 제공하는 기능\n",
    "- 파일 시스템에 대한 컨트롤 가능\n",
    "- 사용시 % 기호를 커멘트 앞에 붙여서 사용\n",
    "- %% 두개를 사용하면 모든 셀이 적용\n",
    "- pwd, ls, whos, reset, time, timeit, writefile, magic..."
   ]
  },
  {
   "cell_type": "code",
   "execution_count": 54,
   "metadata": {},
   "outputs": [
    {
     "data": {
      "text/plain": [
       "'C:\\\\'"
      ]
     },
     "execution_count": 54,
     "metadata": {},
     "output_type": "execute_result"
    }
   ],
   "source": [
    "%pwd"
   ]
  },
  {
   "cell_type": "code",
   "execution_count": 55,
   "metadata": {},
   "outputs": [],
   "source": [
    "a = 1"
   ]
  },
  {
   "cell_type": "code",
   "execution_count": 56,
   "metadata": {},
   "outputs": [
    {
     "name": "stdout",
     "output_type": "stream",
     "text": [
      "Variable   Type    Data/Info\n",
      "----------------------------\n",
      "a          int     1\n"
     ]
    }
   ],
   "source": [
    "%whos"
   ]
  },
  {
   "cell_type": "code",
   "execution_count": 57,
   "metadata": {},
   "outputs": [],
   "source": [
    "b = 2"
   ]
  },
  {
   "cell_type": "code",
   "execution_count": 58,
   "metadata": {},
   "outputs": [
    {
     "name": "stdout",
     "output_type": "stream",
     "text": [
      "Variable   Type    Data/Info\n",
      "----------------------------\n",
      "a          int     1\n",
      "b          int     2\n"
     ]
    }
   ],
   "source": [
    "%whos"
   ]
  },
  {
   "cell_type": "code",
   "execution_count": 64,
   "metadata": {},
   "outputs": [],
   "source": [
    "a = 1"
   ]
  },
  {
   "cell_type": "code",
   "execution_count": 65,
   "metadata": {},
   "outputs": [],
   "source": [
    "b = 2"
   ]
  },
  {
   "cell_type": "code",
   "execution_count": 66,
   "metadata": {},
   "outputs": [
    {
     "name": "stdout",
     "output_type": "stream",
     "text": [
      "Wall time: 0 ns\n"
     ]
    }
   ],
   "source": [
    "%time a=1"
   ]
  },
  {
   "cell_type": "code",
   "execution_count": 69,
   "metadata": {},
   "outputs": [
    {
     "name": "stdout",
     "output_type": "stream",
     "text": [
      "49.9 ns ± 7.95 ns per loop (mean ± std. dev. of 7 runs, 10000000 loops each)\n"
     ]
    }
   ],
   "source": [
    "%%timeit\n",
    "\n",
    "a=1"
   ]
  },
  {
   "cell_type": "code",
   "execution_count": 71,
   "metadata": {},
   "outputs": [
    {
     "name": "stdout",
     "output_type": "stream",
     "text": [
      "46.1 ns ± 9.58 ns per loop (mean ± std. dev. of 7 runs, 10000000 loops each)\n"
     ]
    }
   ],
   "source": [
    "%%timeit \n",
    "a=1"
   ]
  },
  {
   "cell_type": "code",
   "execution_count": 72,
   "metadata": {},
   "outputs": [
    {
     "name": "stdout",
     "output_type": "stream",
     "text": [
      "44.8 ns ± 5.26 ns per loop (mean ± std. dev. of 7 runs, 10000000 loops each)\n"
     ]
    }
   ],
   "source": [
    "%timeit a=1"
   ]
  },
  {
   "cell_type": "code",
   "execution_count": 77,
   "metadata": {},
   "outputs": [
    {
     "name": "stdout",
     "output_type": "stream",
     "text": [
      "Overwriting whatislove.py\n"
     ]
    }
   ],
   "source": [
    "%%writefile whatislove.py\n",
    "def whatislove():\n",
    "    return 0\n",
    "print(whatislove())"
   ]
  },
  {
   "cell_type": "code",
   "execution_count": 74,
   "metadata": {},
   "outputs": [
    {
     "name": "stdout",
     "output_type": "stream",
     "text": [
      " C 드라이브의 볼륨에는 이름이 없습니다.\n",
      " 볼륨 일련 번호: 84FF-1A86\n",
      "\n",
      " C:\\ 디렉터리\n",
      "\n",
      "2018-04-24  오후 01:06    <DIR>          .ipynb_checkpoints\n",
      "2016-07-20  오후 05:25    <DIR>          26074d7e5fc681d37bfde68c0f2560\n",
      "2017-02-23  오전 11:14    <DIR>          42ee6986f054a071ef0e0e\n",
      "2016-05-29  오후 08:12    <DIR>          7ea3a1f27054f09b1af001ff7df7c0\n",
      "2017-03-26  오후 09:31    <DIR>          80c3440c2dc16dbd93\n",
      "2017-03-09  오전 09:23    <DIR>          a1e260da2bde299d35e7\n",
      "2016-01-07  오후 09:03               606 AutoLogon.cmd\n",
      "2016-09-23  오전 08:14    <DIR>          b59791717bf52760ed82c26b447f\n",
      "2018-02-19  오전 10:52             3,288 bootsqm.dat\n",
      "2016-06-24  오전 12:26    <DIR>          c2ac51a403186bf290b6b3\n",
      "2018-04-24  오전 10:17                 0 data\n",
      "2018-04-23  오후 03:32    <DIR>          dss\n",
      "2016-08-22  오후 01:58    <DIR>          e071d903e8a45c9ff1\n",
      "2016-08-15  오후 08:48    <DIR>          hydra_tmp_1471261724958\n",
      "2016-05-23  오후 04:57    <DIR>          Intel\n",
      "2018-04-24  오후 02:45            24,706 Jupyter Notebook - Magic Command review + Shell Command.ipynb\n",
      "2006-12-01  오후 11:37           904,704 msdia80.dll\n",
      "2018-01-18  오후 10:15    <DIR>          Nexon\n",
      "2018-04-06  오후 12:10    <DIR>          npNuriWeb\n",
      "2009-07-14  오후 12:20    <DIR>          PerfLogs\n",
      "2016-01-07  오후 09:03             5,877 Prefetch.reg\n",
      "2018-04-23  오후 03:31    <DIR>          Program Files\n",
      "2018-04-06  오후 12:09    <DIR>          Program Files (x86)\n",
      "2018-04-24  오후 01:03            44,540 Python basic syntax.ipynb\n",
      "2018-04-11  오후 07:12    <DIR>          Temp\n",
      "2018-04-24  오전 11:05                43 test.py\n",
      "2018-04-24  오전 10:18    <DIR>          test_dir\n",
      "2018-04-24  오전 10:31                 0 test1.py\n",
      "2016-05-23  오후 02:31    <DIR>          Users\n",
      "2018-04-24  오후 02:46                52 whatislove.py\n",
      "2018-04-24  오전 09:01    <DIR>          Windows\n",
      "2016-05-23  오후 02:31    <DIR>          Windows_Mail\n",
      "2016-01-07  오후 09:03             4,428 Windows_Mail.cmd\n",
      "              11개 파일             988,244 바이트\n",
      "              22개 디렉터리   4,805,607,424 바이트 남음\n"
     ]
    }
   ],
   "source": [
    "%ls"
   ]
  },
  {
   "cell_type": "code",
   "execution_count": 75,
   "metadata": {},
   "outputs": [
    {
     "name": "stdout",
     "output_type": "stream",
     "text": [
      "$Recycle.Bin\n",
      "26074d7e5fc681d37bfde68c0f2560\n",
      "42ee6986f054a071ef0e0e\n",
      "7ea3a1f27054f09b1af001ff7df7c0\n",
      "80c3440c2dc16dbd93\n",
      "8B65B37B2E74\n",
      "a1e260da2bde299d35e7\n",
      "AutoLogon.cmd\n",
      "b59791717bf52760ed82c26b447f\n",
      "bootsqm.dat\n",
      "c2ac51a403186bf290b6b3\n",
      "data\n",
      "Documents and Settings\n",
      "dss\n",
      "e071d903e8a45c9ff1\n",
      "hydra_tmp_1471261724958\n",
      "Intel\n",
      "Jupyter Notebook - Magic Command review + Shell Command.ipynb\n",
      "msdia80.dll\n",
      "Nexon\n",
      "npNuriWeb\n",
      "pagefile.sys\n",
      "PerfLogs\n",
      "Prefetch.reg\n",
      "Program Files\n",
      "Program Files (x86)\n",
      "ProgramData\n",
      "Python basic syntax.ipynb\n",
      "Recovery\n",
      "System Volume Information\n",
      "Temp\n",
      "test.py\n",
      "test_dir\n",
      "test1.py\n",
      "Users\n",
      "whatislove.py\n",
      "Windows\n",
      "Windows_Mail\n",
      "Windows_Mail.cmd\n",
      "XecureSSL\n"
     ]
    }
   ],
   "source": [
    "!ls"
   ]
  },
  {
   "cell_type": "code",
   "execution_count": 78,
   "metadata": {},
   "outputs": [
    {
     "name": "stdout",
     "output_type": "stream",
     "text": [
      "0\n"
     ]
    }
   ],
   "source": [
    "%run whatislove.py"
   ]
  },
  {
   "cell_type": "code",
   "execution_count": 79,
   "metadata": {},
   "outputs": [
    {
     "name": "stdout",
     "output_type": "stream",
     "text": [
      "Magic Command\n",
      "- jupyter notebook에서 제공하는 기능\n",
      "- 파일 시스템에 대한 컨트롤 ㅏㄱ능\n",
      "- pwd, ls, whos, reset, time, timeit, writefile, magic...\n",
      "%%writefile test.py\n",
      "def test():\n",
      "    return 100\n",
      "print (test())\n",
      "%run test.py\n",
      "%ls\n",
      "%ls\n",
      "%time\n",
      "2 ** 100\n",
      "!ls\n",
      "!echo data\n",
      "!touch data.py\n",
      "!cat test.py\n",
      "!mkdir test_dir\n",
      "!ls\n",
      "!rmdir text_dir\n",
      "!mv data.py data\n",
      "!mv data.py data ../data\n",
      "!mv data.py data ../test.py\n",
      "!df\n",
      "!df\n",
      "ls_1 = %ls\n",
      "ls_1 = !ls\n",
      "ls_1 = !ls\n",
      "ls_1\n",
      "ls_2 = _\n",
      "ls_2\n",
      "1+2\n",
      "_\n",
      "print(1+2)\n",
      "print(1+4)\n",
      "_\n",
      "!touch test.py\n",
      "def sum(a,b):\n",
      "    return a+b\n",
      "!touch test1.py\n",
      "def sum(a,b):\n",
      "    return a+b\n",
      "!ls\n",
      "!ls\n",
      "!mv test.py dss.py\n",
      "!cp test.py dss.py\n",
      "!cp dss.py test.py\n",
      "!load test.py\n",
      "%load test.py\n",
      "%run test.py\n",
      "!ls\n",
      "!rm dss.py\n",
      "sum(1,2)\n",
      "%%time\n",
      "sum(1,2)\n",
      "%%timeit\n",
      "sum(1,2)\n",
      "%whos\n",
      "a = 1\n",
      "%reset\n",
      "%whos\n",
      ">dss\n",
      "sum?\n",
      "sum??\n",
      "sum??\n",
      "[Google](http://wwww.google.com)\n",
      "%pwd\n",
      "a = 1\n",
      "%whos\n",
      "b = 2\n",
      "%whos\n",
      "%reset\n",
      "%whos\n",
      "%whos\n",
      "%whos\n",
      "a = 1, b = 2\n",
      "a = 1\n",
      "b = 2\n",
      "%time a=1\n",
      "%%timeit a=1\n",
      "%%timeit a=1\n",
      "\n",
      "b=2\n",
      "%%timeit\n",
      "\n",
      "a=1\n",
      "%%timeit a=1\n",
      "%%timeit \n",
      "a=1\n",
      "%timeit a=1\n",
      "%%writefile whatislove.py\n",
      "def whatislove():\n",
      "    return n\n",
      "print(whatislove())\n",
      "%ls\n",
      "!ls\n",
      "%run whatislove.py\n",
      "%%writefile whatislove.py\n",
      "def whatislove():\n",
      "    return 0\n",
      "print(whatislove())\n",
      "%run whatislove.py\n",
      "%history\n"
     ]
    }
   ],
   "source": [
    "%history"
   ]
  },
  {
   "cell_type": "code",
   "execution_count": 3,
   "metadata": {},
   "outputs": [
    {
     "name": "stdout",
     "output_type": "stream",
     "text": [
      "100\n"
     ]
    }
   ],
   "source": [
    "%run test.py"
   ]
  },
  {
   "cell_type": "code",
   "execution_count": 5,
   "metadata": {},
   "outputs": [
    {
     "name": "stdout",
     "output_type": "stream",
     "text": [
      " C 드라이브의 볼륨에는 이름이 없습니다.\n",
      " 볼륨 일련 번호: 84FF-1A86\n",
      "\n",
      " C:\\ 디렉터리\n",
      "\n",
      "2018-04-24  오전 10:03    <DIR>          .ipynb_checkpoints\n",
      "2016-07-20  오후 05:25    <DIR>          26074d7e5fc681d37bfde68c0f2560\n",
      "2017-02-23  오전 11:14    <DIR>          42ee6986f054a071ef0e0e\n",
      "2016-05-29  오후 08:12    <DIR>          7ea3a1f27054f09b1af001ff7df7c0\n",
      "2017-03-26  오후 09:31    <DIR>          80c3440c2dc16dbd93\n",
      "2017-03-09  오전 09:23    <DIR>          a1e260da2bde299d35e7\n",
      "2016-01-07  오후 09:03               606 AutoLogon.cmd\n",
      "2016-09-23  오전 08:14    <DIR>          b59791717bf52760ed82c26b447f\n",
      "2018-02-19  오전 10:52             3,288 bootsqm.dat\n",
      "2016-06-24  오전 12:26    <DIR>          c2ac51a403186bf290b6b3\n",
      "2018-04-23  오후 03:32    <DIR>          dss\n",
      "2016-08-22  오후 01:58    <DIR>          e071d903e8a45c9ff1\n",
      "2016-08-15  오후 08:48    <DIR>          hydra_tmp_1471261724958\n",
      "2016-05-23  오후 04:57    <DIR>          Intel\n",
      "2006-12-01  오후 11:37           904,704 msdia80.dll\n",
      "2018-01-18  오후 10:15    <DIR>          Nexon\n",
      "2018-04-06  오후 12:10    <DIR>          npNuriWeb\n",
      "2009-07-14  오후 12:20    <DIR>          PerfLogs\n",
      "2016-01-07  오후 09:03             5,877 Prefetch.reg\n",
      "2018-04-23  오후 03:31    <DIR>          Program Files\n",
      "2018-04-06  오후 12:09    <DIR>          Program Files (x86)\n",
      "2018-04-11  오후 07:12    <DIR>          Temp\n",
      "2018-04-24  오전 10:12                43 test.py\n",
      "2018-04-24  오전 10:13             2,571 Untitled.ipynb\n",
      "2016-05-23  오후 02:31    <DIR>          Users\n",
      "2018-04-24  오전 09:01    <DIR>          Windows\n",
      "2016-05-23  오후 02:31    <DIR>          Windows_Mail\n",
      "2016-01-07  오후 09:03             4,428 Windows_Mail.cmd\n",
      "               7개 파일             921,517 바이트\n",
      "              21개 디렉터리   4,920,705,024 바이트 남음\n"
     ]
    }
   ],
   "source": [
    "%ls"
   ]
  },
  {
   "cell_type": "code",
   "execution_count": 80,
   "metadata": {},
   "outputs": [
    {
     "name": "stdout",
     "output_type": "stream",
     "text": [
      "Writing testtt.py\n"
     ]
    }
   ],
   "source": [
    "%%writefile testtt.py\n",
    "def testtt():\n",
    "    return 10\n",
    "print(testtt())"
   ]
  },
  {
   "cell_type": "code",
   "execution_count": 82,
   "metadata": {},
   "outputs": [
    {
     "name": "stdout",
     "output_type": "stream",
     "text": [
      "10\n"
     ]
    }
   ],
   "source": [
    "%run testtt.py"
   ]
  },
  {
   "cell_type": "code",
   "execution_count": null,
   "metadata": {},
   "outputs": [],
   "source": [
    "# %load testtt.py\n",
    "def testtt():\n",
    "    return 10\n",
    "print(testtt())"
   ]
  },
  {
   "cell_type": "code",
   "execution_count": null,
   "metadata": {},
   "outputs": [],
   "source": [
    "# %load test.py\n",
    "def test()"
   ]
  },
  {
   "cell_type": "code",
   "execution_count": 85,
   "metadata": {},
   "outputs": [
    {
     "name": "stdout",
     "output_type": "stream",
     "text": [
      "Wall time: 0 ns\n"
     ]
    },
    {
     "data": {
      "text/plain": [
       "10"
      ]
     },
     "execution_count": 85,
     "metadata": {},
     "output_type": "execute_result"
    }
   ],
   "source": [
    "%time testtt()"
   ]
  },
  {
   "cell_type": "code",
   "execution_count": 87,
   "metadata": {},
   "outputs": [
    {
     "name": "stdout",
     "output_type": "stream",
     "text": [
      "336 ns ± 91.3 ns per loop (mean ± std. dev. of 7 runs, 1000000 loops each)\n"
     ]
    }
   ],
   "source": [
    "%timeit testtt()"
   ]
  },
  {
   "cell_type": "code",
   "execution_count": 90,
   "metadata": {},
   "outputs": [
    {
     "name": "stdout",
     "output_type": "stream",
     "text": [
      "Wall time: 0 ns\n"
     ]
    },
    {
     "data": {
      "text/plain": [
       "1267650600228229401496703205376"
      ]
     },
     "execution_count": 90,
     "metadata": {},
     "output_type": "execute_result"
    }
   ],
   "source": [
    "%%time \n",
    "2**100"
   ]
  },
  {
   "cell_type": "code",
   "execution_count": 91,
   "metadata": {},
   "outputs": [
    {
     "name": "stdout",
     "output_type": "stream",
     "text": [
      "47.9 ns ± 12.2 ns per loop (mean ± std. dev. of 7 runs, 10000000 loops each)\n"
     ]
    }
   ],
   "source": [
    "%%timeit\n",
    "2**100"
   ]
  },
  {
   "cell_type": "code",
   "execution_count": 6,
   "metadata": {},
   "outputs": [
    {
     "name": "stdout",
     "output_type": "stream",
     "text": [
      "Wall time: 0 ns\n"
     ]
    },
    {
     "data": {
      "text/plain": [
       "1267650600228229401496703205376"
      ]
     },
     "execution_count": 6,
     "metadata": {},
     "output_type": "execute_result"
    }
   ],
   "source": [
    "%time\n",
    "2 ** 100"
   ]
  },
  {
   "cell_type": "markdown",
   "metadata": {},
   "source": [
    "Shell Command\n",
    "- '!' 기호 사용합니다\n",
    "- ls, echo, touch, cat, mkdir, rmdir, mv, rm, df"
   ]
  },
  {
   "cell_type": "code",
   "execution_count": 7,
   "metadata": {},
   "outputs": [
    {
     "name": "stdout",
     "output_type": "stream",
     "text": [
      "$Recycle.Bin\n",
      "26074d7e5fc681d37bfde68c0f2560\n",
      "42ee6986f054a071ef0e0e\n",
      "7ea3a1f27054f09b1af001ff7df7c0\n",
      "80c3440c2dc16dbd93\n",
      "8B65B37B2E74\n",
      "a1e260da2bde299d35e7\n",
      "AutoLogon.cmd\n",
      "b59791717bf52760ed82c26b447f\n",
      "bootsqm.dat\n",
      "c2ac51a403186bf290b6b3\n",
      "Documents and Settings\n",
      "dss\n",
      "e071d903e8a45c9ff1\n",
      "hydra_tmp_1471261724958\n",
      "Intel\n",
      "msdia80.dll\n",
      "Nexon\n",
      "npNuriWeb\n",
      "pagefile.sys\n",
      "PerfLogs\n",
      "Prefetch.reg\n",
      "Program Files\n",
      "Program Files (x86)\n",
      "ProgramData\n",
      "Recovery\n",
      "System Volume Information\n",
      "Temp\n",
      "test.py\n",
      "Untitled.ipynb\n",
      "Users\n",
      "Windows\n",
      "Windows_Mail\n",
      "Windows_Mail.cmd\n",
      "XecureSSL\n"
     ]
    }
   ],
   "source": [
    "!ls"
   ]
  },
  {
   "cell_type": "code",
   "execution_count": 8,
   "metadata": {},
   "outputs": [
    {
     "name": "stdout",
     "output_type": "stream",
     "text": [
      "data\n"
     ]
    }
   ],
   "source": [
    "!echo data"
   ]
  },
  {
   "cell_type": "code",
   "execution_count": 93,
   "metadata": {},
   "outputs": [],
   "source": [
    "!touch test.py\n",
    "def sum(a,b):\n",
    "    return a + b"
   ]
  },
  {
   "cell_type": "code",
   "execution_count": 94,
   "metadata": {},
   "outputs": [
    {
     "name": "stdout",
     "output_type": "stream",
     "text": [
      "$Recycle.Bin\n",
      "26074d7e5fc681d37bfde68c0f2560\n",
      "42ee6986f054a071ef0e0e\n",
      "7ea3a1f27054f09b1af001ff7df7c0\n",
      "80c3440c2dc16dbd93\n",
      "8B65B37B2E74\n",
      "a1e260da2bde299d35e7\n",
      "AutoLogon.cmd\n",
      "b59791717bf52760ed82c26b447f\n",
      "bootsqm.dat\n",
      "c2ac51a403186bf290b6b3\n",
      "data\n",
      "Documents and Settings\n",
      "dss\n",
      "e071d903e8a45c9ff1\n",
      "hydra_tmp_1471261724958\n",
      "Intel\n",
      "Jupyter Notebook - Magic Command review + Shell Command.ipynb\n",
      "msdia80.dll\n",
      "Nexon\n",
      "npNuriWeb\n",
      "pagefile.sys\n",
      "PerfLogs\n",
      "Prefetch.reg\n",
      "Program Files\n",
      "Program Files (x86)\n",
      "ProgramData\n",
      "Python basic syntax.ipynb\n",
      "Recovery\n",
      "System Volume Information\n",
      "Temp\n",
      "test.py\n",
      "test_dir\n",
      "test1.py\n",
      "testtt.py\n",
      "Users\n",
      "whatislove.py\n",
      "Windows\n",
      "Windows_Mail\n",
      "Windows_Mail.cmd\n",
      "XecureSSL\n"
     ]
    }
   ],
   "source": [
    "!ls"
   ]
  },
  {
   "cell_type": "code",
   "execution_count": 95,
   "metadata": {},
   "outputs": [
    {
     "name": "stdout",
     "output_type": "stream",
     "text": [
      "$Recycle.Bin\n",
      "26074d7e5fc681d37bfde68c0f2560\n",
      "42ee6986f054a071ef0e0e\n",
      "7ea3a1f27054f09b1af001ff7df7c0\n",
      "80c3440c2dc16dbd93\n",
      "8B65B37B2E74\n",
      "a1e260da2bde299d35e7\n",
      "AutoLogon.cmd\n",
      "b59791717bf52760ed82c26b447f\n",
      "bootsqm.dat\n",
      "c2ac51a403186bf290b6b3\n",
      "data\n",
      "Documents and Settings\n",
      "dss\n",
      "e071d903e8a45c9ff1\n",
      "hydra_tmp_1471261724958\n",
      "Intel\n",
      "Jupyter Notebook - Magic Command review + Shell Command.ipynb\n",
      "msdia80.dll\n",
      "Nexon\n",
      "npNuriWeb\n",
      "pagefile.sys\n",
      "PerfLogs\n",
      "Prefetch.reg\n",
      "Program Files\n",
      "Program Files (x86)\n",
      "ProgramData\n",
      "Python basic syntax.ipynb\n",
      "Recovery\n",
      "System Volume Information\n",
      "Temp\n",
      "Users\n",
      "Windows\n",
      "Windows_Mail\n",
      "Windows_Mail.cmd\n",
      "XecureSSL\n"
     ]
    }
   ],
   "source": [
    "!ls"
   ]
  },
  {
   "cell_type": "code",
   "execution_count": 96,
   "metadata": {},
   "outputs": [],
   "source": [
    "!touch test.py\n",
    "def sum(a,b):\n",
    "    return a + b"
   ]
  },
  {
   "cell_type": "code",
   "execution_count": 97,
   "metadata": {},
   "outputs": [
    {
     "name": "stdout",
     "output_type": "stream",
     "text": [
      "$Recycle.Bin\n",
      "26074d7e5fc681d37bfde68c0f2560\n",
      "42ee6986f054a071ef0e0e\n",
      "7ea3a1f27054f09b1af001ff7df7c0\n",
      "80c3440c2dc16dbd93\n",
      "8B65B37B2E74\n",
      "a1e260da2bde299d35e7\n",
      "AutoLogon.cmd\n",
      "b59791717bf52760ed82c26b447f\n",
      "bootsqm.dat\n",
      "c2ac51a403186bf290b6b3\n",
      "data\n",
      "Documents and Settings\n",
      "dss\n",
      "e071d903e8a45c9ff1\n",
      "hydra_tmp_1471261724958\n",
      "Intel\n",
      "Jupyter Notebook - Magic Command review + Shell Command.ipynb\n",
      "msdia80.dll\n",
      "Nexon\n",
      "npNuriWeb\n",
      "pagefile.sys\n",
      "PerfLogs\n",
      "Prefetch.reg\n",
      "Program Files\n",
      "Program Files (x86)\n",
      "ProgramData\n",
      "Python basic syntax.ipynb\n",
      "Recovery\n",
      "System Volume Information\n",
      "Temp\n",
      "test.py\n",
      "Users\n",
      "Windows\n",
      "Windows_Mail\n",
      "Windows_Mail.cmd\n",
      "XecureSSL\n"
     ]
    }
   ],
   "source": [
    "!ls"
   ]
  },
  {
   "cell_type": "code",
   "execution_count": 108,
   "metadata": {},
   "outputs": [],
   "source": [
    "!cat test.py"
   ]
  },
  {
   "cell_type": "code",
   "execution_count": null,
   "metadata": {},
   "outputs": [],
   "source": [
    "??????"
   ]
  },
  {
   "cell_type": "code",
   "execution_count": 123,
   "metadata": {},
   "outputs": [
    {
     "name": "stdout",
     "output_type": "stream",
     "text": [
      "Overwriting test1.py\n"
     ]
    }
   ],
   "source": [
    "%%writefile test1.py\n",
    "def sum(c,d):\n",
    "    return c + d"
   ]
  },
  {
   "cell_type": "code",
   "execution_count": 110,
   "metadata": {},
   "outputs": [
    {
     "name": "stdout",
     "output_type": "stream",
     "text": [
      "$Recycle.Bin\n",
      "26074d7e5fc681d37bfde68c0f2560\n",
      "42ee6986f054a071ef0e0e\n",
      "7ea3a1f27054f09b1af001ff7df7c0\n",
      "80c3440c2dc16dbd93\n",
      "8B65B37B2E74\n",
      "a1e260da2bde299d35e7\n",
      "AutoLogon.cmd\n",
      "b59791717bf52760ed82c26b447f\n",
      "bootsqm.dat\n",
      "c2ac51a403186bf290b6b3\n",
      "data\n",
      "data.py\n",
      "Documents and Settings\n",
      "dss\n",
      "dss.py\n",
      "e071d903e8a45c9ff1\n",
      "hydra_tmp_1471261724958\n",
      "Intel\n",
      "Jupyter Notebook - Magic Command review + Shell Command.ipynb\n",
      "msdia80.dll\n",
      "Nexon\n",
      "npNuriWeb\n",
      "pagefile.sys\n",
      "PerfLogs\n",
      "Prefetch.reg\n",
      "Program Files\n",
      "Program Files (x86)\n",
      "ProgramData\n",
      "Python basic syntax.ipynb\n",
      "Recovery\n",
      "System Volume Information\n",
      "Temp\n",
      "test.py\n",
      "test1.py\n",
      "Users\n",
      "Windows\n",
      "Windows_Mail\n",
      "Windows_Mail.cmd\n",
      "XecureSSL\n"
     ]
    }
   ],
   "source": [
    "!ls"
   ]
  },
  {
   "cell_type": "code",
   "execution_count": 111,
   "metadata": {},
   "outputs": [
    {
     "name": "stdout",
     "output_type": "stream",
     "text": [
      " C 드라이브의 볼륨에는 이름이 없습니다.\n",
      " 볼륨 일련 번호: 84FF-1A86\n",
      "\n",
      " C:\\ 디렉터리\n",
      "\n",
      "2018-04-24  오후 01:06    <DIR>          .ipynb_checkpoints\n",
      "2016-07-20  오후 05:25    <DIR>          26074d7e5fc681d37bfde68c0f2560\n",
      "2017-02-23  오전 11:14    <DIR>          42ee6986f054a071ef0e0e\n",
      "2016-05-29  오후 08:12    <DIR>          7ea3a1f27054f09b1af001ff7df7c0\n",
      "2017-03-26  오후 09:31    <DIR>          80c3440c2dc16dbd93\n",
      "2017-03-09  오전 09:23    <DIR>          a1e260da2bde299d35e7\n",
      "2016-01-07  오후 09:03               606 AutoLogon.cmd\n",
      "2016-09-23  오전 08:14    <DIR>          b59791717bf52760ed82c26b447f\n",
      "2018-02-19  오전 10:52             3,288 bootsqm.dat\n",
      "2016-06-24  오전 12:26    <DIR>          c2ac51a403186bf290b6b3\n",
      "2018-04-24  오전 10:17                 0 data\n",
      "2018-04-24  오후 03:06                 0 data.py\n",
      "2018-04-23  오후 03:32    <DIR>          dss\n",
      "2018-04-24  오후 03:04                 0 dss.py\n",
      "2016-08-22  오후 01:58    <DIR>          e071d903e8a45c9ff1\n",
      "2016-08-15  오후 08:48    <DIR>          hydra_tmp_1471261724958\n",
      "2016-05-23  오후 04:57    <DIR>          Intel\n",
      "2018-04-24  오후 03:09            39,707 Jupyter Notebook - Magic Command review + Shell Command.ipynb\n",
      "2006-12-01  오후 11:37           904,704 msdia80.dll\n",
      "2018-01-18  오후 10:15    <DIR>          Nexon\n",
      "2018-04-06  오후 12:10    <DIR>          npNuriWeb\n",
      "2009-07-14  오후 12:20    <DIR>          PerfLogs\n",
      "2016-01-07  오후 09:03             5,877 Prefetch.reg\n",
      "2018-04-23  오후 03:31    <DIR>          Program Files\n",
      "2018-04-06  오후 12:09    <DIR>          Program Files (x86)\n",
      "2018-04-24  오후 01:03            44,540 Python basic syntax.ipynb\n",
      "2018-04-11  오후 07:12    <DIR>          Temp\n",
      "2018-04-24  오후 03:05                 0 test.py\n",
      "2018-04-24  오후 03:09                31 test1.py\n",
      "2016-05-23  오후 02:31    <DIR>          Users\n",
      "2018-04-24  오전 09:01    <DIR>          Windows\n",
      "2016-05-23  오후 02:31    <DIR>          Windows_Mail\n",
      "2016-01-07  오후 09:03             4,428 Windows_Mail.cmd\n",
      "              12개 파일           1,003,181 바이트\n",
      "              21개 디렉터리   4,803,862,528 바이트 남음\n"
     ]
    }
   ],
   "source": [
    "%ls"
   ]
  },
  {
   "cell_type": "code",
   "execution_count": 115,
   "metadata": {},
   "outputs": [],
   "source": [
    "!mv test1.py dss.py"
   ]
  },
  {
   "cell_type": "code",
   "execution_count": null,
   "metadata": {},
   "outputs": [],
   "source": []
  },
  {
   "cell_type": "code",
   "execution_count": 116,
   "metadata": {},
   "outputs": [],
   "source": [
    "!cp dss.py test1.py"
   ]
  },
  {
   "cell_type": "code",
   "execution_count": null,
   "metadata": {},
   "outputs": [],
   "source": [
    "# %load test1.py\n",
    "def sum(c,d):\n",
    "    return c + d"
   ]
  },
  {
   "cell_type": "code",
   "execution_count": 124,
   "metadata": {},
   "outputs": [],
   "source": [
    "%run test1.py"
   ]
  },
  {
   "cell_type": "code",
   "execution_count": 119,
   "metadata": {},
   "outputs": [
    {
     "data": {
      "text/plain": [
       "3"
      ]
     },
     "execution_count": 119,
     "metadata": {},
     "output_type": "execute_result"
    }
   ],
   "source": [
    "sum(a,b)"
   ]
  },
  {
   "cell_type": "code",
   "execution_count": null,
   "metadata": {},
   "outputs": [],
   "source": [
    "????????"
   ]
  },
  {
   "cell_type": "code",
   "execution_count": 121,
   "metadata": {},
   "outputs": [
    {
     "data": {
      "text/plain": [
       "3"
      ]
     },
     "execution_count": 121,
     "metadata": {},
     "output_type": "execute_result"
    }
   ],
   "source": [
    "sum(1,2)"
   ]
  },
  {
   "cell_type": "code",
   "execution_count": 122,
   "metadata": {},
   "outputs": [
    {
     "data": {
      "text/plain": [
       "11"
      ]
     },
     "execution_count": 122,
     "metadata": {},
     "output_type": "execute_result"
    }
   ],
   "source": [
    "sum(4,7)"
   ]
  },
  {
   "cell_type": "code",
   "execution_count": 128,
   "metadata": {},
   "outputs": [
    {
     "ename": "NameError",
     "evalue": "name 'c' is not defined",
     "output_type": "error",
     "traceback": [
      "\u001b[1;31m---------------------------------------------------------------------------\u001b[0m",
      "\u001b[1;31mNameError\u001b[0m                                 Traceback (most recent call last)",
      "\u001b[1;32m<ipython-input-128-712ee4ead564>\u001b[0m in \u001b[0;36m<module>\u001b[1;34m()\u001b[0m\n\u001b[1;32m----> 1\u001b[1;33m \u001b[0msum\u001b[0m\u001b[1;33m(\u001b[0m\u001b[0mc\u001b[0m\u001b[1;33m,\u001b[0m\u001b[0md\u001b[0m\u001b[1;33m)\u001b[0m\u001b[1;33m\u001b[0m\u001b[0m\n\u001b[0m",
      "\u001b[1;31mNameError\u001b[0m: name 'c' is not defined"
     ]
    }
   ],
   "source": [
    "sum(c,d)"
   ]
  },
  {
   "cell_type": "code",
   "execution_count": 129,
   "metadata": {},
   "outputs": [],
   "source": [
    "!rm dss.py"
   ]
  },
  {
   "cell_type": "code",
   "execution_count": 130,
   "metadata": {},
   "outputs": [
    {
     "data": {
      "text/plain": [
       "3"
      ]
     },
     "execution_count": 130,
     "metadata": {},
     "output_type": "execute_result"
    }
   ],
   "source": [
    "sum(1,2)"
   ]
  },
  {
   "cell_type": "code",
   "execution_count": 131,
   "metadata": {},
   "outputs": [
    {
     "name": "stdout",
     "output_type": "stream",
     "text": [
      "Wall time: 0 ns\n"
     ]
    },
    {
     "data": {
      "text/plain": [
       "3"
      ]
     },
     "execution_count": 131,
     "metadata": {},
     "output_type": "execute_result"
    }
   ],
   "source": [
    "%time sum(1,2)"
   ]
  },
  {
   "cell_type": "code",
   "execution_count": 132,
   "metadata": {},
   "outputs": [
    {
     "name": "stdout",
     "output_type": "stream",
     "text": [
      "281 ns ± 65.1 ns per loop (mean ± std. dev. of 7 runs, 1000000 loops each)\n"
     ]
    }
   ],
   "source": [
    "%timeit sum(1,2)"
   ]
  },
  {
   "cell_type": "code",
   "execution_count": 133,
   "metadata": {},
   "outputs": [
    {
     "name": "stdout",
     "output_type": "stream",
     "text": [
      "Variable     Type        Data/Info\n",
      "----------------------------------\n",
      "a            int         1\n",
      "b            int         2\n",
      "sum          function    <function sum at 0x00000000058FFAE8>\n",
      "testtt       function    <function testtt at 0x000000000589FEA0>\n",
      "whatislove   function    <function whatislove at 0x000000000540C0D0>\n"
     ]
    }
   ],
   "source": [
    "%whos"
   ]
  },
  {
   "cell_type": "code",
   "execution_count": 134,
   "metadata": {},
   "outputs": [],
   "source": [
    "a=1"
   ]
  },
  {
   "cell_type": "code",
   "execution_count": 135,
   "metadata": {},
   "outputs": [
    {
     "name": "stdout",
     "output_type": "stream",
     "text": [
      "Once deleted, variables cannot be recovered. Proceed (y/[n])? y\n"
     ]
    }
   ],
   "source": [
    "%reset"
   ]
  },
  {
   "cell_type": "code",
   "execution_count": 136,
   "metadata": {},
   "outputs": [
    {
     "name": "stdout",
     "output_type": "stream",
     "text": [
      "Interactive namespace is empty.\n"
     ]
    }
   ],
   "source": [
    "%whos"
   ]
  },
  {
   "cell_type": "code",
   "execution_count": 138,
   "metadata": {},
   "outputs": [
    {
     "name": "stdout",
     "output_type": "stream",
     "text": [
      "Writing abc.py\n"
     ]
    }
   ],
   "source": [
    "%%writefile abc.py\n",
    "def min(a,b):\n",
    "    return a - b"
   ]
  },
  {
   "cell_type": "code",
   "execution_count": 139,
   "metadata": {},
   "outputs": [],
   "source": [
    "!mv abc.py dss.py"
   ]
  },
  {
   "cell_type": "code",
   "execution_count": 140,
   "metadata": {},
   "outputs": [
    {
     "name": "stdout",
     "output_type": "stream",
     "text": [
      "$Recycle.Bin\n",
      "26074d7e5fc681d37bfde68c0f2560\n",
      "42ee6986f054a071ef0e0e\n",
      "7ea3a1f27054f09b1af001ff7df7c0\n",
      "80c3440c2dc16dbd93\n",
      "8B65B37B2E74\n",
      "a1e260da2bde299d35e7\n",
      "AutoLogon.cmd\n",
      "b59791717bf52760ed82c26b447f\n",
      "bootsqm.dat\n",
      "c2ac51a403186bf290b6b3\n",
      "data\n",
      "data.py\n",
      "Documents and Settings\n",
      "dss\n",
      "dss.py\n",
      "e071d903e8a45c9ff1\n",
      "hydra_tmp_1471261724958\n",
      "Intel\n",
      "Jupyter Notebook - Magic Command review + Shell Command.ipynb\n",
      "msdia80.dll\n",
      "Nexon\n",
      "npNuriWeb\n",
      "pagefile.sys\n",
      "PerfLogs\n",
      "Prefetch.reg\n",
      "Program Files\n",
      "Program Files (x86)\n",
      "ProgramData\n",
      "Python basic syntax.ipynb\n",
      "Recovery\n",
      "System Volume Information\n",
      "Temp\n",
      "test.py\n",
      "test1.py\n",
      "Users\n",
      "Windows\n",
      "Windows_Mail\n",
      "Windows_Mail.cmd\n",
      "XecureSSL\n"
     ]
    }
   ],
   "source": [
    "!ls"
   ]
  },
  {
   "cell_type": "code",
   "execution_count": 141,
   "metadata": {},
   "outputs": [],
   "source": [
    "!cp dss.py abc.py"
   ]
  },
  {
   "cell_type": "code",
   "execution_count": 142,
   "metadata": {},
   "outputs": [
    {
     "name": "stdout",
     "output_type": "stream",
     "text": [
      "$Recycle.Bin\n",
      "26074d7e5fc681d37bfde68c0f2560\n",
      "42ee6986f054a071ef0e0e\n",
      "7ea3a1f27054f09b1af001ff7df7c0\n",
      "80c3440c2dc16dbd93\n",
      "8B65B37B2E74\n",
      "a1e260da2bde299d35e7\n",
      "abc.py\n",
      "AutoLogon.cmd\n",
      "b59791717bf52760ed82c26b447f\n",
      "bootsqm.dat\n",
      "c2ac51a403186bf290b6b3\n",
      "data\n",
      "data.py\n",
      "Documents and Settings\n",
      "dss\n",
      "dss.py\n",
      "e071d903e8a45c9ff1\n",
      "hydra_tmp_1471261724958\n",
      "Intel\n",
      "Jupyter Notebook - Magic Command review + Shell Command.ipynb\n",
      "msdia80.dll\n",
      "Nexon\n",
      "npNuriWeb\n",
      "pagefile.sys\n",
      "PerfLogs\n",
      "Prefetch.reg\n",
      "Program Files\n",
      "Program Files (x86)\n",
      "ProgramData\n",
      "Python basic syntax.ipynb\n",
      "Recovery\n",
      "System Volume Information\n",
      "Temp\n",
      "test.py\n",
      "test1.py\n",
      "Users\n",
      "Windows\n",
      "Windows_Mail\n",
      "Windows_Mail.cmd\n",
      "XecureSSL\n"
     ]
    }
   ],
   "source": [
    "!ls"
   ]
  },
  {
   "cell_type": "code",
   "execution_count": null,
   "metadata": {},
   "outputs": [],
   "source": [
    "# %load abc.py\n",
    "def min(a,b):\n",
    "    return a - b"
   ]
  },
  {
   "cell_type": "code",
   "execution_count": 144,
   "metadata": {},
   "outputs": [],
   "source": [
    "%run abc.py"
   ]
  },
  {
   "cell_type": "code",
   "execution_count": 145,
   "metadata": {},
   "outputs": [
    {
     "name": "stdout",
     "output_type": "stream",
     "text": [
      "def min(a,b):\n",
      "    return a - b\n"
     ]
    }
   ],
   "source": [
    "!cat abc.py"
   ]
  },
  {
   "cell_type": "code",
   "execution_count": 146,
   "metadata": {},
   "outputs": [],
   "source": [
    "!rm dss.py"
   ]
  },
  {
   "cell_type": "code",
   "execution_count": 147,
   "metadata": {},
   "outputs": [
    {
     "name": "stdout",
     "output_type": "stream",
     "text": [
      "$Recycle.Bin\n",
      "26074d7e5fc681d37bfde68c0f2560\n",
      "42ee6986f054a071ef0e0e\n",
      "7ea3a1f27054f09b1af001ff7df7c0\n",
      "80c3440c2dc16dbd93\n",
      "8B65B37B2E74\n",
      "a1e260da2bde299d35e7\n",
      "abc.py\n",
      "AutoLogon.cmd\n",
      "b59791717bf52760ed82c26b447f\n",
      "bootsqm.dat\n",
      "c2ac51a403186bf290b6b3\n",
      "data\n",
      "data.py\n",
      "Documents and Settings\n",
      "dss\n",
      "e071d903e8a45c9ff1\n",
      "hydra_tmp_1471261724958\n",
      "Intel\n",
      "Jupyter Notebook - Magic Command review + Shell Command.ipynb\n",
      "msdia80.dll\n",
      "Nexon\n",
      "npNuriWeb\n",
      "pagefile.sys\n",
      "PerfLogs\n",
      "Prefetch.reg\n",
      "Program Files\n",
      "Program Files (x86)\n",
      "ProgramData\n",
      "Python basic syntax.ipynb\n",
      "Recovery\n",
      "System Volume Information\n",
      "Temp\n",
      "test.py\n",
      "test1.py\n",
      "Users\n",
      "Windows\n",
      "Windows_Mail\n",
      "Windows_Mail.cmd\n",
      "XecureSSL\n"
     ]
    }
   ],
   "source": [
    "!ls"
   ]
  },
  {
   "cell_type": "code",
   "execution_count": 148,
   "metadata": {},
   "outputs": [
    {
     "ename": "NameError",
     "evalue": "name 'a' is not defined",
     "output_type": "error",
     "traceback": [
      "\u001b[1;31m---------------------------------------------------------------------------\u001b[0m",
      "\u001b[1;31mNameError\u001b[0m                                 Traceback (most recent call last)",
      "\u001b[1;32m<ipython-input-148-e2416c5cf0c4>\u001b[0m in \u001b[0;36m<module>\u001b[1;34m()\u001b[0m\n\u001b[1;32m----> 1\u001b[1;33m \u001b[0mmin\u001b[0m\u001b[1;33m(\u001b[0m\u001b[0ma\u001b[0m\u001b[1;33m,\u001b[0m\u001b[0mb\u001b[0m\u001b[1;33m)\u001b[0m\u001b[1;33m\u001b[0m\u001b[0m\n\u001b[0m",
      "\u001b[1;31mNameError\u001b[0m: name 'a' is not defined"
     ]
    }
   ],
   "source": [
    "min(a,b)"
   ]
  },
  {
   "cell_type": "code",
   "execution_count": 149,
   "metadata": {},
   "outputs": [
    {
     "data": {
      "text/plain": [
       "-3"
      ]
     },
     "execution_count": 149,
     "metadata": {},
     "output_type": "execute_result"
    }
   ],
   "source": [
    "min(3,6)"
   ]
  },
  {
   "cell_type": "code",
   "execution_count": 150,
   "metadata": {},
   "outputs": [
    {
     "name": "stdout",
     "output_type": "stream",
     "text": [
      "Variable   Type        Data/Info\n",
      "--------------------------------\n",
      "min        function    <function min at 0x00000000058FF950>\n"
     ]
    }
   ],
   "source": [
    "%whos"
   ]
  },
  {
   "cell_type": "code",
   "execution_count": 151,
   "metadata": {},
   "outputs": [],
   "source": [
    "a=1"
   ]
  },
  {
   "cell_type": "code",
   "execution_count": 155,
   "metadata": {},
   "outputs": [],
   "source": [
    "b=1"
   ]
  },
  {
   "cell_type": "code",
   "execution_count": 156,
   "metadata": {},
   "outputs": [
    {
     "ename": "NameError",
     "evalue": "name '_' is not defined",
     "output_type": "error",
     "traceback": [
      "\u001b[1;31m---------------------------------------------------------------------------\u001b[0m",
      "\u001b[1;31mNameError\u001b[0m                                 Traceback (most recent call last)",
      "\u001b[1;32m<ipython-input-156-71e74fbf7a46>\u001b[0m in \u001b[0;36m<module>\u001b[1;34m()\u001b[0m\n\u001b[1;32m----> 1\u001b[1;33m \u001b[0m_\u001b[0m\u001b[1;33m\u001b[0m\u001b[0m\n\u001b[0m",
      "\u001b[1;31mNameError\u001b[0m: name '_' is not defined"
     ]
    }
   ],
   "source": [
    "_"
   ]
  },
  {
   "cell_type": "code",
   "execution_count": 157,
   "metadata": {},
   "outputs": [
    {
     "data": {
      "text/plain": [
       "9"
      ]
     },
     "execution_count": 157,
     "metadata": {},
     "output_type": "execute_result"
    }
   ],
   "source": [
    "3+6"
   ]
  },
  {
   "cell_type": "code",
   "execution_count": 158,
   "metadata": {},
   "outputs": [
    {
     "data": {
      "text/plain": [
       "18"
      ]
     },
     "execution_count": 158,
     "metadata": {},
     "output_type": "execute_result"
    }
   ],
   "source": [
    "_*2"
   ]
  },
  {
   "cell_type": "code",
   "execution_count": null,
   "metadata": {},
   "outputs": [],
   "source": []
  },
  {
   "cell_type": "code",
   "execution_count": null,
   "metadata": {},
   "outputs": [],
   "source": []
  },
  {
   "cell_type": "code",
   "execution_count": 105,
   "metadata": {},
   "outputs": [],
   "source": [
    "!touch data.py"
   ]
  },
  {
   "cell_type": "code",
   "execution_count": 106,
   "metadata": {},
   "outputs": [],
   "source": [
    "!cat test.py"
   ]
  },
  {
   "cell_type": "code",
   "execution_count": 11,
   "metadata": {},
   "outputs": [],
   "source": [
    "!mkdir test_dir"
   ]
  },
  {
   "cell_type": "code",
   "execution_count": 12,
   "metadata": {},
   "outputs": [
    {
     "name": "stdout",
     "output_type": "stream",
     "text": [
      "$Recycle.Bin\n",
      "26074d7e5fc681d37bfde68c0f2560\n",
      "42ee6986f054a071ef0e0e\n",
      "7ea3a1f27054f09b1af001ff7df7c0\n",
      "80c3440c2dc16dbd93\n",
      "8B65B37B2E74\n",
      "a1e260da2bde299d35e7\n",
      "AutoLogon.cmd\n",
      "b59791717bf52760ed82c26b447f\n",
      "bootsqm.dat\n",
      "c2ac51a403186bf290b6b3\n",
      "data.py\n",
      "Documents and Settings\n",
      "dss\n",
      "e071d903e8a45c9ff1\n",
      "hydra_tmp_1471261724958\n",
      "Intel\n",
      "msdia80.dll\n",
      "Nexon\n",
      "npNuriWeb\n",
      "pagefile.sys\n",
      "PerfLogs\n",
      "Prefetch.reg\n",
      "Program Files\n",
      "Program Files (x86)\n",
      "ProgramData\n",
      "Recovery\n",
      "System Volume Information\n",
      "Temp\n",
      "test.py\n",
      "test_dir\n",
      "Untitled.ipynb\n",
      "Users\n",
      "Windows\n",
      "Windows_Mail\n",
      "Windows_Mail.cmd\n",
      "XecureSSL\n"
     ]
    }
   ],
   "source": [
    "!ls"
   ]
  },
  {
   "cell_type": "code",
   "execution_count": 18,
   "metadata": {},
   "outputs": [
    {
     "name": "stdout",
     "output_type": "stream",
     "text": [
      "Filesystem           1K-blocks      Used Available Use% Mounted on\n",
      "C:/Program Files/Git 114445308 109644752   4800556  96% /\n",
      "D:                    10484732   2203660   8281072  22% /d\n"
     ]
    }
   ],
   "source": [
    "!df"
   ]
  },
  {
   "cell_type": "markdown",
   "metadata": {},
   "source": [
    "jupyter notebook expression\n",
    "- 쉘커멘드나 매직커멘드로 나온 결과값을 변수로 할당이 가능\n",
    "- 이전 셀에서 나온 결과값을 변수로 할당이 가능"
   ]
  },
  {
   "cell_type": "code",
   "execution_count": 19,
   "metadata": {},
   "outputs": [
    {
     "name": "stdout",
     "output_type": "stream",
     "text": [
      " C 드라이브의 볼륨에는 이름이 없습니다.\n",
      " 볼륨 일련 번호: 84FF-1A86\n",
      "\n",
      " C:\\ 디렉터리\n",
      "\n",
      "2018-04-24  오전 10:03    <DIR>          .ipynb_checkpoints\n",
      "2016-07-20  오후 05:25    <DIR>          26074d7e5fc681d37bfde68c0f2560\n",
      "2017-02-23  오전 11:14    <DIR>          42ee6986f054a071ef0e0e\n",
      "2016-05-29  오후 08:12    <DIR>          7ea3a1f27054f09b1af001ff7df7c0\n",
      "2017-03-26  오후 09:31    <DIR>          80c3440c2dc16dbd93\n",
      "2017-03-09  오전 09:23    <DIR>          a1e260da2bde299d35e7\n",
      "2016-01-07  오후 09:03               606 AutoLogon.cmd\n",
      "2016-09-23  오전 08:14    <DIR>          b59791717bf52760ed82c26b447f\n",
      "2018-02-19  오전 10:52             3,288 bootsqm.dat\n",
      "2016-06-24  오전 12:26    <DIR>          c2ac51a403186bf290b6b3\n",
      "2018-04-24  오전 10:17                 0 data\n",
      "2018-04-23  오후 03:32    <DIR>          dss\n",
      "2016-08-22  오후 01:58    <DIR>          e071d903e8a45c9ff1\n",
      "2016-08-15  오후 08:48    <DIR>          hydra_tmp_1471261724958\n",
      "2016-05-23  오후 04:57    <DIR>          Intel\n",
      "2006-12-01  오후 11:37           904,704 msdia80.dll\n",
      "2018-01-18  오후 10:15    <DIR>          Nexon\n",
      "2018-04-06  오후 12:10    <DIR>          npNuriWeb\n",
      "2009-07-14  오후 12:20    <DIR>          PerfLogs\n",
      "2016-01-07  오후 09:03             5,877 Prefetch.reg\n",
      "2018-04-23  오후 03:31    <DIR>          Program Files\n",
      "2018-04-06  오후 12:09    <DIR>          Program Files (x86)\n",
      "2018-04-11  오후 07:12    <DIR>          Temp\n",
      "2018-04-24  오전 10:12                43 test.py\n",
      "2018-04-24  오전 10:18    <DIR>          test_dir\n",
      "2018-04-24  오전 10:23             9,427 Untitled.ipynb\n",
      "2016-05-23  오후 02:31    <DIR>          Users\n",
      "2018-04-24  오전 09:01    <DIR>          Windows\n",
      "2016-05-23  오후 02:31    <DIR>          Windows_Mail\n",
      "2016-01-07  오후 09:03             4,428 Windows_Mail.cmd\n",
      "               8개 파일             928,373 바이트\n",
      "              22개 디렉터리   4,915,695,616 바이트 남음\n"
     ]
    }
   ],
   "source": [
    "ls_1 = %ls"
   ]
  },
  {
   "cell_type": "code",
   "execution_count": 21,
   "metadata": {},
   "outputs": [],
   "source": [
    "ls_1 = !ls"
   ]
  },
  {
   "cell_type": "code",
   "execution_count": 22,
   "metadata": {},
   "outputs": [
    {
     "data": {
      "text/plain": [
       "['$Recycle.Bin',\n",
       " '26074d7e5fc681d37bfde68c0f2560',\n",
       " '42ee6986f054a071ef0e0e',\n",
       " '7ea3a1f27054f09b1af001ff7df7c0',\n",
       " '80c3440c2dc16dbd93',\n",
       " '8B65B37B2E74',\n",
       " 'a1e260da2bde299d35e7',\n",
       " 'AutoLogon.cmd',\n",
       " 'b59791717bf52760ed82c26b447f',\n",
       " 'bootsqm.dat',\n",
       " 'c2ac51a403186bf290b6b3',\n",
       " 'data',\n",
       " 'Documents and Settings',\n",
       " 'dss',\n",
       " 'e071d903e8a45c9ff1',\n",
       " 'hydra_tmp_1471261724958',\n",
       " 'Intel',\n",
       " 'msdia80.dll',\n",
       " 'Nexon',\n",
       " 'npNuriWeb',\n",
       " 'pagefile.sys',\n",
       " 'PerfLogs',\n",
       " 'Prefetch.reg',\n",
       " 'Program Files',\n",
       " 'Program Files (x86)',\n",
       " 'ProgramData',\n",
       " 'Recovery',\n",
       " 'System Volume Information',\n",
       " 'Temp',\n",
       " 'test.py',\n",
       " 'test_dir',\n",
       " 'Untitled.ipynb',\n",
       " 'Users',\n",
       " 'Windows',\n",
       " 'Windows_Mail',\n",
       " 'Windows_Mail.cmd',\n",
       " 'XecureSSL']"
      ]
     },
     "execution_count": 22,
     "metadata": {},
     "output_type": "execute_result"
    }
   ],
   "source": [
    "ls_1"
   ]
  },
  {
   "cell_type": "code",
   "execution_count": 23,
   "metadata": {},
   "outputs": [],
   "source": [
    "ls_2 = _"
   ]
  },
  {
   "cell_type": "code",
   "execution_count": 24,
   "metadata": {},
   "outputs": [
    {
     "data": {
      "text/plain": [
       "['$Recycle.Bin',\n",
       " '26074d7e5fc681d37bfde68c0f2560',\n",
       " '42ee6986f054a071ef0e0e',\n",
       " '7ea3a1f27054f09b1af001ff7df7c0',\n",
       " '80c3440c2dc16dbd93',\n",
       " '8B65B37B2E74',\n",
       " 'a1e260da2bde299d35e7',\n",
       " 'AutoLogon.cmd',\n",
       " 'b59791717bf52760ed82c26b447f',\n",
       " 'bootsqm.dat',\n",
       " 'c2ac51a403186bf290b6b3',\n",
       " 'data',\n",
       " 'Documents and Settings',\n",
       " 'dss',\n",
       " 'e071d903e8a45c9ff1',\n",
       " 'hydra_tmp_1471261724958',\n",
       " 'Intel',\n",
       " 'msdia80.dll',\n",
       " 'Nexon',\n",
       " 'npNuriWeb',\n",
       " 'pagefile.sys',\n",
       " 'PerfLogs',\n",
       " 'Prefetch.reg',\n",
       " 'Program Files',\n",
       " 'Program Files (x86)',\n",
       " 'ProgramData',\n",
       " 'Recovery',\n",
       " 'System Volume Information',\n",
       " 'Temp',\n",
       " 'test.py',\n",
       " 'test_dir',\n",
       " 'Untitled.ipynb',\n",
       " 'Users',\n",
       " 'Windows',\n",
       " 'Windows_Mail',\n",
       " 'Windows_Mail.cmd',\n",
       " 'XecureSSL']"
      ]
     },
     "execution_count": 24,
     "metadata": {},
     "output_type": "execute_result"
    }
   ],
   "source": [
    "ls_2"
   ]
  },
  {
   "cell_type": "code",
   "execution_count": 25,
   "metadata": {},
   "outputs": [
    {
     "data": {
      "text/plain": [
       "3"
      ]
     },
     "execution_count": 25,
     "metadata": {},
     "output_type": "execute_result"
    }
   ],
   "source": [
    "1+2"
   ]
  },
  {
   "cell_type": "code",
   "execution_count": 26,
   "metadata": {},
   "outputs": [
    {
     "data": {
      "text/plain": [
       "3"
      ]
     },
     "execution_count": 26,
     "metadata": {},
     "output_type": "execute_result"
    }
   ],
   "source": [
    "_"
   ]
  },
  {
   "cell_type": "code",
   "execution_count": 28,
   "metadata": {},
   "outputs": [
    {
     "name": "stdout",
     "output_type": "stream",
     "text": [
      "5\n"
     ]
    }
   ],
   "source": [
    "print(1+4)"
   ]
  },
  {
   "cell_type": "code",
   "execution_count": 29,
   "metadata": {},
   "outputs": [
    {
     "data": {
      "text/plain": [
       "3"
      ]
     },
     "execution_count": 29,
     "metadata": {},
     "output_type": "execute_result"
    }
   ],
   "source": [
    "_"
   ]
  },
  {
   "cell_type": "code",
   "execution_count": 31,
   "metadata": {},
   "outputs": [],
   "source": [
    "!touch test1.py\n",
    "def sum(a,b):\n",
    "    return a+b"
   ]
  },
  {
   "cell_type": "code",
   "execution_count": 33,
   "metadata": {},
   "outputs": [
    {
     "name": "stdout",
     "output_type": "stream",
     "text": [
      "$Recycle.Bin\n",
      "26074d7e5fc681d37bfde68c0f2560\n",
      "42ee6986f054a071ef0e0e\n",
      "7ea3a1f27054f09b1af001ff7df7c0\n",
      "80c3440c2dc16dbd93\n",
      "8B65B37B2E74\n",
      "a1e260da2bde299d35e7\n",
      "AutoLogon.cmd\n",
      "b59791717bf52760ed82c26b447f\n",
      "bootsqm.dat\n",
      "c2ac51a403186bf290b6b3\n",
      "data\n",
      "Documents and Settings\n",
      "dss\n",
      "e071d903e8a45c9ff1\n",
      "hydra_tmp_1471261724958\n",
      "Intel\n",
      "msdia80.dll\n",
      "Nexon\n",
      "npNuriWeb\n",
      "pagefile.sys\n",
      "PerfLogs\n",
      "Prefetch.reg\n",
      "Program Files\n",
      "Program Files (x86)\n",
      "ProgramData\n",
      "Recovery\n",
      "System Volume Information\n",
      "Temp\n",
      "test.py\n",
      "test_dir\n",
      "test1.py\n",
      "Untitled.ipynb\n",
      "Untitled1.ipynb\n",
      "Users\n",
      "Windows\n",
      "Windows_Mail\n",
      "Windows_Mail.cmd\n",
      "XecureSSL\n"
     ]
    }
   ],
   "source": [
    "!ls"
   ]
  },
  {
   "cell_type": "code",
   "execution_count": 34,
   "metadata": {},
   "outputs": [],
   "source": [
    "!mv test.py dss.py"
   ]
  },
  {
   "cell_type": "code",
   "execution_count": 36,
   "metadata": {},
   "outputs": [],
   "source": [
    "!cp dss.py test.py"
   ]
  },
  {
   "cell_type": "code",
   "execution_count": null,
   "metadata": {},
   "outputs": [],
   "source": [
    "# %load test.py\n",
    "def test():\n",
    "    return 100\n",
    "print (test())"
   ]
  },
  {
   "cell_type": "code",
   "execution_count": 39,
   "metadata": {},
   "outputs": [
    {
     "name": "stdout",
     "output_type": "stream",
     "text": [
      "100\n"
     ]
    }
   ],
   "source": [
    "%run test.py"
   ]
  },
  {
   "cell_type": "code",
   "execution_count": 40,
   "metadata": {},
   "outputs": [
    {
     "name": "stdout",
     "output_type": "stream",
     "text": [
      "$Recycle.Bin\n",
      "26074d7e5fc681d37bfde68c0f2560\n",
      "42ee6986f054a071ef0e0e\n",
      "7ea3a1f27054f09b1af001ff7df7c0\n",
      "80c3440c2dc16dbd93\n",
      "8B65B37B2E74\n",
      "a1e260da2bde299d35e7\n",
      "AutoLogon.cmd\n",
      "b59791717bf52760ed82c26b447f\n",
      "bootsqm.dat\n",
      "c2ac51a403186bf290b6b3\n",
      "data\n",
      "Documents and Settings\n",
      "dss\n",
      "dss.py\n",
      "e071d903e8a45c9ff1\n",
      "hydra_tmp_1471261724958\n",
      "Intel\n",
      "msdia80.dll\n",
      "Nexon\n",
      "npNuriWeb\n",
      "pagefile.sys\n",
      "PerfLogs\n",
      "Prefetch.reg\n",
      "Program Files\n",
      "Program Files (x86)\n",
      "ProgramData\n",
      "Recovery\n",
      "System Volume Information\n",
      "Temp\n",
      "test.py\n",
      "test_dir\n",
      "test1.py\n",
      "Untitled.ipynb\n",
      "Untitled1.ipynb\n",
      "Users\n",
      "Windows\n",
      "Windows_Mail\n",
      "Windows_Mail.cmd\n",
      "XecureSSL\n"
     ]
    }
   ],
   "source": [
    "!ls"
   ]
  },
  {
   "cell_type": "code",
   "execution_count": 41,
   "metadata": {},
   "outputs": [],
   "source": [
    "!rm dss.py"
   ]
  },
  {
   "cell_type": "code",
   "execution_count": 42,
   "metadata": {},
   "outputs": [
    {
     "data": {
      "text/plain": [
       "3"
      ]
     },
     "execution_count": 42,
     "metadata": {},
     "output_type": "execute_result"
    }
   ],
   "source": [
    "sum(1,2)"
   ]
  },
  {
   "cell_type": "code",
   "execution_count": 50,
   "metadata": {},
   "outputs": [],
   "source": [
    "sum?"
   ]
  },
  {
   "cell_type": "code",
   "execution_count": 52,
   "metadata": {},
   "outputs": [],
   "source": [
    "sum??"
   ]
  },
  {
   "cell_type": "code",
   "execution_count": 43,
   "metadata": {},
   "outputs": [
    {
     "name": "stdout",
     "output_type": "stream",
     "text": [
      "Wall time: 0 ns\n"
     ]
    },
    {
     "data": {
      "text/plain": [
       "3"
      ]
     },
     "execution_count": 43,
     "metadata": {},
     "output_type": "execute_result"
    }
   ],
   "source": [
    "%%time\n",
    "sum(1,2)"
   ]
  },
  {
   "cell_type": "code",
   "execution_count": 44,
   "metadata": {},
   "outputs": [
    {
     "name": "stdout",
     "output_type": "stream",
     "text": [
      "387 ns ± 114 ns per loop (mean ± std. dev. of 7 runs, 1000000 loops each)\n"
     ]
    }
   ],
   "source": [
    "%%timeit\n",
    "sum(1,2)"
   ]
  },
  {
   "cell_type": "code",
   "execution_count": 45,
   "metadata": {},
   "outputs": [
    {
     "name": "stdout",
     "output_type": "stream",
     "text": [
      "Variable   Type        Data/Info\n",
      "--------------------------------\n",
      "ls_1       SList       ['$Recycle.Bin', '26074d7<...>s_Mail.cmd', 'XecureSSL']\n",
      "ls_2       SList       ['$Recycle.Bin', '26074d7<...>s_Mail.cmd', 'XecureSSL']\n",
      "sum        function    <function sum at 0x000000000540C840>\n",
      "test       function    <function test at 0x000000000540C268>\n"
     ]
    }
   ],
   "source": [
    "%whos"
   ]
  },
  {
   "cell_type": "code",
   "execution_count": 46,
   "metadata": {},
   "outputs": [],
   "source": [
    "a = 1"
   ]
  },
  {
   "cell_type": "code",
   "execution_count": 47,
   "metadata": {},
   "outputs": [
    {
     "name": "stdout",
     "output_type": "stream",
     "text": [
      "Once deleted, variables cannot be recovered. Proceed (y/[n])? y\n"
     ]
    }
   ],
   "source": [
    "%reset"
   ]
  },
  {
   "cell_type": "code",
   "execution_count": 48,
   "metadata": {},
   "outputs": [
    {
     "name": "stdout",
     "output_type": "stream",
     "text": [
      "Interactive namespace is empty.\n"
     ]
    }
   ],
   "source": [
    "%whos"
   ]
  },
  {
   "cell_type": "markdown",
   "metadata": {},
   "source": [
    "> dss\n",
    ">> datasience"
   ]
  },
  {
   "cell_type": "code",
   "execution_count": null,
   "metadata": {},
   "outputs": [],
   "source": []
  }
 ],
 "metadata": {
  "kernelspec": {
   "display_name": "Python 3",
   "language": "python",
   "name": "python3"
  },
  "language_info": {
   "codemirror_mode": {
    "name": "ipython",
    "version": 3
   },
   "file_extension": ".py",
   "mimetype": "text/x-python",
   "name": "python",
   "nbconvert_exporter": "python",
   "pygments_lexer": "ipython3",
   "version": "3.6.4"
  }
 },
 "nbformat": 4,
 "nbformat_minor": 2
}
