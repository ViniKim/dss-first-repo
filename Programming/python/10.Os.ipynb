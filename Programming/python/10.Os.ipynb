{
 "cells": [
  {
   "cell_type": "markdown",
   "metadata": {},
   "source": [
    "##### OS\n",
    "- 파일시스템을 파이썬 코드로 컨트롤 할 수 있는 패키지입니다."
   ]
  },
  {
   "cell_type": "code",
   "execution_count": 4,
   "metadata": {},
   "outputs": [],
   "source": [
    "import os"
   ]
  },
  {
   "cell_type": "code",
   "execution_count": 1,
   "metadata": {},
   "outputs": [],
   "source": [
    "# 디렉토리 만들기"
   ]
  },
  {
   "cell_type": "code",
   "execution_count": 3,
   "metadata": {},
   "outputs": [
    {
     "name": "stdout",
     "output_type": "stream",
     "text": [
      "__pycache__\n",
      "01_numpy_make_B.ipynb\n",
      "01_quiz_basic_syntax.ipynb\n",
      "03_condition_loop.ipynb\n",
      "03_pandas_basic_B.ipynb\n",
      "04_function_B.ipynb\n",
      "05_class_B.ipynb\n",
      "09_thread.ipynb\n",
      "1. Python basic syntax1.ipynb\n",
      "10. Numpy_make.ipynb\n",
      "11. Numpy_calculate.ipynb\n",
      "2. Python Basic Syntax2 .ipynb\n",
      "3. Python Condition Loop .ipynb\n",
      "4. Function.ipynb\n",
      "5. Class.ipynb\n",
      "6. Package_module.ipynb\n",
      "7. Try_Except.ipynb\n",
      "8. File_pickle.ipynb\n",
      "9. Thread.ipynb\n",
      "B_源��쐶�닔_1_1.ipynb\n",
      "B_源��쐶�닔_1_2.ipynb\n",
      "B_源��쐶�닔_1_3.ipynb\n",
      "cctv.csv\n",
      "DH_scipy.optimize.ipynb\n",
      "DH_Sympy瑜� �씠�슜�븳 �븿�닔 誘몃텇.ipynb\n",
      "DH_�뻾�젹�쓽 �꽦吏�.ipynb\n",
      "DH怨쇱젣_源��쐶�닔.ipynb\n",
      "Documents\n",
      "dsm.py\n",
      "foo.csv\n",
      "foo.xlsx\n",
      "Jupyter Notebook - Magic Command review + Shell Command.ipynb\n",
      "Leaflet.ipynb\n",
      "matplotlib_1.ipynb\n",
      "matplotlib_2.ipynb\n",
      "Os.ipynb\n",
      "pandas_1_源��쐶�닔.ipynb\n",
      "pandas_2_源��쐶�닔.ipynb\n",
      "Pandas_basic.ipynb\n",
      "Pandas_pivot.ipynb\n",
      "quiz_loop_源��쐶�닔.ipynb\n",
      "quiz_numpy_源��쐶�닔.ipynb\n",
      "quiz_pandas_源��쐶�닔.zip\n",
      "quiz_python_源��쐶�닔.ipynb\n",
      "Regex.ipynb\n",
      "school\n",
      "Seaborn.ipynb\n",
      "train.csv\n",
      "踰≫꽣��� �뻾�젹�쓽 �뿰�궛.ipynb\n",
      "蹂듭뒿_class.ipynb\n",
      "蹂듭뒿_matplotlib1&2.ipynb\n",
      "蹂듭뒿_numpy_make.ipynb\n",
      "蹂듭뒿_pandas_basic.ipynb\n"
     ]
    }
   ],
   "source": [
    "!ls"
   ]
  },
  {
   "cell_type": "code",
   "execution_count": 5,
   "metadata": {},
   "outputs": [],
   "source": [
    "os.makedirs(\"os_dir\")"
   ]
  },
  {
   "cell_type": "code",
   "execution_count": 6,
   "metadata": {},
   "outputs": [
    {
     "name": "stdout",
     "output_type": "stream",
     "text": [
      "__pycache__\n",
      "01_numpy_make_B.ipynb\n",
      "01_quiz_basic_syntax.ipynb\n",
      "03_condition_loop.ipynb\n",
      "03_pandas_basic_B.ipynb\n",
      "04_function_B.ipynb\n",
      "05_class_B.ipynb\n",
      "09_thread.ipynb\n",
      "1. Python basic syntax1.ipynb\n",
      "10. Numpy_make.ipynb\n",
      "11. Numpy_calculate.ipynb\n",
      "2. Python Basic Syntax2 .ipynb\n",
      "3. Python Condition Loop .ipynb\n",
      "4. Function.ipynb\n",
      "5. Class.ipynb\n",
      "6. Package_module.ipynb\n",
      "7. Try_Except.ipynb\n",
      "8. File_pickle.ipynb\n",
      "9. Thread.ipynb\n",
      "B_源��쐶�닔_1_1.ipynb\n",
      "B_源��쐶�닔_1_2.ipynb\n",
      "B_源��쐶�닔_1_3.ipynb\n",
      "cctv.csv\n",
      "DH_scipy.optimize.ipynb\n",
      "DH_Sympy瑜� �씠�슜�븳 �븿�닔 誘몃텇.ipynb\n",
      "DH_�뻾�젹�쓽 �꽦吏�.ipynb\n",
      "DH怨쇱젣_源��쐶�닔.ipynb\n",
      "Documents\n",
      "dsm.py\n",
      "foo.csv\n",
      "foo.xlsx\n",
      "Jupyter Notebook - Magic Command review + Shell Command.ipynb\n",
      "Leaflet.ipynb\n",
      "matplotlib_1.ipynb\n",
      "matplotlib_2.ipynb\n",
      "Os.ipynb\n",
      "os_dir\n",
      "pandas_1_源��쐶�닔.ipynb\n",
      "pandas_2_源��쐶�닔.ipynb\n",
      "Pandas_basic.ipynb\n",
      "Pandas_pivot.ipynb\n",
      "quiz_loop_源��쐶�닔.ipynb\n",
      "quiz_numpy_源��쐶�닔.ipynb\n",
      "quiz_pandas_源��쐶�닔.zip\n",
      "quiz_python_源��쐶�닔.ipynb\n",
      "Regex.ipynb\n",
      "school\n",
      "Seaborn.ipynb\n",
      "train.csv\n",
      "踰≫꽣��� �뻾�젹�쓽 �뿰�궛.ipynb\n",
      "蹂듭뒿_class.ipynb\n",
      "蹂듭뒿_matplotlib1&2.ipynb\n",
      "蹂듭뒿_numpy_make.ipynb\n",
      "蹂듭뒿_pandas_basic.ipynb\n"
     ]
    }
   ],
   "source": [
    "!ls"
   ]
  },
  {
   "cell_type": "code",
   "execution_count": 7,
   "metadata": {},
   "outputs": [],
   "source": [
    "s = \"data science\"\n",
    "with open(\"os_dir/test.txt\", \"wt\") as f:\n",
    "    f.write(s)\n",
    "\n",
    "s2 = \"data science2\"\n",
    "with open(\"os_dir/test2.txt\", \"wt\") as f:\n",
    "    f.write(s)\n",
    "\n",
    "s3 = \"data,science2\"\n",
    "with open(\"os_dir/test3.csv\", \"wt\") as f:\n",
    "    f.write(s)"
   ]
  },
  {
   "cell_type": "code",
   "execution_count": 8,
   "metadata": {},
   "outputs": [
    {
     "name": "stdout",
     "output_type": "stream",
     "text": [
      "test.txt\n",
      "test2.txt\n",
      "test3.csv\n"
     ]
    }
   ],
   "source": [
    "!ls os_dir"
   ]
  },
  {
   "cell_type": "code",
   "execution_count": 9,
   "metadata": {},
   "outputs": [
    {
     "data": {
      "text/plain": [
       "['test.txt', 'test2.txt', 'test3.csv']"
      ]
     },
     "execution_count": 9,
     "metadata": {},
     "output_type": "execute_result"
    }
   ],
   "source": [
    "# 파일 리스트 읽기\n",
    "os.listdir(\"os_dir\")"
   ]
  },
  {
   "cell_type": "code",
   "execution_count": 27,
   "metadata": {},
   "outputs": [],
   "source": [
    "# 파일 삭제\n",
    "os.remove(\"os_dir/test3.csv\")"
   ]
  },
  {
   "cell_type": "code",
   "execution_count": 12,
   "metadata": {},
   "outputs": [],
   "source": [
    "# 디렉토리 삭제"
   ]
  },
  {
   "cell_type": "code",
   "execution_count": 28,
   "metadata": {},
   "outputs": [
    {
     "ename": "OSError",
     "evalue": "[WinError 145] 디렉터리가 비어 있지 않습니다: 'os_dir'",
     "output_type": "error",
     "traceback": [
      "\u001b[1;31m---------------------------------------------------------------------------\u001b[0m",
      "\u001b[1;31mOSError\u001b[0m                                   Traceback (most recent call last)",
      "\u001b[1;32m<ipython-input-28-87ca1fca9681>\u001b[0m in \u001b[0;36m<module>\u001b[1;34m()\u001b[0m\n\u001b[1;32m----> 1\u001b[1;33m \u001b[0mos\u001b[0m\u001b[1;33m.\u001b[0m\u001b[0mremovedirs\u001b[0m\u001b[1;33m(\u001b[0m\u001b[1;34m\"os_dir\"\u001b[0m\u001b[1;33m)\u001b[0m \u001b[1;31m#디렉토리 안에 파일이 있기 때문에 삭제가 안 되는 거. 이 안에 있는 모든 파일 삭제 후에 디렉토리 삭제할 수 있음\u001b[0m\u001b[1;33m\u001b[0m\u001b[0m\n\u001b[0m",
      "\u001b[1;32mC:\\ProgramData\\Anaconda3\\lib\\os.py\u001b[0m in \u001b[0;36mremovedirs\u001b[1;34m(name)\u001b[0m\n\u001b[0;32m    236\u001b[0m \u001b[1;33m\u001b[0m\u001b[0m\n\u001b[0;32m    237\u001b[0m     \"\"\"\n\u001b[1;32m--> 238\u001b[1;33m     \u001b[0mrmdir\u001b[0m\u001b[1;33m(\u001b[0m\u001b[0mname\u001b[0m\u001b[1;33m)\u001b[0m\u001b[1;33m\u001b[0m\u001b[0m\n\u001b[0m\u001b[0;32m    239\u001b[0m     \u001b[0mhead\u001b[0m\u001b[1;33m,\u001b[0m \u001b[0mtail\u001b[0m \u001b[1;33m=\u001b[0m \u001b[0mpath\u001b[0m\u001b[1;33m.\u001b[0m\u001b[0msplit\u001b[0m\u001b[1;33m(\u001b[0m\u001b[0mname\u001b[0m\u001b[1;33m)\u001b[0m\u001b[1;33m\u001b[0m\u001b[0m\n\u001b[0;32m    240\u001b[0m     \u001b[1;32mif\u001b[0m \u001b[1;32mnot\u001b[0m \u001b[0mtail\u001b[0m\u001b[1;33m:\u001b[0m\u001b[1;33m\u001b[0m\u001b[0m\n",
      "\u001b[1;31mOSError\u001b[0m: [WinError 145] 디렉터리가 비어 있지 않습니다: 'os_dir'"
     ]
    }
   ],
   "source": [
    "os.removedirs(\"os_dir\") #디렉토리 안에 파일이 있기 때문에 삭제가 안 되는 거. 이 안에 있는 모든 파일 삭제 후에 디렉토리 삭제할 수 있음"
   ]
  },
  {
   "cell_type": "code",
   "execution_count": 18,
   "metadata": {},
   "outputs": [
    {
     "ename": "SyntaxError",
     "evalue": "invalid syntax (<ipython-input-18-fedfed0ae9a2>, line 5)",
     "output_type": "error",
     "traceback": [
      "\u001b[1;36m  File \u001b[1;32m\"<ipython-input-18-fedfed0ae9a2>\"\u001b[1;36m, line \u001b[1;32m5\u001b[0m\n\u001b[1;33m    os.remove(path + `\\` + file)\u001b[0m\n\u001b[1;37m                     ^\u001b[0m\n\u001b[1;31mSyntaxError\u001b[0m\u001b[1;31m:\u001b[0m invalid syntax\n"
     ]
    }
   ],
   "source": [
    "path = \"os_dir\"\n",
    "files = os.listdir(path)\n",
    "for file in files:\n",
    "    print(file)\n",
    "    os.remove(path + \"\\\" + file)\n",
    "###????"
   ]
  },
  {
   "cell_type": "code",
   "execution_count": 17,
   "metadata": {},
   "outputs": [
    {
     "name": "stdout",
     "output_type": "stream",
     "text": [
      "test.txt\n",
      "test2.txt\n",
      "test3.csv\n"
     ]
    }
   ],
   "source": [
    "!ls os_dir"
   ]
  },
  {
   "cell_type": "code",
   "execution_count": 19,
   "metadata": {},
   "outputs": [],
   "source": [
    "# 파일과 디렉토리를 모두 삭제 - rmtree\n",
    "import shutil\n",
    "shutil.rmtree(\"os_dir\")"
   ]
  },
  {
   "cell_type": "code",
   "execution_count": 21,
   "metadata": {},
   "outputs": [
    {
     "name": "stdout",
     "output_type": "stream",
     "text": [
      "__pycache__\n",
      "01_numpy_make_B.ipynb\n",
      "01_quiz_basic_syntax.ipynb\n",
      "03_condition_loop.ipynb\n",
      "03_pandas_basic_B.ipynb\n",
      "04_function_B.ipynb\n",
      "05_class_B.ipynb\n",
      "09_thread.ipynb\n",
      "1. Python basic syntax1.ipynb\n",
      "10. Numpy_make.ipynb\n",
      "11. Numpy_calculate.ipynb\n",
      "2. Python Basic Syntax2 .ipynb\n",
      "3. Python Condition Loop .ipynb\n",
      "4. Function.ipynb\n",
      "5. Class.ipynb\n",
      "6. Package_module.ipynb\n",
      "7. Try_Except.ipynb\n",
      "8. File_pickle.ipynb\n",
      "9. Thread.ipynb\n",
      "B_源��쐶�닔_1_1.ipynb\n",
      "B_源��쐶�닔_1_2.ipynb\n",
      "B_源��쐶�닔_1_3.ipynb\n",
      "cctv.csv\n",
      "DH_scipy.optimize.ipynb\n",
      "DH_Sympy瑜� �씠�슜�븳 �븿�닔 誘몃텇.ipynb\n",
      "DH_�뻾�젹�쓽 �꽦吏�.ipynb\n",
      "DH怨쇱젣_源��쐶�닔.ipynb\n",
      "Documents\n",
      "dsm.py\n",
      "foo.csv\n",
      "foo.xlsx\n",
      "Jupyter Notebook - Magic Command review + Shell Command.ipynb\n",
      "Leaflet.ipynb\n",
      "matplotlib_1.ipynb\n",
      "matplotlib_2.ipynb\n",
      "Os.ipynb\n",
      "pandas_1_源��쐶�닔.ipynb\n",
      "pandas_2_源��쐶�닔.ipynb\n",
      "Pandas_basic.ipynb\n",
      "Pandas_pivot.ipynb\n",
      "quiz_loop_源��쐶�닔.ipynb\n",
      "quiz_numpy_源��쐶�닔.ipynb\n",
      "quiz_pandas_源��쐶�닔.zip\n",
      "quiz_python_源��쐶�닔.ipynb\n",
      "Regex.ipynb\n",
      "school\n",
      "Seaborn.ipynb\n",
      "train.csv\n",
      "踰≫꽣��� �뻾�젹�쓽 �뿰�궛.ipynb\n",
      "蹂듭뒿_class.ipynb\n",
      "蹂듭뒿_matplotlib1&2.ipynb\n",
      "蹂듭뒿_numpy_make.ipynb\n",
      "蹂듭뒿_pandas_basic.ipynb\n"
     ]
    }
   ],
   "source": [
    "!ls"
   ]
  },
  {
   "cell_type": "code",
   "execution_count": 23,
   "metadata": {},
   "outputs": [],
   "source": [
    "os.makedirs(\"os_dir\")"
   ]
  },
  {
   "cell_type": "code",
   "execution_count": 24,
   "metadata": {},
   "outputs": [],
   "source": [
    "s = \"data science\"\n",
    "with open(\"os_dir/test.txt\", \"wt\") as f:\n",
    "    f.write(s)\n",
    "\n",
    "s2 = \"data science2\"\n",
    "with open(\"os_dir/test2.txt\", \"wt\") as f:\n",
    "    f.write(s)\n",
    "\n",
    "s3 = \"data,science2\"\n",
    "with open(\"os_dir/test3.csv\", \"wt\") as f:\n",
    "    f.write(s)"
   ]
  },
  {
   "cell_type": "code",
   "execution_count": 26,
   "metadata": {},
   "outputs": [
    {
     "data": {
      "text/plain": [
       "True"
      ]
     },
     "execution_count": 26,
     "metadata": {},
     "output_type": "execute_result"
    }
   ],
   "source": [
    "# 파일의 존재 여부 확인 - exists\n",
    "os.path.exists(\"os_dir/test.txt\")"
   ]
  },
  {
   "cell_type": "code",
   "execution_count": 29,
   "metadata": {},
   "outputs": [
    {
     "data": {
      "text/plain": [
       "True"
      ]
     },
     "execution_count": 29,
     "metadata": {},
     "output_type": "execute_result"
    }
   ],
   "source": [
    "# 파일 타입을 확인 - isdir\n",
    "os.path.isdir(\"os_dir\")"
   ]
  },
  {
   "cell_type": "code",
   "execution_count": 30,
   "metadata": {},
   "outputs": [
    {
     "data": {
      "text/plain": [
       "False"
      ]
     },
     "execution_count": 30,
     "metadata": {},
     "output_type": "execute_result"
    }
   ],
   "source": [
    "os.path.isdir(\"os_dir/test.txt\")"
   ]
  },
  {
   "cell_type": "code",
   "execution_count": 31,
   "metadata": {},
   "outputs": [
    {
     "name": "stdout",
     "output_type": "stream",
     "text": [
      "test.txt\n",
      "test2.txt\n"
     ]
    }
   ],
   "source": [
    "# 복사하기\n",
    "!ls os_dir"
   ]
  },
  {
   "cell_type": "code",
   "execution_count": 34,
   "metadata": {},
   "outputs": [
    {
     "data": {
      "text/plain": [
       "'os_dir/copy.txt'"
      ]
     },
     "execution_count": 34,
     "metadata": {},
     "output_type": "execute_result"
    }
   ],
   "source": [
    "shutil.copy(\"os_dir/test.txt\", \"os_dir/copy.txt\")"
   ]
  },
  {
   "cell_type": "code",
   "execution_count": 35,
   "metadata": {},
   "outputs": [],
   "source": [
    "# 이름 바꾸기 (!mv)\n",
    "os.rename(\"os_dir/copy.txt\", \"os_dir/rename.txt\")"
   ]
  },
  {
   "cell_type": "code",
   "execution_count": 36,
   "metadata": {},
   "outputs": [
    {
     "name": "stdout",
     "output_type": "stream",
     "text": [
      "rename.txt\n",
      "test.txt\n",
      "test2.txt\n"
     ]
    }
   ],
   "source": [
    "!ls os_dir"
   ]
  },
  {
   "cell_type": "markdown",
   "metadata": {},
   "source": [
    "##### 권한설정\n",
    "- `-rw-r--r--` : 10개의 문자로 이루어진 권한에 관련된 정보\n",
    "    - `[:1]` : 타입\n",
    "    - `[1:4]` : 소유자에 대한 파일의 권한\n",
    "    - `[4:7]` : 그룹에 대한 파일의 권한\n",
    "    - `[7:]` : 모든 사용자에 대한 파일의 권한\n",
    "- 권한\n",
    "    - rwx : r(읽기), w(쓰기), x(실행)\n",
    "- 권한 설정 진법(2진수, 8진수)\n",
    "    - chmod 731 os_dir/test.txt\n",
    "    - 7(8) - 111 - rwx\n",
    "    - 5(8) - 101 - r-x"
   ]
  },
  {
   "cell_type": "code",
   "execution_count": 38,
   "metadata": {},
   "outputs": [],
   "source": [
    "os.chmod(\"os_dir/test.txt\", 0o736) #window는 잘 안 될 거...."
   ]
  },
  {
   "cell_type": "code",
   "execution_count": null,
   "metadata": {},
   "outputs": [],
   "source": []
  },
  {
   "cell_type": "code",
   "execution_count": null,
   "metadata": {},
   "outputs": [],
   "source": []
  }
 ],
 "metadata": {
  "kernelspec": {
   "display_name": "Python 3",
   "language": "python",
   "name": "python3"
  },
  "language_info": {
   "codemirror_mode": {
    "name": "ipython",
    "version": 3
   },
   "file_extension": ".py",
   "mimetype": "text/x-python",
   "name": "python",
   "nbconvert_exporter": "python",
   "pygments_lexer": "ipython3",
   "version": "3.6.4"
  }
 },
 "nbformat": 4,
 "nbformat_minor": 2
}
