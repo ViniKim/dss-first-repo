{
 "cells": [
  {
   "cell_type": "markdown",
   "metadata": {},
   "source": [
    "### Function\n",
    " - 선언, 호출\n",
    " - parameter, argument 개념\n",
    " - return\n",
    " - `*args`, `**kwargs`\n",
    " - docstring\n",
    " - scope (global, local)\n",
    " - inner function, lambda function\n",
    " - map, filter, reduce\n",
    " - decorlator\n",
    " \n",
    " - +함수도 function이라는 데이터 타입의 변수"
   ]
  },
  {
   "cell_type": "markdown",
   "metadata": {},
   "source": [
    "##### 선언, 호출\n",
    "```\n",
    "# 선언\n",
    "def <function_name>():\n",
    "    code\n",
    "```\n",
    "```\n",
    "# 호출\n",
    "<function_name>()\n",
    "#꼭 괄호 열고 닫고 해야 함\n",
    "```"
   ]
  },
  {
   "cell_type": "code",
   "execution_count": 2,
   "metadata": {},
   "outputs": [
    {
     "name": "stdout",
     "output_type": "stream",
     "text": [
      "this is test function!\n"
     ]
    }
   ],
   "source": [
    "# 선언\n",
    "def test():\n",
    "    print(\"this is test function!\")\n",
    "    \n",
    "# 호출\n",
    "test()"
   ]
  },
  {
   "cell_type": "markdown",
   "metadata": {},
   "source": [
    "##### parameters & arguments"
   ]
  },
  {
   "cell_type": "code",
   "execution_count": 6,
   "metadata": {},
   "outputs": [
    {
     "name": "stdout",
     "output_type": "stream",
     "text": [
      "3\n",
      "7\n"
     ]
    }
   ],
   "source": [
    "# parameters(여기서의 a, b 는 parameters)\n",
    "def sum_func(a, b):\n",
    "    print(a + b)\n",
    "\n",
    "# arguments(여기서의 1, 2는 argument)\n",
    "sum_func(1, 2)\n",
    "num1, num2 = 2, 5\n",
    "sum_func(num1, num2)\n",
    "\n",
    "# 실제로 다른 개념이지만 그냥 둘이 합쳐서 parameter라고 많이 함"
   ]
  },
  {
   "cell_type": "code",
   "execution_count": 9,
   "metadata": {},
   "outputs": [
    {
     "name": "stdout",
     "output_type": "stream",
     "text": [
      "0.2\n",
      "5.0\n"
     ]
    }
   ],
   "source": [
    "# keyword argument\n",
    "def div_func(a, b):\n",
    "    print(a / b)\n",
    "\n",
    "div_func(2, 10)\n",
    "\n",
    "def div_func(a, b):\n",
    "    print(a / b)\n",
    "\n",
    "div_func(b=2, a=10)"
   ]
  },
  {
   "cell_type": "code",
   "execution_count": 16,
   "metadata": {},
   "outputs": [
    {
     "name": "stdout",
     "output_type": "stream",
     "text": [
      "8\n",
      "3\n",
      "5\n",
      "17\n"
     ]
    }
   ],
   "source": [
    "# default parameter\n",
    "# default parameter가 아닌 애를 무조건 앞 쪽으로 써줘야 함(num1, num2=0)이렇게!\n",
    "# \n",
    "def sum_func(num1, num2):\n",
    "    print(num1 + num2)\n",
    "    \n",
    "sum_func(3, 5)\n",
    "\n",
    "def sum_func(num1, num2=0):\n",
    "    print(num1 + num2)\n",
    "    \n",
    "sum_func(3)\n",
    "\n",
    "def sum_func(num1, num2=0):\n",
    "    print(num1 + num2)\n",
    "    \n",
    "sum_func(3, 2)\n",
    "\n",
    "def sum_func(num0, num1, num2=0, num3=10):\n",
    "    print(num1 + num2 + num3)\n",
    "    \n",
    "sum_func(1, 3, 4)"
   ]
  },
  {
   "cell_type": "code",
   "execution_count": 1,
   "metadata": {},
   "outputs": [
    {
     "name": "stdout",
     "output_type": "stream",
     "text": [
      "test test2\n"
     ]
    }
   ],
   "source": [
    "print(\"test\", end = \" \")\n",
    "print(\"test2\")\n",
    "# 원래 print의 default는 end = \"\\n\"인데 첫번째 줄처럼 설정하면 저게 적용됨. 그니까 위에 default parameter도 마찬가지로 적용됨"
   ]
  },
  {
   "cell_type": "markdown",
   "metadata": {},
   "source": [
    "##### Return\n",
    "- 함수를 호출했을 때 결과를 반환하는 용도로 사용"
   ]
  },
  {
   "cell_type": "code",
   "execution_count": 19,
   "metadata": {},
   "outputs": [],
   "source": [
    "def sum_func(num1, num2):\n",
    "    return num1 + num2"
   ]
  },
  {
   "cell_type": "code",
   "execution_count": 20,
   "metadata": {},
   "outputs": [
    {
     "data": {
      "text/plain": [
       "3"
      ]
     },
     "execution_count": 20,
     "metadata": {},
     "output_type": "execute_result"
    }
   ],
   "source": [
    "sum_func(1,2)"
   ]
  },
  {
   "cell_type": "code",
   "execution_count": 21,
   "metadata": {},
   "outputs": [
    {
     "data": {
      "text/plain": [
       "3"
      ]
     },
     "execution_count": 21,
     "metadata": {},
     "output_type": "execute_result"
    }
   ],
   "source": [
    "result= sum_func(1,2)\n",
    "result"
   ]
  },
  {
   "cell_type": "code",
   "execution_count": 22,
   "metadata": {},
   "outputs": [],
   "source": [
    "def calc_func(num1, num2):\n",
    "    return num1 + num2, num1 - num2"
   ]
  },
  {
   "cell_type": "code",
   "execution_count": 24,
   "metadata": {},
   "outputs": [
    {
     "data": {
      "text/plain": [
       "(7, 3)"
      ]
     },
     "execution_count": 24,
     "metadata": {},
     "output_type": "execute_result"
    }
   ],
   "source": [
    "calc_func(5, 2)\n",
    "# tuple 형태로 리턴됨"
   ]
  },
  {
   "cell_type": "code",
   "execution_count": 27,
   "metadata": {},
   "outputs": [
    {
     "name": "stdout",
     "output_type": "stream",
     "text": [
      "7 3\n"
     ]
    }
   ],
   "source": [
    "result_1, result_2 = calc_func(5, 2)\n",
    "print(result_1, result_2)"
   ]
  },
  {
   "cell_type": "markdown",
   "metadata": {},
   "source": [
    "##### `*args, **kwargs`"
   ]
  },
  {
   "cell_type": "markdown",
   "metadata": {},
   "source": [
    "#####  `*`= 전부, 모두, All. 이런 의미를 가짐"
   ]
  },
  {
   "cell_type": "code",
   "execution_count": 37,
   "metadata": {},
   "outputs": [
    {
     "name": "stdout",
     "output_type": "stream",
     "text": [
      "1 3 5\n",
      "<class 'tuple'>\n",
      "1 3\n"
     ]
    },
    {
     "data": {
      "text/plain": [
       "9"
      ]
     },
     "execution_count": 37,
     "metadata": {},
     "output_type": "execute_result"
    }
   ],
   "source": [
    "# *args = arguments의 약자 -> * 붙었으니까 모든 args\n",
    "# parameter와 상관없이 argument 수 대로 받는?\n",
    "def sum_func(*args):\n",
    "    print(*args)\n",
    "    print(type(args))\n",
    "    print(args[0], args[1])\n",
    "    return sum(args)\n",
    "    \n",
    "sum_func(1, 3, 5)"
   ]
  },
  {
   "cell_type": "code",
   "execution_count": 38,
   "metadata": {},
   "outputs": [
    {
     "name": "stdout",
     "output_type": "stream",
     "text": [
      "1 3 5 7\n",
      "<class 'tuple'>\n",
      "1 3\n"
     ]
    },
    {
     "data": {
      "text/plain": [
       "16"
      ]
     },
     "execution_count": 38,
     "metadata": {},
     "output_type": "execute_result"
    }
   ],
   "source": [
    "sum_func(1, 3, 5, 7)"
   ]
  },
  {
   "cell_type": "code",
   "execution_count": 39,
   "metadata": {},
   "outputs": [
    {
     "name": "stdout",
     "output_type": "stream",
     "text": [
      "1 3 5 7 9\n",
      "<class 'tuple'>\n",
      "1 3\n"
     ]
    },
    {
     "data": {
      "text/plain": [
       "25"
      ]
     },
     "execution_count": 39,
     "metadata": {},
     "output_type": "execute_result"
    }
   ],
   "source": [
    "sum_func(1, 3, 5, 7, 9)"
   ]
  },
  {
   "cell_type": "code",
   "execution_count": 33,
   "metadata": {},
   "outputs": [
    {
     "data": {
      "text/plain": [
       "6"
      ]
     },
     "execution_count": 33,
     "metadata": {},
     "output_type": "execute_result"
    }
   ],
   "source": [
    "ls = [1,2,3]\n",
    "sum(ls)"
   ]
  },
  {
   "cell_type": "code",
   "execution_count": 43,
   "metadata": {},
   "outputs": [
    {
     "name": "stdout",
     "output_type": "stream",
     "text": [
      "{'num1': 1, 'num2': 2}\n",
      "<class 'dict'>\n",
      "1 2\n"
     ]
    }
   ],
   "source": [
    "#kwargs = keyword arguments의 약자 -> * 붙었으니까 모든 kwargs\n",
    "def sum_func(**kwargs):\n",
    "    print(kwargs)\n",
    "    print(type(kwargs))\n",
    "    print(kwargs[\"num1\"], kwargs[\"num2\"])\n",
    "\n",
    "sum_func(num1=1, num2=2)\n"
   ]
  },
  {
   "cell_type": "code",
   "execution_count": 3,
   "metadata": {},
   "outputs": [
    {
     "name": "stdout",
     "output_type": "stream",
     "text": [
      "{'korean': 100, 'english': 70, 'math': 80}\n",
      "<class 'dict'>\n",
      "korean 100\n",
      "english 70\n",
      "math 80\n",
      "avg : 83.33\n"
     ]
    }
   ],
   "source": [
    "def avg_func(**kwargs):\n",
    "    print(kwargs)\n",
    "    print(type(kwargs))\n",
    "    total, count = 0, 0\n",
    "    for subject, point in kwargs.items():\n",
    "        print(subject, point)\n",
    "        total += point\n",
    "        count += 1\n",
    "    return total / count\n",
    "\n",
    "a = avg_func(korean=100, english=70, math=80)\n",
    "print(\"avg : {}\".format(round(a,2)))"
   ]
  },
  {
   "cell_type": "code",
   "execution_count": 46,
   "metadata": {},
   "outputs": [
    {
     "name": "stdout",
     "output_type": "stream",
     "text": [
      "(1, 2, 3)\n",
      "{'num1': 2, 'num2': 3}\n"
     ]
    }
   ],
   "source": [
    "# keyword가 없는 argument들은 args로 받아지고,\n",
    "# keyword가 있는 argument들은 kwargs로 받아짐\n",
    "def fun(*args, **kwargs):\n",
    "        print(args)\n",
    "        print(kwargs)\n",
    "\n",
    "fun(1,2,3,num1=2,num2=3)"
   ]
  },
  {
   "cell_type": "code",
   "execution_count": 48,
   "metadata": {},
   "outputs": [
    {
     "name": "stdout",
     "output_type": "stream",
     "text": [
      "([1, 2, 3],)\n",
      "(1, 2, 3)\n"
     ]
    }
   ],
   "source": [
    "# argumetn에 * 사용\n",
    "def test(*args):\n",
    "    print(args)\n",
    "\n",
    "ls = [1,2,3]\n",
    "test(ls) #     ls가 묶여서 argument의 [0]번째가 된 거\n",
    "test(*ls)"
   ]
  },
  {
   "cell_type": "markdown",
   "metadata": {},
   "source": [
    "##### docstirng\n",
    "- 함수를 설명할 때 사용됩니다. (함수에 대한 설명, parameter에 대한 설명 등이 꼭 들어가야 함)\n",
    "```\n",
    "def <function_name>():\n",
    "    \"\"\"\n",
    "    description\n",
    "    \"\n",
    "```\n",
    "- PEP20 : Zen of Python\n",
    " - readablity counts: 가독성은 중요하다\n",
    "- PEP8: coding convention"
   ]
  },
  {
   "cell_type": "code",
   "execution_count": 57,
   "metadata": {},
   "outputs": [],
   "source": [
    "import this"
   ]
  },
  {
   "cell_type": "code",
   "execution_count": null,
   "metadata": {},
   "outputs": [],
   "source": [
    "# first_number = snake case\n",
    "# firstNumber = camel case\n",
    "# FirstNumber = ??? case"
   ]
  },
  {
   "cell_type": "code",
   "execution_count": 68,
   "metadata": {},
   "outputs": [],
   "source": [
    "# docstring - 작성하는 사람에 따라서 달라짐. 정답은 없음. \n",
    "def echo(anything):\n",
    "    \"\"\"\n",
    "    echo returns its input argument\n",
    "    the operation is:\n",
    "        1. print(anything)\n",
    "        2. return(anything)\n",
    "    \"\"\"\n",
    "    return anything"
   ]
  },
  {
   "cell_type": "code",
   "execution_count": 59,
   "metadata": {},
   "outputs": [
    {
     "name": "stdout",
     "output_type": "stream",
     "text": [
      "(\"dss\")\n"
     ]
    }
   ],
   "source": [
    "echo(\"dss\")\n",
    "#echo 뒤에서 shift + tab하면 docstrnig 나옴\n",
    "#multiline으로 작성하고 싶으면 \"\" 말고 \"\"\"\"\"\""
   ]
  },
  {
   "cell_type": "code",
   "execution_count": 64,
   "metadata": {},
   "outputs": [],
   "source": [
    "# only docstring\n",
    "echo?"
   ]
  },
  {
   "cell_type": "code",
   "execution_count": 65,
   "metadata": {},
   "outputs": [],
   "source": [
    "# docstring with code\n",
    "echo??"
   ]
  },
  {
   "cell_type": "code",
   "execution_count": 69,
   "metadata": {},
   "outputs": [
    {
     "name": "stdout",
     "output_type": "stream",
     "text": [
      "Help on function echo in module __main__:\n",
      "\n",
      "echo(anything)\n",
      "    echo returns its input argument\n",
      "    the operation is:\n",
      "        1. print(anything)\n",
      "        2. return(anything)\n",
      "\n"
     ]
    }
   ],
   "source": [
    "# help\n",
    "help(echo)"
   ]
  },
  {
   "cell_type": "markdown",
   "metadata": {},
   "source": [
    "##### Scope\n",
    "- global, local"
   ]
  },
  {
   "cell_type": "code",
   "execution_count": 70,
   "metadata": {},
   "outputs": [
    {
     "name": "stdout",
     "output_type": "stream",
     "text": [
      "10\n"
     ]
    }
   ],
   "source": [
    "# global\n",
    "gv = 10\n",
    "def print_gv():\n",
    "    print(gv)\n",
    "print_gv()"
   ]
  },
  {
   "cell_type": "code",
   "execution_count": 72,
   "metadata": {},
   "outputs": [
    {
     "name": "stdout",
     "output_type": "stream",
     "text": [
      "100\n"
     ]
    },
    {
     "data": {
      "text/plain": [
       "(None, 10)"
      ]
     },
     "execution_count": 72,
     "metadata": {},
     "output_type": "execute_result"
    }
   ],
   "source": [
    "gv = 10\n",
    "def print_gv():\n",
    "    gv = 100\n",
    "    print(gv)\n",
    "print_gv()"
   ]
  },
  {
   "cell_type": "code",
   "execution_count": null,
   "metadata": {},
   "outputs": [],
   "source": [
    "gv\n",
    "# 왜 100이 안 나옴? scope 때문에.\n",
    "# global이라는 영역 안에 local 영역이 생김. local 영역 안에서 출력하면 그게, 그 밖에서는 global이 출력됨.\n",
    "# 그니까 gv가 바뀌는 게 아니라 다른 영역에서 출력되어서 다른 값이 나온 거\n"
   ]
  },
  {
   "cell_type": "code",
   "execution_count": 3,
   "metadata": {},
   "outputs": [
    {
     "name": "stdout",
     "output_type": "stream",
     "text": [
      "{'__name__': '__main__', '__doc__': 'Automatically created module for IPython interactive environment', '__package__': None, '__loader__': None, '__spec__': None, '__builtin__': <module 'builtins' (built-in)>, '__builtins__': <module 'builtins' (built-in)>, '_ih': ['', '# globals = global 영역 안에 있는 내장함수\\ngv = 10\\ndef print_gv():\\n    gv = 100\\n    print(globals())\\nprint_gv()', '# globals = global 영역 안에 있는 내장함수\\ngv = 10\\ndef print_gv():\\n    gv = 100\\n    print(globals())\\nprint_gv()', '# globals = global 영역 안에 있는 내장함수\\ngv = 10\\ngv2 = 20\\ndef print_gv():\\n    gv = 100\\n    gv2 = 200\\n    print(globals())\\nprint_gv()'], '_oh': {}, '_dh': ['C:\\\\'], 'In': ['', '# globals = global 영역 안에 있는 내장함수\\ngv = 10\\ndef print_gv():\\n    gv = 100\\n    print(globals())\\nprint_gv()', '# globals = global 영역 안에 있는 내장함수\\ngv = 10\\ndef print_gv():\\n    gv = 100\\n    print(globals())\\nprint_gv()', '# globals = global 영역 안에 있는 내장함수\\ngv = 10\\ngv2 = 20\\ndef print_gv():\\n    gv = 100\\n    gv2 = 200\\n    print(globals())\\nprint_gv()'], 'Out': {}, 'get_ipython': <bound method InteractiveShell.get_ipython of <ipykernel.zmqshell.ZMQInteractiveShell object at 0x00000000052CB630>>, 'exit': <IPython.core.autocall.ZMQExitAutocall object at 0x0000000005330160>, 'quit': <IPython.core.autocall.ZMQExitAutocall object at 0x0000000005330160>, '_': '', '__': '', '___': '', '_i': '# globals = global 영역 안에 있는 내장함수\\ngv = 10\\ndef print_gv():\\n    gv = 100\\n    print(globals())\\nprint_gv()', '_ii': '# globals = global 영역 안에 있는 내장함수\\ngv = 10\\ndef print_gv():\\n    gv = 100\\n    print(globals())\\nprint_gv()', '_iii': '', '_i1': '# globals = global 영역 안에 있는 내장함수\\ngv = 10\\ndef print_gv():\\n    gv = 100\\n    print(globals())\\nprint_gv()', 'gv': 10, 'print_gv': <function print_gv at 0x000000000540C6A8>, '_i2': '# globals = global 영역 안에 있는 내장함수\\ngv = 10\\ndef print_gv():\\n    gv = 100\\n    print(globals())\\nprint_gv()', '_i3': '# globals = global 영역 안에 있는 내장함수\\ngv = 10\\ngv2 = 20\\ndef print_gv():\\n    gv = 100\\n    gv2 = 200\\n    print(globals())\\nprint_gv()', 'gv2': 20}\n"
     ]
    }
   ],
   "source": [
    "# globals = global 영역 안에 있는 내장함수\n",
    "gv = 10\n",
    "gv2 = 20\n",
    "def print_gv():\n",
    "    gv = 100\n",
    "    gv2 = 200\n",
    "    print(globals())\n",
    "print_gv()"
   ]
  },
  {
   "cell_type": "code",
   "execution_count": 4,
   "metadata": {},
   "outputs": [
    {
     "name": "stdout",
     "output_type": "stream",
     "text": [
      "10 20\n"
     ]
    }
   ],
   "source": [
    "gv = 10\n",
    "gv2 = 20\n",
    "def print_gv():\n",
    "    gv = 100\n",
    "    gv2 = 200\n",
    "    print(globals()[\"gv\"], globals()[\"gv2\"])\n",
    "print_gv()"
   ]
  },
  {
   "cell_type": "code",
   "execution_count": 6,
   "metadata": {},
   "outputs": [
    {
     "name": "stdout",
     "output_type": "stream",
     "text": [
      "{'gv2': 200, 'gv': 100, 'test': <function print_gv.<locals>.test at 0x000000000540CAE8>}\n"
     ]
    }
   ],
   "source": [
    "gv = 10\n",
    "gv2 = 20\n",
    "def print_gv():\n",
    "    \n",
    "    def test():\n",
    "        print(1)\n",
    "        \n",
    "    gv = 100\n",
    "    gv2 = 200\n",
    "    print(locals())\n",
    "print_gv()"
   ]
  },
  {
   "cell_type": "code",
   "execution_count": 7,
   "metadata": {},
   "outputs": [
    {
     "name": "stdout",
     "output_type": "stream",
     "text": [
      "100\n"
     ]
    }
   ],
   "source": [
    "# global - local 영역에서 global 영역의 함수를 가져와서 사용할 수 있음. 바꿀 수 있음 \n",
    "gv = 10\n",
    "def change_gv():\n",
    "    global gv\n",
    "    gv = 100 #이럴 경우엔 local 영역에서 새로 선언되는 게 아니라 global 영역에 있는 gv가 10에서 100으로 바뀌는 거\n",
    "    print(gv)\n",
    "change_gv()"
   ]
  },
  {
   "cell_type": "code",
   "execution_count": 8,
   "metadata": {},
   "outputs": [
    {
     "data": {
      "text/plain": [
       "100"
      ]
     },
     "execution_count": 8,
     "metadata": {},
     "output_type": "execute_result"
    }
   ],
   "source": [
    "gv"
   ]
  },
  {
   "cell_type": "markdown",
   "metadata": {},
   "source": [
    "##### inner function\n",
    "- global : 전역 - 전역함수, 전역변수\n",
    "- local : 지역 - 지역함수, 지역변수\n",
    "- 지역함수, 익명함수(숨기고 싶으니까 익명함수 사용하는 거)"
   ]
  },
  {
   "cell_type": "code",
   "execution_count": 12,
   "metadata": {},
   "outputs": [],
   "source": [
    "def outer(a, b):\n",
    "  \n",
    "    def inner(c, d):\n",
    "        return c + d\n",
    "    \n",
    "    return inner(a, b)\n",
    "#outer함수 안에서만 inner함수가 실행됨\n",
    "# inner를 바깥에서 선언하면 다른 사람이 바꿀 수 있음. 안에서 하면 다른 사람이 수정할 수 없음"
   ]
  },
  {
   "cell_type": "code",
   "execution_count": 13,
   "metadata": {},
   "outputs": [
    {
     "data": {
      "text/plain": [
       "3"
      ]
     },
     "execution_count": 13,
     "metadata": {},
     "output_type": "execute_result"
    }
   ],
   "source": [
    "outer(1, 2)"
   ]
  },
  {
   "cell_type": "code",
   "execution_count": 14,
   "metadata": {},
   "outputs": [
    {
     "ename": "NameError",
     "evalue": "name 'inner' is not defined",
     "output_type": "error",
     "traceback": [
      "\u001b[1;31m---------------------------------------------------------------------------\u001b[0m",
      "\u001b[1;31mNameError\u001b[0m                                 Traceback (most recent call last)",
      "\u001b[1;32m<ipython-input-14-dd177a464828>\u001b[0m in \u001b[0;36m<module>\u001b[1;34m()\u001b[0m\n\u001b[1;32m----> 1\u001b[1;33m \u001b[0minner\u001b[0m\u001b[1;33m(\u001b[0m\u001b[1;36m1\u001b[0m\u001b[1;33m,\u001b[0m\u001b[1;36m3\u001b[0m\u001b[1;33m)\u001b[0m\u001b[1;33m\u001b[0m\u001b[0m\n\u001b[0m",
      "\u001b[1;31mNameError\u001b[0m: name 'inner' is not defined"
     ]
    }
   ],
   "source": [
    "inner(1,3)\n",
    "# local 영역에서만 쓰인 거라서 global에서 출력 ㄴㄴ"
   ]
  },
  {
   "cell_type": "code",
   "execution_count": 35,
   "metadata": {},
   "outputs": [],
   "source": [
    "def outer(a, b):\n",
    "  \n",
    "    def inner(c, d):\n",
    "        print(\"inner\")\n",
    "        return c + d\n",
    "    \n",
    "    return inner"
   ]
  },
  {
   "cell_type": "code",
   "execution_count": 37,
   "metadata": {},
   "outputs": [],
   "source": [
    "func = outer(1,2)"
   ]
  },
  {
   "cell_type": "code",
   "execution_count": 38,
   "metadata": {},
   "outputs": [
    {
     "name": "stdout",
     "output_type": "stream",
     "text": [
      "inner\n"
     ]
    },
    {
     "data": {
      "text/plain": [
       "3"
      ]
     },
     "execution_count": 38,
     "metadata": {},
     "output_type": "execute_result"
    }
   ],
   "source": [
    "func(1,2)"
   ]
  },
  {
   "cell_type": "code",
   "execution_count": 33,
   "metadata": {},
   "outputs": [
    {
     "ename": "NameError",
     "evalue": "name 'inner' is not defined",
     "output_type": "error",
     "traceback": [
      "\u001b[1;31m---------------------------------------------------------------------------\u001b[0m",
      "\u001b[1;31mNameError\u001b[0m                                 Traceback (most recent call last)",
      "\u001b[1;32m<ipython-input-33-dd177a464828>\u001b[0m in \u001b[0;36m<module>\u001b[1;34m()\u001b[0m\n\u001b[1;32m----> 1\u001b[1;33m \u001b[0minner\u001b[0m\u001b[1;33m(\u001b[0m\u001b[1;36m1\u001b[0m\u001b[1;33m,\u001b[0m\u001b[1;36m3\u001b[0m\u001b[1;33m)\u001b[0m\u001b[1;33m\u001b[0m\u001b[0m\n\u001b[0m",
      "\u001b[1;31mNameError\u001b[0m: name 'inner' is not defined"
     ]
    }
   ],
   "source": [
    "inner(1,3)"
   ]
  },
  {
   "cell_type": "markdown",
   "metadata": {},
   "source": [
    "##### lambda function\n",
    "- 간단한 함수를 선언하지 않고 함수처럼 사용하는 함수\n",
    "- `lambda <parameters> : <return_value>`"
   ]
  },
  {
   "cell_type": "code",
   "execution_count": 16,
   "metadata": {},
   "outputs": [
    {
     "data": {
      "text/plain": [
       "3"
      ]
     },
     "execution_count": 16,
     "metadata": {},
     "output_type": "execute_result"
    }
   ],
   "source": [
    "def sum_func(x, y):\n",
    "    return x + y\n",
    "sum_func(1, 2)"
   ]
  },
  {
   "cell_type": "code",
   "execution_count": 17,
   "metadata": {},
   "outputs": [
    {
     "data": {
      "text/plain": [
       "3"
      ]
     },
     "execution_count": 17,
     "metadata": {},
     "output_type": "execute_result"
    }
   ],
   "source": [
    "sum_func2 = lambda x, y : x + y\n",
    "sum_func(1, 2)"
   ]
  },
  {
   "cell_type": "code",
   "execution_count": 18,
   "metadata": {},
   "outputs": [
    {
     "data": {
      "text/plain": [
       "(function, function)"
      ]
     },
     "execution_count": 18,
     "metadata": {},
     "output_type": "execute_result"
    }
   ],
   "source": [
    "type(sum_func), type(sum_func2)"
   ]
  },
  {
   "cell_type": "code",
   "execution_count": null,
   "metadata": {},
   "outputs": [],
   "source": [
    "#lambda function 왜 써?"
   ]
  },
  {
   "cell_type": "code",
   "execution_count": 19,
   "metadata": {},
   "outputs": [],
   "source": [
    "def test(func, num1, num2):\n",
    "    return func(num1, num2)"
   ]
  },
  {
   "cell_type": "code",
   "execution_count": 21,
   "metadata": {},
   "outputs": [
    {
     "data": {
      "text/plain": [
       "0.5"
      ]
     },
     "execution_count": 21,
     "metadata": {},
     "output_type": "execute_result"
    }
   ],
   "source": [
    "def sum_func(x, y):\n",
    "    return x + y\n",
    "def div_func(x, y):\n",
    "    return x / y\n",
    "test(div_func, 1, 2)\n",
    "# 선언하면 선언만으로 메모리르 쓰는 거"
   ]
  },
  {
   "cell_type": "code",
   "execution_count": 23,
   "metadata": {},
   "outputs": [
    {
     "data": {
      "text/plain": [
       "-1"
      ]
     },
     "execution_count": 23,
     "metadata": {},
     "output_type": "execute_result"
    }
   ],
   "source": [
    "test(lambda x, y: x - y, 1, 2)\n",
    "# 이렇게 하면 메모리 절약\n",
    "# 파라미터 받아서 바로 할 수 있는 함수만 lambda로 선언할 수 있음(그니까 간단한 거)"
   ]
  },
  {
   "cell_type": "code",
   "execution_count": null,
   "metadata": {},
   "outputs": [],
   "source": [
    "test(lambda x, y=0: x - y, 1, 2)\n",
    "# 디폴트도 설정 가능"
   ]
  },
  {
   "cell_type": "markdown",
   "metadata": {},
   "source": [
    "##### Map & Filter & Reduce\n",
    "- 리스트 형태의 데이터를 함수와 함께 가공 해주기 위해서 사용되는 함수입니다.\n",
    "- map : 리스트 안에 모든 value에 함수를 적용해서 결과 데이터를 리스트 형태로 반환\n",
    "- filter : 리스트 안에 있는 value 데이터를 특정 함수로 필터링 해주는 함수입니다.\n",
    "- reduce : 리스트 안에 있는 value 데이터를 하나씩 함수에 적용해서 하나의 결과를 얻는 함수입니다."
   ]
  },
  {
   "cell_type": "code",
   "execution_count": 25,
   "metadata": {},
   "outputs": [
    {
     "data": {
      "text/plain": [
       "[0, 1, 2, 3]"
      ]
     },
     "execution_count": 25,
     "metadata": {},
     "output_type": "execute_result"
    }
   ],
   "source": [
    "map\n",
    "# *iterable = 여러 개 데이터 들어갈 수 있음\n",
    "\n",
    "ls = [1, 2, 3, 4]\n",
    "def sum_func(num):\n",
    "    return num - 1\n",
    "list(map(sum_func,ls))"
   ]
  },
  {
   "cell_type": "code",
   "execution_count": 27,
   "metadata": {},
   "outputs": [
    {
     "data": {
      "text/plain": [
       "[2, 4]"
      ]
     },
     "execution_count": 27,
     "metadata": {},
     "output_type": "execute_result"
    }
   ],
   "source": [
    "filter\n",
    "# iterable = 여러 개가 들어갈 수는 없음\n",
    "\n",
    "def is_even(num):\n",
    "    return True if num % 2 == 0 else False\n",
    "\n",
    "list(filter(is_even, ls))"
   ]
  },
  {
   "cell_type": "code",
   "execution_count": 24,
   "metadata": {},
   "outputs": [
    {
     "data": {
      "text/plain": [
       "<function _functools.reduce>"
      ]
     },
     "execution_count": 24,
     "metadata": {},
     "output_type": "execute_result"
    }
   ],
   "source": [
    "from functools import reduce\n",
    "reduce\n",
    "# 내장함수가 아님. import 해야 함"
   ]
  },
  {
   "cell_type": "code",
   "execution_count": 29,
   "metadata": {},
   "outputs": [
    {
     "data": {
      "text/plain": [
       "10"
      ]
     },
     "execution_count": 29,
     "metadata": {},
     "output_type": "execute_result"
    }
   ],
   "source": [
    "from functools import reduce\n",
    "\n",
    "def sum_func2(num1, num2):\n",
    "    return num1 + num2\n",
    "\n",
    "reduce(sum_func2, ls)"
   ]
  },
  {
   "cell_type": "code",
   "execution_count": 43,
   "metadata": {},
   "outputs": [
    {
     "data": {
      "text/plain": [
       "[0, 1, 2, 3, 4]"
      ]
     },
     "execution_count": 43,
     "metadata": {},
     "output_type": "execute_result"
    }
   ],
   "source": [
    "ls = [1,2,3,4,5]\n",
    "\n",
    "def minus_one(number):\n",
    "    return number - 1\n",
    "\n",
    "result = []\n",
    "for number in ls:\n",
    "    result.append(minus_one(number))\n",
    "result"
   ]
  },
  {
   "cell_type": "code",
   "execution_count": 44,
   "metadata": {},
   "outputs": [
    {
     "data": {
      "text/plain": [
       "[0, 1, 2, 3, 4]"
      ]
     },
     "execution_count": 44,
     "metadata": {},
     "output_type": "execute_result"
    }
   ],
   "source": [
    "# map 함수 이용\n",
    "list(map(minus_one, ls))"
   ]
  },
  {
   "cell_type": "code",
   "execution_count": 45,
   "metadata": {},
   "outputs": [
    {
     "data": {
      "text/plain": [
       "[0, 1, 2, 3, 4]"
      ]
     },
     "execution_count": 45,
     "metadata": {},
     "output_type": "execute_result"
    }
   ],
   "source": [
    "# 람다 함수 이용\n",
    "list(map(lambda number : number - 1, ls))"
   ]
  },
  {
   "cell_type": "code",
   "execution_count": 46,
   "metadata": {},
   "outputs": [
    {
     "data": {
      "text/plain": [
       "[6, 8, 10, 12]"
      ]
     },
     "execution_count": 46,
     "metadata": {},
     "output_type": "execute_result"
    }
   ],
   "source": [
    "# map에는 여러 개의 리스트 데이터를 넣을 수 있다.\n",
    "ls1 = [1,2,3,4]\n",
    "ls2 = [5,6,7,8]\n",
    "\n",
    "list(map(lambda num1, num2: num1 + num2, ls1, ls2))"
   ]
  },
  {
   "cell_type": "code",
   "execution_count": 47,
   "metadata": {},
   "outputs": [
    {
     "data": {
      "text/plain": [
       "[6, 8, 10, 12]"
      ]
     },
     "execution_count": 47,
     "metadata": {},
     "output_type": "execute_result"
    }
   ],
   "source": [
    "ls1 = [1,2,3,4]\n",
    "ls2 = [5,6,7,8,9]\n",
    "\n",
    "list(map(lambda num1, num2: num1 + num2, ls1, ls2))\n",
    "# 9는 무시됨"
   ]
  },
  {
   "cell_type": "code",
   "execution_count": 50,
   "metadata": {},
   "outputs": [
    {
     "data": {
      "text/plain": [
       "['Kim', 'Lee', 'Park', 'Lee']"
      ]
     },
     "execution_count": 50,
     "metadata": {},
     "output_type": "execute_result"
    }
   ],
   "source": [
    "# 퀴즈 1 - map을 이용하여 사람의 성만 결과로 출력하는 코드를 작성하세요\n",
    "names = [\"Kim python\", \"Lee data\", \"Park science\", \"Lee school\"]\n",
    "\n",
    "# list(map(s.split(\" \")[0],ls))-내가잘못한거\n",
    "\n",
    "result = list(map(lambda name : name.split(\" \")[0], names))\n",
    "result\n",
    "# reuslt= [\"Kim\", \"Lee\", \"Park\", \"Lee\"]"
   ]
  },
  {
   "cell_type": "code",
   "execution_count": null,
   "metadata": {},
   "outputs": [],
   "source": [
    "# 퀴즈 2 - 1~10까지 숫자 데이터에서 짝수는 even, 홀수는 odd를 만들고 출력된 데이터를 key:value 형태의 dict 출력\n",
    "ls = list(range(1,11))\n",
    "ls = list(map(lambda num : \"even\" if num % 2 == 0 else \"odd\", ls))\n",
    "result = dict(ls)\n",
    "result\n",
    "\n",
    "#result - {1:\"odd\", 2:\"even\", 3:\"odd\", 4:\"even\"...}"
   ]
  },
  {
   "cell_type": "code",
   "execution_count": 51,
   "metadata": {},
   "outputs": [
    {
     "name": "stdout",
     "output_type": "stream",
     "text": [
      "{1: 'odd', 2: 'even', 3: 'odd', 4: 'even', 5: 'odd', 6: 'even', 7: 'odd', 8: 'even', 9: 'odd', 10: 'even'}\n"
     ]
    }
   ],
   "source": [
    "ls = list(range(1,11))\n",
    "\n",
    "result = list(map(lambda number : \"even\" if number % 2 == 0 else \"odd\", ls ))\n",
    "result = dict(zip(ls, result))\n",
    "\n",
    "print(result)"
   ]
  },
  {
   "cell_type": "code",
   "execution_count": 58,
   "metadata": {},
   "outputs": [
    {
     "ename": "TypeError",
     "evalue": "unsupported operand type(s) for +: 'int' and 'list'",
     "output_type": "error",
     "traceback": [
      "\u001b[1;31m---------------------------------------------------------------------------\u001b[0m",
      "\u001b[1;31mTypeError\u001b[0m                                 Traceback (most recent call last)",
      "\u001b[1;32m<ipython-input-58-c4f3c9f2ad3d>\u001b[0m in \u001b[0;36m<module>\u001b[1;34m()\u001b[0m\n\u001b[0;32m     10\u001b[0m     \u001b[1;32mreturn\u001b[0m \u001b[0mresult\u001b[0m\u001b[1;33m\u001b[0m\u001b[0m\n\u001b[0;32m     11\u001b[0m \u001b[1;33m\u001b[0m\u001b[0m\n\u001b[1;32m---> 12\u001b[1;33m \u001b[0mresult\u001b[0m \u001b[1;33m=\u001b[0m \u001b[0mmap_func\u001b[0m\u001b[1;33m(\u001b[0m\u001b[0msum_func\u001b[0m\u001b[1;33m,\u001b[0m \u001b[0mls1\u001b[0m\u001b[1;33m,\u001b[0m \u001b[0mls2\u001b[0m\u001b[1;33m,\u001b[0m \u001b[0mls3\u001b[0m\u001b[1;33m)\u001b[0m\u001b[1;33m\u001b[0m\u001b[0m\n\u001b[0m\u001b[0;32m     13\u001b[0m \u001b[1;31m# result - [15, 18, 21, 14]\u001b[0m\u001b[1;33m\u001b[0m\u001b[1;33m\u001b[0m\u001b[0m\n",
      "\u001b[1;32m<ipython-input-58-c4f3c9f2ad3d>\u001b[0m in \u001b[0;36mmap_func\u001b[1;34m(func, *args)\u001b[0m\n\u001b[0;32m      7\u001b[0m \u001b[1;32mdef\u001b[0m \u001b[0mmap_func\u001b[0m\u001b[1;33m(\u001b[0m\u001b[0mfunc\u001b[0m\u001b[1;33m,\u001b[0m \u001b[1;33m*\u001b[0m\u001b[0margs\u001b[0m\u001b[1;33m)\u001b[0m\u001b[1;33m:\u001b[0m\u001b[1;33m\u001b[0m\u001b[0m\n\u001b[0;32m      8\u001b[0m     \u001b[0mresult\u001b[0m \u001b[1;33m=\u001b[0m \u001b[1;33m[\u001b[0m\u001b[1;33m]\u001b[0m\u001b[1;33m\u001b[0m\u001b[0m\n\u001b[1;32m----> 9\u001b[1;33m     \u001b[0mresult\u001b[0m \u001b[1;33m=\u001b[0m \u001b[0mlist\u001b[0m\u001b[1;33m(\u001b[0m\u001b[0mmap\u001b[0m\u001b[1;33m(\u001b[0m\u001b[0msum\u001b[0m\u001b[1;33m(\u001b[0m\u001b[0margs\u001b[0m\u001b[1;33m)\u001b[0m\u001b[1;33m,\u001b[0m \u001b[0mls1\u001b[0m\u001b[1;33m,\u001b[0m \u001b[0mls2\u001b[0m\u001b[1;33m,\u001b[0m \u001b[0mls3\u001b[0m\u001b[1;33m)\u001b[0m\u001b[1;33m)\u001b[0m\u001b[1;33m\u001b[0m\u001b[0m\n\u001b[0m\u001b[0;32m     10\u001b[0m     \u001b[1;32mreturn\u001b[0m \u001b[0mresult\u001b[0m\u001b[1;33m\u001b[0m\u001b[0m\n\u001b[0;32m     11\u001b[0m \u001b[1;33m\u001b[0m\u001b[0m\n",
      "\u001b[1;31mTypeError\u001b[0m: unsupported operand type(s) for +: 'int' and 'list'"
     ]
    }
   ],
   "source": [
    "# 퀴즈 3 - map 함수를 구현하세요.\n",
    "ls1, ls2, ls3 = [1,2,3,4],[5,6,7,8],[9,10,11,12]\n",
    "\n",
    "def sum_func(*args):\n",
    "    return sum(args)\n",
    "\n",
    "def map_func(func, *args):\n",
    "    result = []\n",
    "    result = list(map(sum(args), ls1, ls2, ls3))\n",
    "    return result\n",
    "\n",
    "result = map_func(sum_func, ls1, ls2, ls3)\n",
    "# result - [15, 18, 21, 14]"
   ]
  },
  {
   "cell_type": "code",
   "execution_count": null,
   "metadata": {},
   "outputs": [],
   "source": [
    "# 못 푸는 문제는 답 코드를 보고 이해를 하고 다 지우고 풀어보고, 하다가 막히면 다시 답 보고 지우고 처음부터 풀고, 될 때까지 반복"
   ]
  },
  {
   "cell_type": "code",
   "execution_count": 62,
   "metadata": {},
   "outputs": [
    {
     "data": {
      "text/plain": [
       "[15, 18, 21, 24]"
      ]
     },
     "execution_count": 62,
     "metadata": {},
     "output_type": "execute_result"
    }
   ],
   "source": [
    "ls1, ls2, ls3 = [1,2,3,4],[5,6,7,8],[9,10,11,12]\n",
    "\n",
    "def sum_func(*args):\n",
    "    return sum(args)\n",
    "\n",
    "def map_func(func, *args):\n",
    "    result = []\n",
    "    values_count = len(args[0]) # 4\n",
    "    for idx in range(len(args)):\n",
    "        values_count = values_count if values_count < len(args[idx]) else len(args[idx]) \n",
    "        #len(ls1)dl 3이고, len(ls2)가 4면 더 작은 걸(ls1) 적용해야하니까\n",
    "    params_count = len(args) #para는 3, valuesms 4\n",
    "    \n",
    "    for idx1 in range(values_count):\n",
    "        params = []\n",
    "        for idx2 in range(params_count):\n",
    "            params.append(args[idx2][idx1])\n",
    "        result.append(func(*params))\n",
    "    \n",
    "    return result\n",
    "\n",
    "result = map_func(sum_func, ls1, ls2, ls3)\n",
    "result"
   ]
  },
  {
   "cell_type": "markdown",
   "metadata": {},
   "source": [
    "##### Filter\n",
    "- 리스트 데이터에서 조건에 맞는 value 데이터만 남기는 필터링 기능을 하는 함수입니다.\n",
    "- filter의 argument로 들어가는 함수는 항상 리턴값이 True 아니면 False로 리턴 되어야 합니다.\n",
    "- True 값인 데이터는 남고 False 값인 데이터를 제거됩니다.\n",
    "- `filter(<function>,<list(iterable>>)`"
   ]
  },
  {
   "cell_type": "code",
   "execution_count": 64,
   "metadata": {},
   "outputs": [
    {
     "data": {
      "text/plain": [
       "[2, 4, 6, 8, 10]"
      ]
     },
     "execution_count": 64,
     "metadata": {},
     "output_type": "execute_result"
    }
   ],
   "source": [
    "# filter를 사용하여 리스트에서 짝수 데이터만 남기는 코드를 작성\n",
    "ls = list(range(1,11))\n",
    "\n",
    "list(filter(lambda num : num % 2 == 0, ls))"
   ]
  },
  {
   "cell_type": "code",
   "execution_count": 108,
   "metadata": {},
   "outputs": [
    {
     "data": {
      "text/plain": [
       "['Lee data', 'Lee school']"
      ]
     },
     "execution_count": 108,
     "metadata": {},
     "output_type": "execute_result"
    }
   ],
   "source": [
    "# 퀴즈 1 - 성이 Lee 씨인 사람의 이름만 결과로 출력하는 코드를 작성해주세요\n",
    "names = [\"Kim python\", \"Lee data\", \"Park science\", \"Lee school\"]\n",
    "\n",
    "result = list(filter(lambda name : name.split(\" \")[0] == \"Lee\", names))\n",
    "result\n",
    "\n",
    "# result - [\"Lee data\", \"Lee school\"]"
   ]
  },
  {
   "cell_type": "code",
   "execution_count": 69,
   "metadata": {},
   "outputs": [
    {
     "data": {
      "text/plain": [
       "['Lee data', 'Lee school']"
      ]
     },
     "execution_count": 69,
     "metadata": {},
     "output_type": "execute_result"
    }
   ],
   "source": [
    "result = [name for name in names if name.split(\" \")[0] == \"Lee\"]\n",
    "result"
   ]
  },
  {
   "cell_type": "code",
   "execution_count": 71,
   "metadata": {},
   "outputs": [
    {
     "data": {
      "text/plain": [
       "([1, 3, 5, 7, 9], [2, 4, 6, 8, 10])"
      ]
     },
     "execution_count": 71,
     "metadata": {},
     "output_type": "execute_result"
    }
   ],
   "source": [
    "# 퀴즈 2 - filter function 구현, 홀수와 짝수를 필터링하는 함수를 구현\n",
    "ls = list(range(1,11))\n",
    "\n",
    "is_odd_even = {\n",
    "    \"odd\": lambda num : num % 2 == 1,\n",
    "    \"even\": lambda num : num % 2 == 0,\n",
    "}\n",
    "\n",
    "def filter_func(func, data_list):\n",
    "    result = []\n",
    "    for data in data_list:\n",
    "        if func(data):\n",
    "            result.append(data)\n",
    "    return result\n",
    "\n",
    "result_1 = filter_func(is_odd_even[\"odd\"], ls)\n",
    "result_2 = filter_func(is_odd_even[\"even\"], ls)\n",
    "result_1, result_2\n",
    "# result_1 = [1,3,5,7,9], result_2 = [2,4,6,8,10]"
   ]
  },
  {
   "cell_type": "markdown",
   "metadata": {},
   "source": [
    "##### Reduce\n",
    "- 리스트 데이터를 처음부터 순서대로 특정 함수를 실행하여 나온 결과를 다음 데이터와 함께 또 다시 함수를 실행하여\n",
    "마지막에 하나의 데이터를 남기는 함수\n",
    "- `reduce(<function>, <list(iterable)>)`"
   ]
  },
  {
   "cell_type": "code",
   "execution_count": 72,
   "metadata": {},
   "outputs": [
    {
     "data": {
      "text/plain": [
       "15"
      ]
     },
     "execution_count": 72,
     "metadata": {},
     "output_type": "execute_result"
    }
   ],
   "source": [
    "from functools import reduce\n",
    "ls = [1,2,3,4,5]\n",
    "reduce(lambda num1, num2 : num1 + num2, ls)"
   ]
  },
  {
   "cell_type": "code",
   "execution_count": 73,
   "metadata": {},
   "outputs": [
    {
     "data": {
      "text/plain": [
       "7"
      ]
     },
     "execution_count": 73,
     "metadata": {},
     "output_type": "execute_result"
    }
   ],
   "source": [
    "# 가장 큰 수를 구하는 코드를 작성\n",
    "ls = [1,3,7,5,2]\n",
    "reduce(lambda num1, num2 : num1 if num1 > num2 else num2, ls)"
   ]
  },
  {
   "cell_type": "code",
   "execution_count": 74,
   "metadata": {},
   "outputs": [
    {
     "data": {
      "text/plain": [
       "'Park science'"
      ]
     },
     "execution_count": 74,
     "metadata": {},
     "output_type": "execute_result"
    }
   ],
   "source": [
    "# 퀴즈 1 - 사람 이름이 가장 긴 사람을 출력하는 코드를 reduce를 이용해서 작성해주세요.\n",
    "names = [\"Kim python\", \"Lee data\", \"Park science\", \"Lee school\"]\n",
    "\n",
    "reduce(lambda name1, name2 : name1 if len(name1) > len(name2) else name2, names )"
   ]
  },
  {
   "cell_type": "code",
   "execution_count": 127,
   "metadata": {},
   "outputs": [
    {
     "ename": "TypeError",
     "evalue": "'int' object is not iterable",
     "output_type": "error",
     "traceback": [
      "\u001b[1;31m---------------------------------------------------------------------------\u001b[0m",
      "\u001b[1;31mTypeError\u001b[0m                                 Traceback (most recent call last)",
      "\u001b[1;32m<ipython-input-127-f036a9aea925>\u001b[0m in \u001b[0;36m<module>\u001b[1;34m()\u001b[0m\n\u001b[0;32m     12\u001b[0m     \u001b[1;32mreturn\u001b[0m \u001b[0mresult\u001b[0m\u001b[1;33m\u001b[0m\u001b[0m\n\u001b[0;32m     13\u001b[0m \u001b[1;33m\u001b[0m\u001b[0m\n\u001b[1;32m---> 14\u001b[1;33m \u001b[0mreduce_func\u001b[0m\u001b[1;33m(\u001b[0m\u001b[1;32mlambda\u001b[0m \u001b[0mnum1\u001b[0m\u001b[1;33m,\u001b[0m \u001b[0mnum2\u001b[0m \u001b[1;33m:\u001b[0m \u001b[0mnum1\u001b[0m \u001b[1;33m+\u001b[0m \u001b[0mnum2\u001b[0m\u001b[1;33m,\u001b[0m \u001b[0mls\u001b[0m\u001b[1;33m)\u001b[0m\u001b[1;33m\u001b[0m\u001b[0m\n\u001b[0m\u001b[0;32m     15\u001b[0m \u001b[1;31m# result - 15\u001b[0m\u001b[1;33m\u001b[0m\u001b[1;33m\u001b[0m\u001b[0m\n",
      "\u001b[1;32m<ipython-input-127-f036a9aea925>\u001b[0m in \u001b[0;36mreduce_func\u001b[1;34m(func, data_list)\u001b[0m\n\u001b[0;32m      6\u001b[0m     \u001b[1;31m# TODO\u001b[0m\u001b[1;33m\u001b[0m\u001b[1;33m\u001b[0m\u001b[0m\n\u001b[0;32m      7\u001b[0m     \u001b[0mresult\u001b[0m \u001b[1;33m=\u001b[0m \u001b[1;36m0\u001b[0m\u001b[1;33m\u001b[0m\u001b[0m\n\u001b[1;32m----> 8\u001b[1;33m     \u001b[1;32mfor\u001b[0m \u001b[0mi\u001b[0m\u001b[1;33m,\u001b[0m \u001b[0mj\u001b[0m \u001b[1;32min\u001b[0m \u001b[0mdata_list\u001b[0m\u001b[1;33m:\u001b[0m\u001b[1;33m\u001b[0m\u001b[0m\n\u001b[0m\u001b[0;32m      9\u001b[0m         \u001b[1;32mif\u001b[0m \u001b[0mfunc\u001b[0m\u001b[1;33m(\u001b[0m\u001b[0mi\u001b[0m\u001b[1;33m,\u001b[0m \u001b[0mj\u001b[0m\u001b[1;33m)\u001b[0m\u001b[1;33m:\u001b[0m\u001b[1;33m\u001b[0m\u001b[0m\n\u001b[0;32m     10\u001b[0m             \u001b[0msum\u001b[0m \u001b[1;33m=\u001b[0m \u001b[0mi\u001b[0m \u001b[1;33m+\u001b[0m \u001b[0mj\u001b[0m\u001b[1;33m\u001b[0m\u001b[0m\n",
      "\u001b[1;31mTypeError\u001b[0m: 'int' object is not iterable"
     ]
    }
   ],
   "source": [
    "# 퀴즈 2 - reduce 구현\n",
    "ls = [1,2,3,4,5]\n",
    "\n",
    "def reduce_func(func, data_list):\n",
    "    \n",
    "    # TODO\n",
    "    result = 0\n",
    "    for i, j in data_list:\n",
    "        if func(i, j):\n",
    "            sum = i + j\n",
    "            result += sum\n",
    "    return result\n",
    "\n",
    "reduce_func(lambda num1, num2 : num1 + num2, ls)\n",
    "# result - 15"
   ]
  },
  {
   "cell_type": "code",
   "execution_count": 129,
   "metadata": {},
   "outputs": [
    {
     "data": {
      "text/plain": [
       "15"
      ]
     },
     "execution_count": 129,
     "metadata": {},
     "output_type": "execute_result"
    }
   ],
   "source": [
    "# 퀴즈 2 - reduce 구현\n",
    "ls = [1,2,3,4,5]\n",
    "\n",
    "def reduce_func(func, data_list):\n",
    "    \n",
    "    # TODO\n",
    "    result = data_list[0]\n",
    "    del data_list[0]   \n",
    "    \n",
    "    for data in data_list:\n",
    "        result = func(result, data)\n",
    "    return result\n",
    "\n",
    "reduce_func(lambda num1, num2 : num1 + num2, ls)\n",
    "# result - 15"
   ]
  },
  {
   "cell_type": "markdown",
   "metadata": {},
   "source": [
    "##### Decolator\n",
    "- 코드를 바꾸지 않고 함수의 기능을 추가할 때 사용됩니다.\n",
    "- 여러 개의 함수에서 공통된 기능을 뽑아서 하나의 함수로 만들어서 사용할 때 사용됩니다.\n",
    "- inner function, `*args`, `**kwargs`\n",
    "- `@<function_name>`\n",
    "\n",
    "```\n",
    "def A(params):\n",
    "    code1\n",
    "    code2\n",
    "    code3\n",
    "\n",
    "A(parmas)\n",
    "    \n",
    "def B():\n",
    "    code1\n",
    "    code4\n",
    "    code3\n",
    "```\n",
    "\n",
    "```\n",
    "def C(func):\n",
    "    def wrapper(*args, **kwargs):\n",
    "        code1\n",
    "        result = func(*args, **kwargs)\n",
    "        code3\n",
    "        return result\n",
    "    return wrapper\n",
    "\n",
    "@C\n",
    "def A(params):\n",
    "    result = code2\n",
    "    return result\n",
    "\n",
    "@C\n",
    "def B():\n",
    "    code4\n",
    "    return result\n",
    "\n",
    "A(parmas) - code, code2, code3, return result\n",
    "B() - code1, code4, code2, return result\n",
    "\n",
    "\n",
    "C(A)(params) #decorlator가 없을 때\n",
    "\n",
    "```"
   ]
  },
  {
   "cell_type": "code",
   "execution_count": 80,
   "metadata": {},
   "outputs": [],
   "source": [
    "# display를 해주는 데코레이터를 만들어 보도록 하겠습니다.\n",
    "\n",
    "# C\n",
    "def disp(func):\n",
    "    \n",
    "    def wrapper(*args, **kwargs):\n",
    "        \n",
    "        # code1\n",
    "        print(\"running function name :\", func.__name__)\n",
    "        print(\"args :\", args)\n",
    "        print(\"kwargs :\", kwargs)\n",
    "        \n",
    "        # code2(A), code4(B)\n",
    "        result = func(*args, **kwargs)\n",
    "        \n",
    "        # code3\n",
    "        print(\"result :\", result)\n",
    "        return result\n",
    "    return wrapper     "
   ]
  },
  {
   "cell_type": "code",
   "execution_count": null,
   "metadata": {},
   "outputs": [],
   "source": [
    "# A\n",
    "def sum_func(a, b):\n",
    "    # code1 () - print(function name, args, kwargs)\n",
    "    print(\"{}+{}={}\" .format(a, b, a+b))\n",
    "    # code3 - print(\"result :\", a+b)\n",
    "    return a + b "
   ]
  },
  {
   "cell_type": "code",
   "execution_count": 75,
   "metadata": {},
   "outputs": [
    {
     "data": {
      "text/plain": [
       "3"
      ]
     },
     "execution_count": 75,
     "metadata": {},
     "output_type": "execute_result"
    }
   ],
   "source": [
    "sum_func(1,2 )"
   ]
  },
  {
   "cell_type": "code",
   "execution_count": 77,
   "metadata": {},
   "outputs": [],
   "source": [
    "def minus_func(a, b):\n",
    "    # code1 () - print(function name, args, kwargs)\n",
    "    print(\"{}+{}={}\" .format(a, b, a-b))\n",
    "    # code3 - print(\"result :\", a+b)\n",
    "    return a - b "
   ]
  },
  {
   "cell_type": "code",
   "execution_count": 78,
   "metadata": {},
   "outputs": [
    {
     "name": "stdout",
     "output_type": "stream",
     "text": [
      "1+2=-1\n"
     ]
    },
    {
     "data": {
      "text/plain": [
       "-1"
      ]
     },
     "execution_count": 78,
     "metadata": {},
     "output_type": "execute_result"
    }
   ],
   "source": [
    "minus_func(1,2)"
   ]
  },
  {
   "cell_type": "code",
   "execution_count": 81,
   "metadata": {},
   "outputs": [],
   "source": [
    "@disp\n",
    "def sum_func(a, b):\n",
    "    # code1 () - print(function name, args, kwargs)\n",
    "    print(\"{}+{}={}\" .format(a, b, a+b))\n",
    "    # code3 - print(\"result :\", a+b)\n",
    "    return a + b "
   ]
  },
  {
   "cell_type": "code",
   "execution_count": 82,
   "metadata": {},
   "outputs": [
    {
     "name": "stdout",
     "output_type": "stream",
     "text": [
      "running function name : sum_func\n",
      "args : (1, 2)\n",
      "kwargs : {}\n",
      "1+2=3\n",
      "result : 3\n"
     ]
    },
    {
     "data": {
      "text/plain": [
       "3"
      ]
     },
     "execution_count": 82,
     "metadata": {},
     "output_type": "execute_result"
    }
   ],
   "source": [
    "sum_func(1,2)"
   ]
  },
  {
   "cell_type": "code",
   "execution_count": 83,
   "metadata": {},
   "outputs": [],
   "source": [
    "@disp\n",
    "def div_func(a, b):\n",
    "    return a / b"
   ]
  },
  {
   "cell_type": "code",
   "execution_count": 85,
   "metadata": {},
   "outputs": [
    {
     "name": "stdout",
     "output_type": "stream",
     "text": [
      "running function name : div_func\n",
      "args : (10, 3)\n",
      "kwargs : {}\n",
      "result : 3.3333333333333335\n"
     ]
    },
    {
     "data": {
      "text/plain": [
       "3.3333333333333335"
      ]
     },
     "execution_count": 85,
     "metadata": {},
     "output_type": "execute_result"
    }
   ],
   "source": [
    "div_func(10, 3)"
   ]
  },
  {
   "cell_type": "code",
   "execution_count": 86,
   "metadata": {},
   "outputs": [],
   "source": [
    "# timer decolator - 함수가 실행되는데 걸리는 시간을 측정하는 데코레이터\n",
    "import time\n",
    "def timer(func):\n",
    "    def wrapper(*args, **kwargs):\n",
    "        start_time = time.time()\n",
    "        result = func(*args, **kwargs)\n",
    "        end_time = time.time()\n",
    "        print(\"running time :\", end_time - start_time)\n",
    "        return result\n",
    "    return wrapper                      "
   ]
  },
  {
   "cell_type": "code",
   "execution_count": 92,
   "metadata": {},
   "outputs": [],
   "source": [
    "@timer\n",
    "def pow_func(num1, num2):\n",
    "#    start_time = time.time()\n",
    "    result = num1 ** num2\n",
    "#    end_time = time.time()\n",
    "#    print(\"running time :\", end_time - start_time)\n",
    "    return num1 ** num2"
   ]
  },
  {
   "cell_type": "code",
   "execution_count": 93,
   "metadata": {},
   "outputs": [
    {
     "name": "stdout",
     "output_type": "stream",
     "text": [
      "running time : 0.0\n"
     ]
    },
    {
     "data": {
      "text/plain": [
       "10715086071862673209484250490600018105614048117055336074437503883703510511249361224931983788156958581275946729175531468251871452856923140435984577574698574803934567774824230985421074605062371141877954182153046474983581941267398767559165543946077062914571196477686542167660429831652624386837205668069376"
      ]
     },
     "execution_count": 93,
     "metadata": {},
     "output_type": "execute_result"
    }
   ],
   "source": [
    "pow_func(2, 1000)"
   ]
  },
  {
   "cell_type": "code",
   "execution_count": 100,
   "metadata": {},
   "outputs": [],
   "source": [
    "# 데코레이터를 사용해서 관리자 계정이면 패스워드를 출력하고 관리자 계정이 아니면 패스워드를 출력하지 않는 데코레이터를 만들어 보자\n",
    "\n",
    "admin_ls = [\"pdj\", \"dss\"]\n",
    "pw = \"dss8\"\n",
    "\n",
    "def admin(func):\n",
    "    def wrapper(*args, **kwargs):\n",
    "        is_admin = False\n",
    "        user_id = func(*args, **kwargs)\n",
    "        \n",
    "        if user_id in admin_ls:\n",
    "            is_admin = True \n",
    "            \n",
    "        if is_admin:\n",
    "            print(\"password :\", pw)\n",
    "        else:\n",
    "            print(\"you are not admin!\")\n",
    "        \n",
    "        return is_admin\n",
    "    \n",
    "    return wrapper "
   ]
  },
  {
   "cell_type": "code",
   "execution_count": 101,
   "metadata": {},
   "outputs": [],
   "source": [
    "@admin\n",
    "def input_user():\n",
    "    return input(\"insert user id: \")"
   ]
  },
  {
   "cell_type": "code",
   "execution_count": 102,
   "metadata": {},
   "outputs": [
    {
     "name": "stdout",
     "output_type": "stream",
     "text": [
      "insert user id: dss\n",
      "password : dss8\n"
     ]
    },
    {
     "data": {
      "text/plain": [
       "True"
      ]
     },
     "execution_count": 102,
     "metadata": {},
     "output_type": "execute_result"
    }
   ],
   "source": [
    "input_user()"
   ]
  },
  {
   "cell_type": "code",
   "execution_count": 103,
   "metadata": {},
   "outputs": [
    {
     "name": "stdout",
     "output_type": "stream",
     "text": [
      "insert user id: data\n",
      "you are not admin!\n"
     ]
    },
    {
     "data": {
      "text/plain": [
       "False"
      ]
     },
     "execution_count": 103,
     "metadata": {},
     "output_type": "execute_result"
    }
   ],
   "source": [
    "input_user() "
   ]
  },
  {
   "cell_type": "code",
   "execution_count": 105,
   "metadata": {},
   "outputs": [],
   "source": [
    "user_id = {\n",
    "    1: \"dss\",\n",
    "    2: \"data\",\n",
    "    3: \"science\",      \n",
    "}\n",
    "\n",
    "@admin\n",
    "def input_id(id_number):\n",
    "    return user_id[id_number]"
   ]
  },
  {
   "cell_type": "code",
   "execution_count": 106,
   "metadata": {},
   "outputs": [
    {
     "name": "stdout",
     "output_type": "stream",
     "text": [
      "password : dss8\n"
     ]
    },
    {
     "data": {
      "text/plain": [
       "True"
      ]
     },
     "execution_count": 106,
     "metadata": {},
     "output_type": "execute_result"
    }
   ],
   "source": [
    "input_id(1)"
   ]
  },
  {
   "cell_type": "code",
   "execution_count": null,
   "metadata": {},
   "outputs": [],
   "source": []
  },
  {
   "cell_type": "code",
   "execution_count": null,
   "metadata": {},
   "outputs": [],
   "source": []
  },
  {
   "cell_type": "code",
   "execution_count": null,
   "metadata": {},
   "outputs": [],
   "source": []
  },
  {
   "cell_type": "code",
   "execution_count": null,
   "metadata": {},
   "outputs": [],
   "source": []
  },
  {
   "cell_type": "code",
   "execution_count": null,
   "metadata": {},
   "outputs": [],
   "source": []
  },
  {
   "cell_type": "code",
   "execution_count": null,
   "metadata": {},
   "outputs": [],
   "source": []
  }
 ],
 "metadata": {
  "kernelspec": {
   "display_name": "Python 3",
   "language": "python",
   "name": "python3"
  },
  "language_info": {
   "codemirror_mode": {
    "name": "ipython",
    "version": 3
   },
   "file_extension": ".py",
   "mimetype": "text/x-python",
   "name": "python",
   "nbconvert_exporter": "python",
   "pygments_lexer": "ipython3",
   "version": "3.6.4"
  }
 },
 "nbformat": 4,
 "nbformat_minor": 2
}
