{
 "cells": [
  {
   "cell_type": "markdown",
   "metadata": {},
   "source": [
    "### Class\n",
    "- 객체지향\n",
    "    - 실제세계를 모델링해서 기능이 공통적인 부분을 묶어서 개발하는 방법을 이야기합니다.\n",
    "    - 다형성, 캡슐화, 추상화, 상속 등의 특징이 있습니다.\n",
    "- 공통적인 기능을 하는 변수와 함수를 묶은 사용자 정의 데이터 타입이라고도 합니다.\n",
    "- 클래스, 객체(클래스 = 함수 정의 정도. 실제로 사용하려면 객체를 이용해서 사용해야 함)\n",
    "    ; 클래스는 설계도, 청사진이고, 객체는 클래스를 이용해서 만든 실제 물건, 물체입니다.\n",
    "- 클래스의 구조: 선언과 객체화\n",
    "- 생성자\n",
    "- 상속 : 단일상속, 다중상속 모두 가능\n",
    "- Super\n",
    "- getter & setter\n",
    "- private\n",
    "- is a / has a\n",
    "- magic method\n",
    "\n",
    "```\n",
    "def dss():\n",
    "    print(\"data\")\n",
    "   \n",
    "dss()\n",
    "\n",
    "class handle:\n",
    "    변수...\n",
    "    함수...func1()\n",
    "\n",
    "obj = handle()\n",
    "obj.func1()\n",
    "```"
   ]
  },
  {
   "cell_type": "markdown",
   "metadata": {},
   "source": [
    "##### 클래스의 선언과 객체화\n",
    "\n",
    "```\n",
    "# 클래스 선언\n",
    "class <class_name(PascalCase) >(<상속받을 클래스명1, <상속받을 클래스명2>):\n",
    "    변수와 함수를 정의합니다.\n",
    "    \n",
    "# 클래스의 객체화\n",
    "cls = <class_name>(변수나 함수의 식별자가 올 수 있습니다. (argument와 비슷)\n",
    "```\n",
    "\n",
    "- 대문자로 구분하는 것 자체를 다 묶어서 camel case라 하기도 하고 앞에만 대문자면 pascalcase고 중간도 대문자면 camelcase"
   ]
  },
  {
   "cell_type": "code",
   "execution_count": 105,
   "metadata": {},
   "outputs": [],
   "source": [
    "# 계산기 클래스 선언\n",
    "class Calculator:\n",
    "    \n",
    "    # 두 개의 수를 입력받는 함수\n",
    "    def setdata(self, num1, num2):\n",
    "        self.num1 = num1\n",
    "        self.num2 = num2\n",
    "        self.result = 0\n",
    "        \n",
    "    def plus(self):\n",
    "        return self.num1 + self.num2\n",
    "    \n",
    "    def minus(self):\n",
    "        self.result = self.num1 - self.num2\n",
    "    \n",
    "#self. 자체가 여기서의 object를 선언한 거"
   ]
  },
  {
   "cell_type": "code",
   "execution_count": 106,
   "metadata": {},
   "outputs": [],
   "source": [
    "# 클래스의 객체화\n",
    "cal = Calculator()"
   ]
  },
  {
   "cell_type": "code",
   "execution_count": 107,
   "metadata": {},
   "outputs": [
    {
     "name": "stdout",
     "output_type": "stream",
     "text": [
      "Variable     Type          Data/Info\n",
      "------------------------------------\n",
      "Calculator   type          <class '__main__.Calculator'>\n",
      "Email        type          <class '__main__.Email'>\n",
      "Info         type          <class '__main__.Info'>\n",
      "Name         type          <class '__main__.Name'>\n",
      "Number       type          <class '__main__.Number'>\n",
      "Person       type          <class '__main__.Person'>\n",
      "Txt          type          <class '__main__.Txt'>\n",
      "cal          Calculator    <__main__.Calculator obje<...>ct at 0x00000000054BE278>\n",
      "ls           list          n=5\n",
      "n            Number        <__main__.Number object at 0x00000000054AADA0>\n",
      "n1           Number        <__main__.Number object at 0x000000000549D470>\n",
      "n2           Number        <__main__.Number object at 0x000000000549D8D0>\n",
      "p            Person        <__main__.Person object at 0x000000000539CA20>\n",
      "s            str           a\n",
      "txt1         Txt           <__main__.Txt object at 0x000000000548D518>\n",
      "txt2         Txt           <__main__.Txt object at 0x000000000548D4A8>\n",
      "txt3         Txt           <__main__.Txt object at 0x000000000548D588>\n",
      "txt4         Txt           <__main__.Txt object at 0x000000000548D5F8>\n",
      "txt5         Txt           <__main__.Txt object at 0x000000000548D518>\n"
     ]
    }
   ],
   "source": [
    "%whos"
   ]
  },
  {
   "cell_type": "code",
   "execution_count": 108,
   "metadata": {},
   "outputs": [],
   "source": [
    "cal.setdata(1,2)"
   ]
  },
  {
   "cell_type": "code",
   "execution_count": 109,
   "metadata": {},
   "outputs": [
    {
     "data": {
      "text/plain": [
       "(3, None)"
      ]
     },
     "execution_count": 109,
     "metadata": {},
     "output_type": "execute_result"
    }
   ],
   "source": [
    "cal.plus(), cal.minus()"
   ]
  },
  {
   "cell_type": "code",
   "execution_count": 110,
   "metadata": {},
   "outputs": [
    {
     "data": {
      "text/plain": [
       "(1, 2, -1)"
      ]
     },
     "execution_count": 110,
     "metadata": {},
     "output_type": "execute_result"
    }
   ],
   "source": [
    "cal.num1, cal.num2, cal.result"
   ]
  },
  {
   "cell_type": "code",
   "execution_count": 111,
   "metadata": {},
   "outputs": [],
   "source": [
    "ls = [\"a\", \"c\", \"b\"]"
   ]
  },
  {
   "cell_type": "code",
   "execution_count": 112,
   "metadata": {},
   "outputs": [],
   "source": [
    "ls.sort()"
   ]
  },
  {
   "cell_type": "code",
   "execution_count": 117,
   "metadata": {},
   "outputs": [
    {
     "data": {
      "text/plain": [
       "(5, 6, 0)"
      ]
     },
     "execution_count": 117,
     "metadata": {},
     "output_type": "execute_result"
    }
   ],
   "source": [
    "cal.num1, cal.num2, cal.result"
   ]
  },
  {
   "cell_type": "code",
   "execution_count": 114,
   "metadata": {},
   "outputs": [],
   "source": [
    "# self - 객체 자신(cal = 객체)\n",
    "cal.setdata(3,4)"
   ]
  },
  {
   "cell_type": "code",
   "execution_count": 116,
   "metadata": {},
   "outputs": [],
   "source": [
    "Calculator.setdata(cal, 5, 6) # 잘 사용하는 form은 아님"
   ]
  },
  {
   "cell_type": "markdown",
   "metadata": {},
   "source": [
    "##### Constructor -  생성자\n",
    "- 클래스가 객체화 될 때, 변수의 초기값을 설정하는 역할을 합니다.\n",
    "- 클래스의 함수명을 `__init__` 으로 하여 함수를 작성합니다.\n",
    "- 생성자를 사용하는 이유는 변수가 선언되지 않은 상태의 객체에서 함수를 사용하게 되면 에러가 나죠. 이 에러를 예방하기 위해 사용합니다."
   ]
  },
  {
   "cell_type": "code",
   "execution_count": null,
   "metadata": {},
   "outputs": [],
   "source": [
    "cal = Calculator()"
   ]
  },
  {
   "cell_type": "code",
   "execution_count": null,
   "metadata": {},
   "outputs": [],
   "source": [
    "cal.plus()"
   ]
  },
  {
   "cell_type": "code",
   "execution_count": null,
   "metadata": {},
   "outputs": [],
   "source": [
    "class Calculator2:\n",
    "    \n",
    "    def __init__(self, num1, num2):\n",
    "        self.num1 = num1\n",
    "        self.num2 = num2\n",
    "        self.result = 0       \n",
    "    \n",
    "    # 두 개의 수를 입력받는 함수\n",
    "    def setdata(self, num1, num2):\n",
    "        self.num1 = num1\n",
    "        self.num2 = num2\n",
    "        self.result = 0\n",
    "        \n",
    "    def plus(self):\n",
    "        return self.num1 + self.num2\n",
    "    \n",
    "    def minus(self):\n",
    "        self.result = self.num1 - self.num2\n",
    "    \n",
    "    # init은 객체화 할 때 무조건. 사용하는 변수들은 init(생성자) 안에 써 주고 사용함"
   ]
  },
  {
   "cell_type": "code",
   "execution_count": null,
   "metadata": {},
   "outputs": [],
   "source": [
    "cal2 = Calculator2() #-> num1와 num2에 초기값 없으면 에러남. 사용할 수 없는 개체임에도 메모리에 할당이 됨"
   ]
  },
  {
   "cell_type": "code",
   "execution_count": null,
   "metadata": {},
   "outputs": [],
   "source": [
    "cal2 = Calculator2(3,4)"
   ]
  },
  {
   "cell_type": "code",
   "execution_count": null,
   "metadata": {},
   "outputs": [],
   "source": [
    "cal2.plus()"
   ]
  },
  {
   "cell_type": "code",
   "execution_count": null,
   "metadata": {},
   "outputs": [],
   "source": [
    "cal2.setdata(5,6)"
   ]
  },
  {
   "cell_type": "code",
   "execution_count": null,
   "metadata": {},
   "outputs": [],
   "source": [
    "cal2.plus()"
   ]
  },
  {
   "cell_type": "markdown",
   "metadata": {},
   "source": [
    "##### 3. Inheritance - 상속\n",
    "- 기존 클래스에 기능을 추가할 때 상속을 사용합니다.\n",
    "- python 단일상속 뿐만 아니라 다중상속도 지원합니다\n",
    "- overiding, overloading은 다형성의 특징을 구현합니다.\n",
    "- overiding : 함수를 재정의합니다.\n",
    "- overloading : 같은 이름의 함수를 파라미터의 갯수에 따라서 다른 동작을 하게 하는 것을 의미합니다.\n",
    "```\n",
    "class A():\n",
    "    method - send_mail\n",
    "\n",
    "class B(A):\n",
    "    method - call_phone\n",
    "\n",
    "A - send_mail\n",
    "B - send_mail, call_phone\n",
    "\n",
    "#A를 parent class, B를 자식 class라고 함\n",
    "\n",
    "다중 상속은 여기에 class C(B):\n",
    "                        method - show_image 추가하면\n",
    "C - send_mail, call_phone, show_image\n",
    "\n",
    "#대부분 이렇게 3대까지 사용함. 그 이상은 복잡성 때문에 잘 사용하지 않음. 그래도 가끔 4대는 있음.\n",
    "\n",
    "```\n",
    "\n",
    "```\n",
    "class A():\n",
    "    method - send_mail\n",
    "\n",
    "class B(A):\n",
    "    method - call_phone\n",
    "    \n",
    "class C(B):\n",
    "    method - show_image\n",
    "    \n",
    "class D:\n",
    "    method - wifi\n",
    "\n",
    "class E(A, D):\n",
    "    method - game\n",
    "\n",
    "A - send_mail\n",
    "B - send_mail, call_phone\n",
    "C - send_mail, call_phone, show_image\n",
    "D - wifi\n",
    "E - send_mail, wifi, game\n",
    "```\n"
   ]
  },
  {
   "cell_type": "code",
   "execution_count": null,
   "metadata": {},
   "outputs": [],
   "source": [
    "def test():\n",
    "    return 10\n",
    "\n",
    "def test(a):\n",
    "    return a\n",
    "\n",
    "def test(a=None):\n",
    "    if a is None:\n",
    "        code1\n",
    "        return 10\n",
    "    else:\n",
    "        code2\n",
    "        return a"
   ]
  },
  {
   "cell_type": "code",
   "execution_count": null,
   "metadata": {},
   "outputs": [],
   "source": [
    "test()\n",
    "\n",
    "# 파이썬은 이게 안 됨. 그래서 다른 방법으로 overloading 해야 함"
   ]
  },
  {
   "cell_type": "code",
   "execution_count": null,
   "metadata": {},
   "outputs": [],
   "source": [
    "# overloading 의 의미\n",
    "test() -> 10\n",
    "test(1) -> 1\n",
    "# 자바는 이거 지향. 자바가 제일 객체지향적인 언어가 아닐까"
   ]
  },
  {
   "cell_type": "code",
   "execution_count": null,
   "metadata": {},
   "outputs": [],
   "source": [
    "# Calculator2에서 제곱을 계산해주는 기능을 추가\n",
    "class ImprovedCalc(Calculator2):\n",
    "    \n",
    "    def pow_func(self):\n",
    "        return self.num1 ** self.num2"
   ]
  },
  {
   "cell_type": "code",
   "execution_count": null,
   "metadata": {},
   "outputs": [],
   "source": [
    "ical = ImprovedCalc() -> init에 변수 할당되지 않아서 에러남"
   ]
  },
  {
   "cell_type": "code",
   "execution_count": null,
   "metadata": {},
   "outputs": [],
   "source": [
    "ical = ImprovedCalc(2,3) #????????"
   ]
  },
  {
   "cell_type": "code",
   "execution_count": null,
   "metadata": {},
   "outputs": [],
   "source": [
    "ical.pow_func() #????????"
   ]
  },
  {
   "cell_type": "code",
   "execution_count": null,
   "metadata": {},
   "outputs": [],
   "source": [
    "ical.plus() #????????"
   ]
  },
  {
   "cell_type": "code",
   "execution_count": 14,
   "metadata": {},
   "outputs": [],
   "source": [
    "# 다중상속 - Human, Korean, Indian 클래스를 생성\n",
    "class Human:\n",
    "    \n",
    "    def walk(self):\n",
    "        print(\"walking...\")\n",
    "\n",
    "class Korean:\n",
    "    \n",
    "    def eat(self):\n",
    "        print(\"eat kimchi...\")\n",
    "        \n",
    "class Indian:\n",
    "    \n",
    "    def eat(self):\n",
    "        print(\"eat curry...\")"
   ]
  },
  {
   "cell_type": "code",
   "execution_count": 15,
   "metadata": {},
   "outputs": [],
   "source": [
    "class Jin(Human, Korean):\n",
    "    \n",
    "    def skill(self):\n",
    "        print(\"coding\")\n",
    "        \n",
    "    # overiding 오버라이딩을 구현 - 새롭게 정의하고 싶은 건 이렇게 덮어쓸 수 있음\n",
    "    def eat(self):\n",
    "        print(\"eat noodle...\")\n",
    "        \n",
    "class Anchal(Human, Indian):\n",
    "    \n",
    "    def skill(self):\n",
    "        print(\"english\")\n",
    "        \n",
    "    # overloading 오버로딩 구현\n",
    "    def eat(self, place=None):\n",
    "        if place is None:\n",
    "            print(\"eat curry\")\n",
    "        else: \n",
    "            print(\"eat curry on the\", place)"
   ]
  },
  {
   "cell_type": "code",
   "execution_count": 16,
   "metadata": {},
   "outputs": [],
   "source": [
    "j, a = Jin(), Anchal()"
   ]
  },
  {
   "cell_type": "code",
   "execution_count": 17,
   "metadata": {},
   "outputs": [
    {
     "name": "stdout",
     "output_type": "stream",
     "text": [
      "walking...\n",
      "eat noodle...\n",
      "coding\n"
     ]
    }
   ],
   "source": [
    "j.walk()\n",
    "j.eat()\n",
    "j.skill()"
   ]
  },
  {
   "cell_type": "code",
   "execution_count": 18,
   "metadata": {
    "scrolled": true
   },
   "outputs": [
    {
     "name": "stdout",
     "output_type": "stream",
     "text": [
      "walking...\n",
      "eat curry\n",
      "english\n"
     ]
    }
   ],
   "source": [
    "a.walk()\n",
    "a.eat()\n",
    "a.skill()"
   ]
  },
  {
   "cell_type": "code",
   "execution_count": 19,
   "metadata": {},
   "outputs": [
    {
     "name": "stdout",
     "output_type": "stream",
     "text": [
      "eat noodle...\n"
     ]
    }
   ],
   "source": [
    "j.eat()"
   ]
  },
  {
   "cell_type": "code",
   "execution_count": 20,
   "metadata": {},
   "outputs": [
    {
     "name": "stdout",
     "output_type": "stream",
     "text": [
      "eat curry on the seoul\n"
     ]
    }
   ],
   "source": [
    "a.eat(\"seoul\")"
   ]
  },
  {
   "cell_type": "markdown",
   "metadata": {},
   "source": [
    "##### Super\n",
    " - 부모 클래스의 생성자 변수를 가져올 때 사용합니다."
   ]
  },
  {
   "cell_type": "code",
   "execution_count": null,
   "metadata": {},
   "outputs": [],
   "source": [
    "# starcraft 예제 - Human 클래스, Marin(Human), Madic(Human )"
   ]
  },
  {
   "cell_type": "code",
   "execution_count": 62,
   "metadata": {},
   "outputs": [],
   "source": [
    "class Human:\n",
    "    \n",
    "    def __init__(self):\n",
    "        self.health = 40\n",
    "    \n",
    "    def set_health(self, val):\n",
    "        self.health += val"
   ]
  },
  {
   "cell_type": "code",
   "execution_count": 63,
   "metadata": {},
   "outputs": [],
   "source": [
    "class Marin(Human):\n",
    "\n",
    "    def __init__(self):\n",
    "        self.health = 40\n",
    "        self.attack_power = 5\n",
    "        self.kill  = 0\n",
    "        \n",
    "    def attack(self, obj):   # attack 당하는 대상이 obj\n",
    "        \n",
    "        obj.set_health(-self.attack_power)\n",
    "        \n",
    "        if obj.health <= 0:\n",
    "            obj.health = 0\n",
    "            self.kill += 1\n",
    "            return \"die\"\n",
    "        \n",
    "        return \"alive [health:{}]\" .format(obj.health)"
   ]
  },
  {
   "cell_type": "code",
   "execution_count": 25,
   "metadata": {},
   "outputs": [],
   "source": [
    "m1, m2 = Marin(), Marin()"
   ]
  },
  {
   "cell_type": "code",
   "execution_count": 36,
   "metadata": {},
   "outputs": [
    {
     "data": {
      "text/plain": [
       "(40, 0, 1)"
      ]
     },
     "execution_count": 36,
     "metadata": {},
     "output_type": "execute_result"
    }
   ],
   "source": [
    "m1.health, m2.health, m1.kill"
   ]
  },
  {
   "cell_type": "code",
   "execution_count": 28,
   "metadata": {},
   "outputs": [
    {
     "data": {
      "text/plain": [
       "'alive [health:35]'"
      ]
     },
     "execution_count": 28,
     "metadata": {},
     "output_type": "execute_result"
    }
   ],
   "source": [
    "m1.attack(m2)"
   ]
  },
  {
   "cell_type": "code",
   "execution_count": 29,
   "metadata": {},
   "outputs": [
    {
     "data": {
      "text/plain": [
       "'alive [health:30]'"
      ]
     },
     "execution_count": 29,
     "metadata": {},
     "output_type": "execute_result"
    }
   ],
   "source": [
    "m1.attack(m2)"
   ]
  },
  {
   "cell_type": "code",
   "execution_count": 30,
   "metadata": {},
   "outputs": [
    {
     "data": {
      "text/plain": [
       "'alive [health:25]'"
      ]
     },
     "execution_count": 30,
     "metadata": {},
     "output_type": "execute_result"
    }
   ],
   "source": [
    "m1.attack(m2)"
   ]
  },
  {
   "cell_type": "code",
   "execution_count": 35,
   "metadata": {},
   "outputs": [
    {
     "data": {
      "text/plain": [
       "'die'"
      ]
     },
     "execution_count": 35,
     "metadata": {},
     "output_type": "execute_result"
    }
   ],
   "source": [
    "m1.attack(m2)"
   ]
  },
  {
   "cell_type": "code",
   "execution_count": 39,
   "metadata": {},
   "outputs": [],
   "source": [
    "m3 = Marin()"
   ]
  },
  {
   "cell_type": "code",
   "execution_count": 40,
   "metadata": {},
   "outputs": [
    {
     "data": {
      "text/plain": [
       "'alive [health:35]'"
      ]
     },
     "execution_count": 40,
     "metadata": {},
     "output_type": "execute_result"
    }
   ],
   "source": [
    "m1.attack(m3)"
   ]
  },
  {
   "cell_type": "code",
   "execution_count": 61,
   "metadata": {},
   "outputs": [],
   "source": [
    "class Medic(Human):\n",
    "    \n",
    "    def __init__(self):\n",
    "        self.health = 20\n",
    "        self.heal_power = 3\n",
    "        \n",
    "    def heal(self, obj): # 어떤 obj를 heal해줄지\n",
    "        if obj.health == 0:\n",
    "            print(\"already die\")\n",
    "            return # return 뒤에 암 것도 없으면 함수 빠져나감 . for문의 break랑 비슷\n",
    "        \n",
    "        obj.set_health(self.heal_power)\n",
    "        # 또는 else하고 써도 됨. 여기서는 return 땜에 자동으로 나가지니까 else 안 쓴 거\n",
    "        \n",
    "        if obj.health > 40:\n",
    "            obj.health = 40\n",
    "        \n",
    "        return \"done healing: \", obj.health        "
   ]
  },
  {
   "cell_type": "code",
   "execution_count": 43,
   "metadata": {},
   "outputs": [],
   "source": [
    "m1, m2 = Marin(), Marin()"
   ]
  },
  {
   "cell_type": "code",
   "execution_count": 57,
   "metadata": {},
   "outputs": [],
   "source": [
    "medic = Medic()"
   ]
  },
  {
   "cell_type": "code",
   "execution_count": 55,
   "metadata": {},
   "outputs": [
    {
     "data": {
      "text/plain": [
       "(5, 40)"
      ]
     },
     "execution_count": 55,
     "metadata": {},
     "output_type": "execute_result"
    }
   ],
   "source": [
    "m1.health, m2.health"
   ]
  },
  {
   "cell_type": "code",
   "execution_count": 53,
   "metadata": {},
   "outputs": [
    {
     "data": {
      "text/plain": [
       "'alive [health:5]'"
      ]
     },
     "execution_count": 53,
     "metadata": {},
     "output_type": "execute_result"
    }
   ],
   "source": [
    "m2.attack(m1)"
   ]
  },
  {
   "cell_type": "code",
   "execution_count": 58,
   "metadata": {},
   "outputs": [
    {
     "data": {
      "text/plain": [
       "('done healing: ', 8)"
      ]
     },
     "execution_count": 58,
     "metadata": {},
     "output_type": "execute_result"
    }
   ],
   "source": [
    "medic.heal(m1)"
   ]
  },
  {
   "cell_type": "code",
   "execution_count": 64,
   "metadata": {},
   "outputs": [],
   "source": [
    "class Marin(Human):\n",
    "\n",
    "    def __init__(self):\n",
    "        # self.health = 40 \n",
    "        super(Marin, self).__init__()\n",
    "        self.attack_power = 5\n",
    "        self.kill  = 0\n",
    "        \n",
    "    def attack(self, obj):   # attack 당하는 대상이 obj\n",
    "        \n",
    "        obj.set_health(-self.attack_power)\n",
    "        \n",
    "        if obj.health <= 0:\n",
    "            obj.health = 0\n",
    "            self.kill += 1\n",
    "            return \"die\"\n",
    "        \n",
    "        return \"alive [health:{}]\" .format(obj.health)"
   ]
  },
  {
   "cell_type": "code",
   "execution_count": 65,
   "metadata": {},
   "outputs": [
    {
     "data": {
      "text/plain": [
       "8"
      ]
     },
     "execution_count": 65,
     "metadata": {},
     "output_type": "execute_result"
    }
   ],
   "source": [
    "m1.health ###???? 40 나와야 하는데?"
   ]
  },
  {
   "cell_type": "code",
   "execution_count": null,
   "metadata": {},
   "outputs": [],
   "source": [
    "# 문제 - 아래의 데이터에서 리스트, 딕셔너리, 클래스로 데이터를 나타내주세요.\n",
    "# 클래스를 나타낼 때는 타율을 계산하는 기능을 추가해주세요.\n",
    "# - ksb(김선빈) : 타석:476, 안타:176\n",
    "# - pgu(박건우) : 타석:483, 안타: 177\n",
    "# - pmw(박민우) : 타석:388, 안타:141"
   ]
  },
  {
   "cell_type": "code",
   "execution_count": null,
   "metadata": {},
   "outputs": [],
   "source": [
    "class baseball(:\n",
    "    \n",
    "    def __init__(self):\n",
    "        self.hit = \n",
    "        self.ball = \n",
    "        \n",
    "    def ksb(self, obj):\n",
    "        if.obj.hit = 476:\n",
    "            obj.ball = 176\n",
    "            \n",
    "            list()\n",
    "            dict(zip())\n",
    "            class"
   ]
  },
  {
   "cell_type": "code",
   "execution_count": 67,
   "metadata": {},
   "outputs": [],
   "source": [
    "# 리스트\n",
    "key = [\"타석\", \"타율\"]\n",
    "ksb = [476, 176]\n",
    "pgu = [483, 177]\n",
    "pmw = [388, 141]\n",
    "data = [[476, 176], [483, 177], [388,141]]"
   ]
  },
  {
   "cell_type": "code",
   "execution_count": null,
   "metadata": {},
   "outputs": [],
   "source": [
    "# 딕셔너리\n",
    "data = {\n",
    "    \"김선빈\" : {\"타석\":476, 안타:176\n",
    "# - pgu(박건우) : 타석:483, 안타: 177\n",
    "# - pmw(박민우) : 타석:388, 안타:141\n",
    "}\n",
    "    ++++"
   ]
  },
  {
   "cell_type": "code",
   "execution_count": 68,
   "metadata": {},
   "outputs": [],
   "source": [
    "# 클래스\n",
    "class Player:\n",
    "    def __init(self, ab, hit):\n",
    "        self.ab = ab\n",
    "        self.hit = hit\n",
    "    def avg(self):\n",
    "        return round(self.hit/self.ab, 3)"
   ]
  },
  {
   "cell_type": "code",
   "execution_count": 69,
   "metadata": {},
   "outputs": [
    {
     "ename": "TypeError",
     "evalue": "object() takes no parameters",
     "output_type": "error",
     "traceback": [
      "\u001b[1;31m---------------------------------------------------------------------------\u001b[0m",
      "\u001b[1;31mTypeError\u001b[0m                                 Traceback (most recent call last)",
      "\u001b[1;32m<ipython-input-69-ec7d25493c7a>\u001b[0m in \u001b[0;36m<module>\u001b[1;34m()\u001b[0m\n\u001b[1;32m----> 1\u001b[1;33m \u001b[0mkbs\u001b[0m \u001b[1;33m=\u001b[0m \u001b[0mPlayer\u001b[0m\u001b[1;33m(\u001b[0m\u001b[1;36m476\u001b[0m\u001b[1;33m,\u001b[0m \u001b[1;36m176\u001b[0m\u001b[1;33m)\u001b[0m\u001b[1;33m\u001b[0m\u001b[0m\n\u001b[0m\u001b[0;32m      2\u001b[0m \u001b[0mpgu\u001b[0m \u001b[1;33m=\u001b[0m \u001b[0mPlayer\u001b[0m\u001b[1;33m(\u001b[0m\u001b[1;36m483\u001b[0m\u001b[1;33m,\u001b[0m \u001b[1;36m177\u001b[0m\u001b[1;33m)\u001b[0m\u001b[1;33m\u001b[0m\u001b[0m\n\u001b[0;32m      3\u001b[0m \u001b[0mpmw\u001b[0m \u001b[1;33m=\u001b[0m \u001b[0mPlayer\u001b[0m\u001b[1;33m(\u001b[0m\u001b[1;36m388\u001b[0m\u001b[1;33m,\u001b[0m \u001b[1;36m141\u001b[0m\u001b[1;33m)\u001b[0m\u001b[1;33m\u001b[0m\u001b[0m\n",
      "\u001b[1;31mTypeError\u001b[0m: object() takes no parameters"
     ]
    }
   ],
   "source": [
    "kbs = Player(476, 176)\n",
    "pgu = Player(483, 177)\n",
    "pmw = Player(388, 141)"
   ]
  },
  {
   "cell_type": "code",
   "execution_count": null,
   "metadata": {},
   "outputs": [],
   "source": [
    "# 클래스는 넣을 수 있는 데이터 범위가 더 넓음."
   ]
  },
  {
   "cell_type": "markdown",
   "metadata": {},
   "source": [
    "##### getter, setter\n",
    " - OOP 객체지향: 캡슐화, 은닉화의 기능을 제공하기 위해 사용됩니다.\n",
    " - 캡슐화, 은닉화 없으면 페달, 운전대 뿐만 아니라 자동차의 모든 기능을 알아야 함. 만드는 사람은 물론 모든 기능을 알아야 함\n",
    " - 클래스 -> 변수: 클래스의 변수에 접근 할 때(가져오거나, 설정하거나) 바로 접근하는 게 아니라 특정 함수를 통해서 접근 할 수 있게 하는 기능\n",
    "\n",
    "\n",
    "++ 클래스, getter&setter 같은 거 협업하기 쉽게. "
   ]
  },
  {
   "cell_type": "code",
   "execution_count": 1,
   "metadata": {},
   "outputs": [],
   "source": [
    "class Person:\n",
    "    def __init__(self, input_name1, input_name2):\n",
    "        self.hidden_name1 = input_name1\n",
    "        self.hidden_name2 = input_name2\n",
    "    \n",
    "    #hidden name은 감출거 like 자동차 엔진 쉽게 열지 ㄴㄴ인 것처럼. 쉽게 열지 못 하게 하려고!\n",
    "    # disp_name은 getter, setter1,2는 setter, 변수를 바꿔주는 거 적용시켜주는 거.\n",
    "    #setter함수 호출하면 input_name받아서 hidden name에 저장하는거\n",
    "    def disp_name1(self):\n",
    "        print(\"getter_1\")\n",
    "        return self.hidden_name1\n",
    "    \n",
    "    def disp_name2(self):\n",
    "        print(\"getter_2\")\n",
    "        return self.hidden_name2\n",
    "    \n",
    "    def setter1(self, input_name):\n",
    "        print(\"setter_1\")\n",
    "        self.hidden_name1 = input_name\n",
    "    \n",
    "    def setter2(self, input_name):\n",
    "        print(\"setter_2\")\n",
    "        self.hidden_name2 = input_name\n",
    "        \n",
    "#Propterty 이용\n",
    "    name1 = property(disp_name1, setter1)\n",
    "    name2 = property(disp_name2, setter2)"
   ]
  },
  {
   "cell_type": "code",
   "execution_count": 2,
   "metadata": {},
   "outputs": [],
   "source": [
    "p = Person(\"park\", \"doojin\")"
   ]
  },
  {
   "cell_type": "code",
   "execution_count": 3,
   "metadata": {},
   "outputs": [
    {
     "data": {
      "text/plain": [
       "('park', 'doojin')"
      ]
     },
     "execution_count": 3,
     "metadata": {},
     "output_type": "execute_result"
    }
   ],
   "source": [
    "p.hidden_name1, p.hidden_name2 #hidden 은 다이렉트 변수에 접근"
   ]
  },
  {
   "cell_type": "code",
   "execution_count": 5,
   "metadata": {},
   "outputs": [
    {
     "name": "stdout",
     "output_type": "stream",
     "text": [
      "getter_1\n",
      "getter_2\n"
     ]
    },
    {
     "data": {
      "text/plain": [
       "('park', 'doojin')"
      ]
     },
     "execution_count": 5,
     "metadata": {},
     "output_type": "execute_result"
    }
   ],
   "source": [
    "p.name1, p.name2 #getter를 이용해서 변수에 접근한 거"
   ]
  },
  {
   "cell_type": "code",
   "execution_count": 6,
   "metadata": {},
   "outputs": [
    {
     "data": {
      "text/plain": [
       "'lee'"
      ]
     },
     "execution_count": 6,
     "metadata": {},
     "output_type": "execute_result"
    }
   ],
   "source": [
    "p.hidden_name1 = \"lee\"\n",
    "p.hidden_name1"
   ]
  },
  {
   "cell_type": "code",
   "execution_count": 7,
   "metadata": {},
   "outputs": [
    {
     "name": "stdout",
     "output_type": "stream",
     "text": [
      "setter_1\n",
      "getter_1\n"
     ]
    },
    {
     "data": {
      "text/plain": [
       "'lee'"
      ]
     },
     "execution_count": 7,
     "metadata": {},
     "output_type": "execute_result"
    }
   ],
   "source": [
    "p.name1 = \"lee\"\n",
    "p.name1"
   ]
  },
  {
   "cell_type": "code",
   "execution_count": 26,
   "metadata": {},
   "outputs": [],
   "source": [
    "class Person:\n",
    "    def __init__(self, input_name1, input_name2):\n",
    "        self.hidden_name1 = input_name1\n",
    "        self.hidden_name2 = input_name2\n",
    "    \n",
    "    #hidden name은 감출거 like 자동차 엔진 쉽게 열지 ㄴㄴ인 것처럼. 쉽게 열지 못 하게 하려고!\n",
    "    # disp_name은 getter, setter1,2는 setter, 변수를 바꿔주는 거 적용시켜주는 거.\n",
    "    #setter함수 호출하면 input_name받아서 hidden name에 저장하는거\n",
    "    def disp_name1(self):\n",
    "        print(\"getter_1\")\n",
    "        return self.hidden_name1.upper()\n",
    "    \n",
    "    def disp_name2(self):\n",
    "        print(\"getter_2\")\n",
    "        return self.hidden_name2\n",
    "    \n",
    "    def setter1(self, input_name):\n",
    "        print(\"setter_1\")\n",
    "        self.hidden_name1 = \"Mr. \" + input_name\n",
    "    \n",
    "    def setter2(self, input_name):\n",
    "        print(\"setter_2\")\n",
    "        self.hidden_name2 = input_name\n",
    "        \n",
    "#Propterty 이용\n",
    "    name1 = property(disp_name1, setter1)\n",
    "    name2 = property(disp_name2, setter2)"
   ]
  },
  {
   "cell_type": "code",
   "execution_count": 27,
   "metadata": {},
   "outputs": [],
   "source": [
    "p = Person(\"park\", \"doojin\")"
   ]
  },
  {
   "cell_type": "code",
   "execution_count": 28,
   "metadata": {},
   "outputs": [
    {
     "name": "stdout",
     "output_type": "stream",
     "text": [
      "getter_1\n",
      "getter_2\n"
     ]
    },
    {
     "data": {
      "text/plain": [
       "('PARK', 'doojin')"
      ]
     },
     "execution_count": 28,
     "metadata": {},
     "output_type": "execute_result"
    }
   ],
   "source": [
    "p.name1, p.name2"
   ]
  },
  {
   "cell_type": "code",
   "execution_count": 29,
   "metadata": {},
   "outputs": [
    {
     "data": {
      "text/plain": [
       "'lee'"
      ]
     },
     "execution_count": 29,
     "metadata": {},
     "output_type": "execute_result"
    }
   ],
   "source": [
    "p.hidden_name1 = \"lee\"\n",
    "p.hidden_name1"
   ]
  },
  {
   "cell_type": "code",
   "execution_count": 30,
   "metadata": {},
   "outputs": [
    {
     "name": "stdout",
     "output_type": "stream",
     "text": [
      "setter_1\n",
      "getter_1\n"
     ]
    },
    {
     "data": {
      "text/plain": [
       "'MR. LEE'"
      ]
     },
     "execution_count": 30,
     "metadata": {},
     "output_type": "execute_result"
    }
   ],
   "source": [
    "p.name1 = \"lee\"\n",
    "p.name1"
   ]
  },
  {
   "cell_type": "code",
   "execution_count": 34,
   "metadata": {},
   "outputs": [],
   "source": [
    "# decorlator를 이용한 구현\n",
    "class Person:\n",
    "    def __init__(self, input_name):\n",
    "        self.hidden_name = input_name\n",
    "     \n",
    "    @property #getter에 property\n",
    "    def name(self):\n",
    "        print(\"getter\")\n",
    "        return self.hidden_name\n",
    "    \n",
    "    @name.setter #setter에 setter함수 이름과 같은 데코레이터 해야 함\n",
    "    def name(self, input_name):\n",
    "        print(\"setter\")\n",
    "        self.hidden_name = input_name\n",
    "        \n",
    "# 이렇게 하면 위의 마지막 두 줄 피료 없음. 대신 일믕르 잘 맞춰줘야 ㅏㅎㅁ"
   ]
  },
  {
   "cell_type": "code",
   "execution_count": 35,
   "metadata": {},
   "outputs": [],
   "source": [
    "p = Person(\"park\")"
   ]
  },
  {
   "cell_type": "code",
   "execution_count": 36,
   "metadata": {},
   "outputs": [
    {
     "name": "stdout",
     "output_type": "stream",
     "text": [
      "setter\n"
     ]
    }
   ],
   "source": [
    "p.name = \"lee\""
   ]
  },
  {
   "cell_type": "code",
   "execution_count": 40,
   "metadata": {},
   "outputs": [
    {
     "name": "stdout",
     "output_type": "stream",
     "text": [
      "getter\n"
     ]
    },
    {
     "data": {
      "text/plain": [
       "'lee'"
      ]
     },
     "execution_count": 40,
     "metadata": {},
     "output_type": "execute_result"
    }
   ],
   "source": [
    "p.name"
   ]
  },
  {
   "cell_type": "markdown",
   "metadata": {},
   "source": [
    "##### private\n",
    "- hidden_name에 맘대로 접근 못 하게 함(hidden_nmae = 내부 변수)\n",
    "- 클래스 내부 변수에 다이렉트로 접근하지 못하도록 하는 기능\n",
    "- mangling(맹글링): 클래스 생성자에서 변수 선언 시 앞에 `__`를 추가\n",
    "- 완벽하게 접근을 차단하지는 못함\n",
    "    - (객체)._(클래스명)(변수명)  으로 접근 가능\n"
   ]
  },
  {
   "cell_type": "code",
   "execution_count": 42,
   "metadata": {},
   "outputs": [],
   "source": [
    "class Person:\n",
    "    def __init__(self, input_name):\n",
    "        self.__hidden_name = input_name\n",
    "     \n",
    "    @property #getter\n",
    "    def name(self):\n",
    "        print(\"getter\")\n",
    "        return self.hidden_name\n",
    "    \n",
    "    @name.setter #setter\n",
    "    def name(self, input_name):\n",
    "        print(\"setter\")\n",
    "        self.hidden_name = input_name"
   ]
  },
  {
   "cell_type": "code",
   "execution_count": 43,
   "metadata": {},
   "outputs": [],
   "source": [
    "p = Person(\"park\")"
   ]
  },
  {
   "cell_type": "code",
   "execution_count": 119,
   "metadata": {},
   "outputs": [
    {
     "ename": "AttributeError",
     "evalue": "'Person' object has no attribute '__hidden_name'",
     "output_type": "error",
     "traceback": [
      "\u001b[1;31m---------------------------------------------------------------------------\u001b[0m",
      "\u001b[1;31mAttributeError\u001b[0m                            Traceback (most recent call last)",
      "\u001b[1;32m<ipython-input-119-eb33a8fee163>\u001b[0m in \u001b[0;36m<module>\u001b[1;34m()\u001b[0m\n\u001b[1;32m----> 1\u001b[1;33m \u001b[0mp\u001b[0m\u001b[1;33m.\u001b[0m\u001b[0m__hidden_name\u001b[0m \u001b[1;31m#이렇게 못 가져오도록 차단\u001b[0m\u001b[1;33m\u001b[0m\u001b[0m\n\u001b[0m",
      "\u001b[1;31mAttributeError\u001b[0m: 'Person' object has no attribute '__hidden_name'"
     ]
    }
   ],
   "source": [
    "p.__hidden_name #이렇게 못 가져오도록 차단"
   ]
  },
  {
   "cell_type": "code",
   "execution_count": 45,
   "metadata": {},
   "outputs": [
    {
     "name": "stdout",
     "output_type": "stream",
     "text": [
      "setter\n"
     ]
    }
   ],
   "source": [
    "p.name = \"lee\""
   ]
  },
  {
   "cell_type": "code",
   "execution_count": 46,
   "metadata": {},
   "outputs": [
    {
     "name": "stdout",
     "output_type": "stream",
     "text": [
      "getter\n"
     ]
    },
    {
     "data": {
      "text/plain": [
       "'lee'"
      ]
     },
     "execution_count": 46,
     "metadata": {},
     "output_type": "execute_result"
    }
   ],
   "source": [
    "p.name\n",
    "# 다이렉트로는 위처럼 안 되지만 getter,setter이용해서는 가능"
   ]
  },
  {
   "cell_type": "code",
   "execution_count": 47,
   "metadata": {},
   "outputs": [
    {
     "data": {
      "text/plain": [
       "'park'"
      ]
     },
     "execution_count": 47,
     "metadata": {},
     "output_type": "execute_result"
    }
   ],
   "source": [
    "p._Person__hidden_name #이처럼 접근 가능은 함. 굳이 접근 하려고 하면 _클래스 앞에 추가해서 접근 가능, 근데 사실상 억지로 쓰는 것"
   ]
  },
  {
   "cell_type": "markdown",
   "metadata": {},
   "source": [
    "##### is a / has a\n",
    "- 클래스들을 설계할 때 사용되는 방법론, 개념\n",
    "- is a\n",
    "    - A is a B = A는 B이다\n",
    "    - 상속을 이용\n",
    "- has a\n",
    "    - A has a B = A는 B를 가지고 있다.\n",
    "    - 객체 안의 변수로 객체를 가짐\n",
    "  \n",
    "  ++혼용해서 사용 가능"
   ]
  },
  {
   "cell_type": "code",
   "execution_count": 49,
   "metadata": {},
   "outputs": [],
   "source": [
    "# person - name, email"
   ]
  },
  {
   "cell_type": "code",
   "execution_count": 50,
   "metadata": {},
   "outputs": [],
   "source": [
    "# is-a\n",
    "class Info:\n",
    "    def __init__(self, name, email):\n",
    "        self.name = name\n",
    "        self.email = email\n",
    "\n",
    "class Person(Info):\n",
    "    def about(self):\n",
    "        return self.name, self.email\n",
    "#Info를 그대로 Person으로 가져옴"
   ]
  },
  {
   "cell_type": "code",
   "execution_count": 51,
   "metadata": {},
   "outputs": [],
   "source": [
    "p = Person(\"doojin\", \"pdj1224@gmail.com\")"
   ]
  },
  {
   "cell_type": "code",
   "execution_count": 52,
   "metadata": {},
   "outputs": [
    {
     "data": {
      "text/plain": [
       "('doojin', 'pdj1224@gmail.com')"
      ]
     },
     "execution_count": 52,
     "metadata": {},
     "output_type": "execute_result"
    }
   ],
   "source": [
    "p.about()"
   ]
  },
  {
   "cell_type": "code",
   "execution_count": 120,
   "metadata": {},
   "outputs": [],
   "source": [
    "# has-a\n",
    "class Name:\n",
    "    def __Init__(self, name):\n",
    "        self.name = name\n",
    "        \n",
    "class Email:\n",
    "    def __Init__(self, email):\n",
    "        self.email = email\n",
    "        \n",
    "class Person:\n",
    "    def __Init__(self, name, email):\n",
    "        self.name_obj = name\n",
    "        self.email_obj = email\n",
    "    def about(self):\n",
    "        return self.name_obj.name, self.email_obj.email"
   ]
  },
  {
   "cell_type": "code",
   "execution_count": 121,
   "metadata": {},
   "outputs": [
    {
     "ename": "TypeError",
     "evalue": "object() takes no parameters",
     "output_type": "error",
     "traceback": [
      "\u001b[1;31m---------------------------------------------------------------------------\u001b[0m",
      "\u001b[1;31mTypeError\u001b[0m                                 Traceback (most recent call last)",
      "\u001b[1;32m<ipython-input-121-3d8f2e846825>\u001b[0m in \u001b[0;36m<module>\u001b[1;34m()\u001b[0m\n\u001b[1;32m----> 1\u001b[1;33m \u001b[0mname\u001b[0m \u001b[1;33m=\u001b[0m \u001b[0mName\u001b[0m\u001b[1;33m(\u001b[0m\u001b[1;34m\"doojin\"\u001b[0m\u001b[1;33m)\u001b[0m\u001b[1;33m\u001b[0m\u001b[0m\n\u001b[0m\u001b[0;32m      2\u001b[0m \u001b[0memail\u001b[0m \u001b[1;33m=\u001b[0m \u001b[0mEmail\u001b[0m\u001b[1;33m(\u001b[0m\u001b[1;34m\"pdj1224@gmail.com\"\u001b[0m\u001b[1;33m)\u001b[0m\u001b[1;33m\u001b[0m\u001b[0m\n\u001b[0;32m      3\u001b[0m \u001b[1;31m#???\u001b[0m\u001b[1;33m\u001b[0m\u001b[1;33m\u001b[0m\u001b[0m\n",
      "\u001b[1;31mTypeError\u001b[0m: object() takes no parameters"
     ]
    }
   ],
   "source": [
    "name = Name(\"doojin\")\n",
    "email = Email(\"pdj1224@gmail.com\")\n",
    "#???"
   ]
  },
  {
   "cell_type": "code",
   "execution_count": 64,
   "metadata": {},
   "outputs": [
    {
     "ename": "NameError",
     "evalue": "name 'name' is not defined",
     "output_type": "error",
     "traceback": [
      "\u001b[1;31m---------------------------------------------------------------------------\u001b[0m",
      "\u001b[1;31mNameError\u001b[0m                                 Traceback (most recent call last)",
      "\u001b[1;32m<ipython-input-64-5eeaeb4f37ba>\u001b[0m in \u001b[0;36m<module>\u001b[1;34m()\u001b[0m\n\u001b[1;32m----> 1\u001b[1;33m \u001b[0mp\u001b[0m \u001b[1;33m=\u001b[0m \u001b[0mPerson\u001b[0m\u001b[1;33m(\u001b[0m\u001b[0mname\u001b[0m\u001b[1;33m,\u001b[0m \u001b[0memail\u001b[0m\u001b[1;33m)\u001b[0m\u001b[1;33m\u001b[0m\u001b[0m\n\u001b[0m\u001b[0;32m      2\u001b[0m \u001b[0mp\u001b[0m\u001b[1;33m.\u001b[0m\u001b[0mabout\u001b[0m\u001b[1;33m(\u001b[0m\u001b[1;33m)\u001b[0m\u001b[1;33m\u001b[0m\u001b[0m\n\u001b[0;32m      3\u001b[0m \u001b[1;31m#???\u001b[0m\u001b[1;33m\u001b[0m\u001b[1;33m\u001b[0m\u001b[0m\n",
      "\u001b[1;31mNameError\u001b[0m: name 'name' is not defined"
     ]
    }
   ],
   "source": [
    "p = Person(name, email)\n",
    "p.about()\n",
    "#???"
   ]
  },
  {
   "cell_type": "markdown",
   "metadata": {},
   "source": [
    "##### Magic(special) Method\n",
    "- 비교\n",
    "    - `__eq__` : ==\n",
    "    - `__ne__` : !=\n",
    "    - `__lt__` : <\n",
    "    - `__gt__` : >\n",
    "    - `__le__` : <=\n",
    "    - `__ge__` : >=\n",
    "#equal, not equal, less than, great than, etc.,\n",
    "\n",
    "- 연산\n",
    "    - `__add__` : +\n",
    "    - `__sub__` : -\n",
    "    - `__mul__` : *\n",
    "    - `__pow__` : **\n",
    "    - ...\n",
    "-  `__repr__`,..."
   ]
  },
  {
   "cell_type": "code",
   "execution_count": 67,
   "metadata": {},
   "outputs": [],
   "source": [
    "# __eq__\n",
    "\n",
    "class Txt:\n",
    "    def __init__(self, txt):\n",
    "        self.txt = txt\n",
    "    def equals(self, txt_obj):\n",
    "        return self.txt.lower() == txt_obj.txt.lower()"
   ]
  },
  {
   "cell_type": "code",
   "execution_count": 68,
   "metadata": {},
   "outputs": [],
   "source": [
    "txt1 = Txt(\"fast\")\n",
    "txt2 = Txt(\"FAST\")\n",
    "txt3 = Txt(\"data\")\n",
    "txt4 = Txt(\"fast\")\n",
    "txt5 = txt1 #둘이 참조하고 있는 객체 메모리는 같음"
   ]
  },
  {
   "cell_type": "code",
   "execution_count": 70,
   "metadata": {},
   "outputs": [
    {
     "data": {
      "text/plain": [
       "(True, False, True, True)"
      ]
     },
     "execution_count": 70,
     "metadata": {},
     "output_type": "execute_result"
    }
   ],
   "source": [
    "txt1.equals(txt2), txt1.equals(txt3), txt1.equals(txt4), txt1.equals(txt5)"
   ]
  },
  {
   "cell_type": "code",
   "execution_count": 71,
   "metadata": {},
   "outputs": [
    {
     "data": {
      "text/plain": [
       "(False, False, False, True)"
      ]
     },
     "execution_count": 71,
     "metadata": {},
     "output_type": "execute_result"
    }
   ],
   "source": [
    "txt1 == txt2, txt1 == txt3, txt1 == txt4, txt1 == txt5"
   ]
  },
  {
   "cell_type": "code",
   "execution_count": 72,
   "metadata": {},
   "outputs": [],
   "source": [
    "class Txt:\n",
    "    def __init__(self, txt):\n",
    "        self.txt = txt\n",
    "    def __eq__(self, txt_obj):\n",
    "        return self.txt.lower() == txt_obj.txt.lower()\n",
    "    #이러면 주소값 비교가 아니라 소문자로 비교. override"
   ]
  },
  {
   "cell_type": "code",
   "execution_count": 73,
   "metadata": {},
   "outputs": [],
   "source": [
    "txt1 = Txt(\"fast\")\n",
    "txt2 = Txt(\"FAST\")\n",
    "txt3 = Txt(\"data\")\n",
    "txt4 = Txt(\"fast\")\n",
    "txt5 = txt1"
   ]
  },
  {
   "cell_type": "code",
   "execution_count": 74,
   "metadata": {},
   "outputs": [
    {
     "data": {
      "text/plain": [
       "(True, False, True, True)"
      ]
     },
     "execution_count": 74,
     "metadata": {},
     "output_type": "execute_result"
    }
   ],
   "source": [
    "txt1 == txt2, txt1 == txt3, txt1 == txt4, txt1 == txt5"
   ]
  },
  {
   "cell_type": "code",
   "execution_count": 75,
   "metadata": {},
   "outputs": [
    {
     "data": {
      "text/plain": [
       "False"
      ]
     },
     "execution_count": 75,
     "metadata": {},
     "output_type": "execute_result"
    }
   ],
   "source": [
    "1 == 3 #1`이 slef과 3은 value임 according to docstring"
   ]
  },
  {
   "cell_type": "code",
   "execution_count": null,
   "metadata": {},
   "outputs": [],
   "source": [
    "int.__eq__"
   ]
  },
  {
   "cell_type": "code",
   "execution_count": 76,
   "metadata": {},
   "outputs": [
    {
     "data": {
      "text/plain": [
       "['b', 'a', 'c', 'a']"
      ]
     },
     "execution_count": 76,
     "metadata": {},
     "output_type": "execute_result"
    }
   ],
   "source": [
    "ls = [\"a\", \"b\", \"a\", \"c\", \"a\"]\n",
    "ls.remove(\"a\")\n",
    "ls"
   ]
  },
  {
   "cell_type": "code",
   "execution_count": 84,
   "metadata": {},
   "outputs": [
    {
     "data": {
      "text/plain": [
       "['b', 'c']"
      ]
     },
     "execution_count": 84,
     "metadata": {},
     "output_type": "execute_result"
    }
   ],
   "source": [
    "# comprehension\n",
    "ls = [\"a\", \"b\", \"a\", \"c\", \"a\"]\n",
    "s = \"a\"\n",
    "ls = [data for data in ls if data != s]\n",
    "ls"
   ]
  },
  {
   "cell_type": "code",
   "execution_count": 85,
   "metadata": {},
   "outputs": [
    {
     "data": {
      "text/plain": [
       "['b', 'c']"
      ]
     },
     "execution_count": 85,
     "metadata": {},
     "output_type": "execute_result"
    }
   ],
   "source": [
    "# __ne__\n",
    "ls = [\"a\", \"b\", \"a\", \"c\", \"a\"]\n",
    "s = \"a\"\n",
    "s.__ne__ #함수임\n",
    "list(filter(s.__ne__,ls)) #값이 같으면 true, 값이 다름녀 false나오고 filter니까 false 제거"
   ]
  },
  {
   "cell_type": "code",
   "execution_count": 86,
   "metadata": {},
   "outputs": [
    {
     "data": {
      "text/plain": [
       "<slot wrapper '__add__' of 'int' objects>"
      ]
     },
     "execution_count": 86,
     "metadata": {},
     "output_type": "execute_result"
    }
   ],
   "source": [
    "# __add__\n",
    "int.__add__"
   ]
  },
  {
   "cell_type": "code",
   "execution_count": 88,
   "metadata": {},
   "outputs": [
    {
     "data": {
      "text/plain": [
       "(5, 5)"
      ]
     },
     "execution_count": 88,
     "metadata": {},
     "output_type": "execute_result"
    }
   ],
   "source": [
    "2 + 3, (2).__add__(3) # 둘 다 같은 거, 그냥 object이면 2로 써도 되는데 얘는 좀 특수해서...? 괄호 안에 넣어줘야 함"
   ]
  },
  {
   "cell_type": "code",
   "execution_count": 93,
   "metadata": {},
   "outputs": [],
   "source": [
    "class Number:\n",
    "    def __init__(self, num):\n",
    "        self.num = num\n",
    "    def __add__(self, other_obj):\n",
    "        return self.num + other_obj.num"
   ]
  },
  {
   "cell_type": "code",
   "execution_count": 97,
   "metadata": {},
   "outputs": [
    {
     "data": {
      "text/plain": [
       "5"
      ]
     },
     "execution_count": 97,
     "metadata": {},
     "output_type": "execute_result"
    }
   ],
   "source": [
    "n1 = Number(2)\n",
    "n2 = Number(3)\n",
    "n1 + n2"
   ]
  },
  {
   "cell_type": "code",
   "execution_count": null,
   "metadata": {},
   "outputs": [],
   "source": [
    "class Number:\n",
    "    def __init__(self, num):\n",
    "        self.num = num\n",
    "    def __add__(self, other_obj):\n",
    "        return self.num - other_obj.num\n",
    "    ###이거적어야함"
   ]
  },
  {
   "cell_type": "code",
   "execution_count": null,
   "metadata": {},
   "outputs": [],
   "source": [
    "# __str__, __repr__\n",
    "# __str__: 값을 출력할 때 사용 (사용자가 대상)\n",
    "# __repr__: 객체를 출력할 때 사용 (개발자 대상) 그냥 실행하면 같은 객체가 만들어지도록 출력"
   ]
  },
  {
   "cell_type": "code",
   "execution_count": 98,
   "metadata": {},
   "outputs": [],
   "source": [
    "class Number:\n",
    "    def __init__(self, num):\n",
    "        self.num = num"
   ]
  },
  {
   "cell_type": "code",
   "execution_count": 99,
   "metadata": {},
   "outputs": [],
   "source": [
    "n = Number(5)"
   ]
  },
  {
   "cell_type": "code",
   "execution_count": 100,
   "metadata": {},
   "outputs": [
    {
     "name": "stdout",
     "output_type": "stream",
     "text": [
      "<__main__.Number object at 0x00000000054AADA0>\n"
     ]
    }
   ],
   "source": [
    "# __str__\n",
    "print(n)"
   ]
  },
  {
   "cell_type": "code",
   "execution_count": 101,
   "metadata": {},
   "outputs": [
    {
     "data": {
      "text/plain": [
       "<__main__.Number at 0x54aada0>"
      ]
     },
     "execution_count": 101,
     "metadata": {},
     "output_type": "execute_result"
    }
   ],
   "source": [
    "# __repr__\n",
    "n"
   ]
  },
  {
   "cell_type": "code",
   "execution_count": null,
   "metadata": {},
   "outputs": [],
   "source": [
    "class Number:\n",
    "    def __init__(self, num):\n",
    "        self.num = num\n",
    "    def __str ....\n",
    "# 추가해야함"
   ]
  },
  {
   "cell_type": "code",
   "execution_count": null,
   "metadata": {},
   "outputs": [],
   "source": []
  },
  {
   "cell_type": "code",
   "execution_count": null,
   "metadata": {},
   "outputs": [],
   "source": []
  },
  {
   "cell_type": "code",
   "execution_count": null,
   "metadata": {},
   "outputs": [],
   "source": []
  },
  {
   "cell_type": "code",
   "execution_count": null,
   "metadata": {},
   "outputs": [],
   "source": []
  },
  {
   "cell_type": "code",
   "execution_count": null,
   "metadata": {},
   "outputs": [],
   "source": []
  },
  {
   "cell_type": "code",
   "execution_count": null,
   "metadata": {},
   "outputs": [],
   "source": []
  },
  {
   "cell_type": "code",
   "execution_count": null,
   "metadata": {},
   "outputs": [],
   "source": []
  },
  {
   "cell_type": "code",
   "execution_count": null,
   "metadata": {},
   "outputs": [],
   "source": []
  },
  {
   "cell_type": "code",
   "execution_count": null,
   "metadata": {},
   "outputs": [],
   "source": []
  },
  {
   "cell_type": "code",
   "execution_count": null,
   "metadata": {},
   "outputs": [],
   "source": []
  },
  {
   "cell_type": "code",
   "execution_count": null,
   "metadata": {},
   "outputs": [],
   "source": []
  },
  {
   "cell_type": "code",
   "execution_count": null,
   "metadata": {},
   "outputs": [],
   "source": []
  },
  {
   "cell_type": "code",
   "execution_count": null,
   "metadata": {},
   "outputs": [],
   "source": []
  },
  {
   "cell_type": "code",
   "execution_count": null,
   "metadata": {},
   "outputs": [],
   "source": []
  },
  {
   "cell_type": "code",
   "execution_count": null,
   "metadata": {},
   "outputs": [],
   "source": []
  },
  {
   "cell_type": "code",
   "execution_count": null,
   "metadata": {},
   "outputs": [],
   "source": []
  },
  {
   "cell_type": "code",
   "execution_count": null,
   "metadata": {},
   "outputs": [],
   "source": []
  },
  {
   "cell_type": "code",
   "execution_count": null,
   "metadata": {},
   "outputs": [],
   "source": []
  },
  {
   "cell_type": "code",
   "execution_count": null,
   "metadata": {},
   "outputs": [],
   "source": []
  },
  {
   "cell_type": "code",
   "execution_count": null,
   "metadata": {},
   "outputs": [],
   "source": []
  },
  {
   "cell_type": "code",
   "execution_count": null,
   "metadata": {},
   "outputs": [],
   "source": []
  },
  {
   "cell_type": "code",
   "execution_count": null,
   "metadata": {},
   "outputs": [],
   "source": []
  },
  {
   "cell_type": "code",
   "execution_count": null,
   "metadata": {},
   "outputs": [],
   "source": []
  },
  {
   "cell_type": "code",
   "execution_count": null,
   "metadata": {},
   "outputs": [],
   "source": []
  },
  {
   "cell_type": "code",
   "execution_count": null,
   "metadata": {},
   "outputs": [],
   "source": []
  },
  {
   "cell_type": "code",
   "execution_count": null,
   "metadata": {},
   "outputs": [],
   "source": []
  },
  {
   "cell_type": "code",
   "execution_count": null,
   "metadata": {},
   "outputs": [],
   "source": []
  },
  {
   "cell_type": "code",
   "execution_count": null,
   "metadata": {},
   "outputs": [],
   "source": []
  },
  {
   "cell_type": "code",
   "execution_count": null,
   "metadata": {},
   "outputs": [],
   "source": []
  },
  {
   "cell_type": "code",
   "execution_count": null,
   "metadata": {},
   "outputs": [],
   "source": []
  },
  {
   "cell_type": "code",
   "execution_count": null,
   "metadata": {},
   "outputs": [],
   "source": []
  },
  {
   "cell_type": "code",
   "execution_count": null,
   "metadata": {},
   "outputs": [],
   "source": []
  },
  {
   "cell_type": "code",
   "execution_count": null,
   "metadata": {},
   "outputs": [],
   "source": []
  },
  {
   "cell_type": "code",
   "execution_count": null,
   "metadata": {},
   "outputs": [],
   "source": []
  },
  {
   "cell_type": "code",
   "execution_count": null,
   "metadata": {},
   "outputs": [],
   "source": []
  },
  {
   "cell_type": "code",
   "execution_count": null,
   "metadata": {},
   "outputs": [],
   "source": []
  },
  {
   "cell_type": "code",
   "execution_count": null,
   "metadata": {},
   "outputs": [],
   "source": []
  },
  {
   "cell_type": "code",
   "execution_count": null,
   "metadata": {},
   "outputs": [],
   "source": []
  },
  {
   "cell_type": "code",
   "execution_count": null,
   "metadata": {},
   "outputs": [],
   "source": []
  },
  {
   "cell_type": "code",
   "execution_count": null,
   "metadata": {},
   "outputs": [],
   "source": []
  },
  {
   "cell_type": "code",
   "execution_count": null,
   "metadata": {},
   "outputs": [],
   "source": []
  },
  {
   "cell_type": "code",
   "execution_count": null,
   "metadata": {},
   "outputs": [],
   "source": []
  },
  {
   "cell_type": "code",
   "execution_count": null,
   "metadata": {},
   "outputs": [],
   "source": []
  },
  {
   "cell_type": "code",
   "execution_count": null,
   "metadata": {},
   "outputs": [],
   "source": []
  },
  {
   "cell_type": "code",
   "execution_count": null,
   "metadata": {},
   "outputs": [],
   "source": []
  },
  {
   "cell_type": "code",
   "execution_count": null,
   "metadata": {},
   "outputs": [],
   "source": []
  },
  {
   "cell_type": "code",
   "execution_count": null,
   "metadata": {},
   "outputs": [],
   "source": []
  },
  {
   "cell_type": "code",
   "execution_count": null,
   "metadata": {},
   "outputs": [],
   "source": []
  },
  {
   "cell_type": "code",
   "execution_count": null,
   "metadata": {},
   "outputs": [],
   "source": []
  },
  {
   "cell_type": "code",
   "execution_count": null,
   "metadata": {},
   "outputs": [],
   "source": []
  },
  {
   "cell_type": "code",
   "execution_count": null,
   "metadata": {},
   "outputs": [],
   "source": []
  },
  {
   "cell_type": "code",
   "execution_count": null,
   "metadata": {},
   "outputs": [],
   "source": []
  },
  {
   "cell_type": "code",
   "execution_count": null,
   "metadata": {},
   "outputs": [],
   "source": []
  },
  {
   "cell_type": "code",
   "execution_count": null,
   "metadata": {},
   "outputs": [],
   "source": []
  },
  {
   "cell_type": "code",
   "execution_count": null,
   "metadata": {},
   "outputs": [],
   "source": []
  },
  {
   "cell_type": "code",
   "execution_count": null,
   "metadata": {},
   "outputs": [],
   "source": []
  },
  {
   "cell_type": "code",
   "execution_count": null,
   "metadata": {},
   "outputs": [],
   "source": []
  },
  {
   "cell_type": "code",
   "execution_count": null,
   "metadata": {},
   "outputs": [],
   "source": []
  },
  {
   "cell_type": "code",
   "execution_count": null,
   "metadata": {},
   "outputs": [],
   "source": []
  },
  {
   "cell_type": "code",
   "execution_count": null,
   "metadata": {},
   "outputs": [],
   "source": []
  },
  {
   "cell_type": "code",
   "execution_count": null,
   "metadata": {},
   "outputs": [],
   "source": []
  },
  {
   "cell_type": "code",
   "execution_count": null,
   "metadata": {},
   "outputs": [],
   "source": []
  },
  {
   "cell_type": "code",
   "execution_count": null,
   "metadata": {},
   "outputs": [],
   "source": []
  },
  {
   "cell_type": "code",
   "execution_count": null,
   "metadata": {},
   "outputs": [],
   "source": []
  },
  {
   "cell_type": "code",
   "execution_count": null,
   "metadata": {},
   "outputs": [],
   "source": []
  },
  {
   "cell_type": "code",
   "execution_count": null,
   "metadata": {},
   "outputs": [],
   "source": []
  },
  {
   "cell_type": "code",
   "execution_count": null,
   "metadata": {},
   "outputs": [],
   "source": []
  },
  {
   "cell_type": "code",
   "execution_count": null,
   "metadata": {},
   "outputs": [],
   "source": []
  },
  {
   "cell_type": "code",
   "execution_count": null,
   "metadata": {},
   "outputs": [],
   "source": []
  },
  {
   "cell_type": "code",
   "execution_count": null,
   "metadata": {},
   "outputs": [],
   "source": []
  },
  {
   "cell_type": "code",
   "execution_count": null,
   "metadata": {},
   "outputs": [],
   "source": []
  },
  {
   "cell_type": "code",
   "execution_count": null,
   "metadata": {},
   "outputs": [],
   "source": []
  },
  {
   "cell_type": "code",
   "execution_count": null,
   "metadata": {},
   "outputs": [],
   "source": []
  },
  {
   "cell_type": "code",
   "execution_count": null,
   "metadata": {},
   "outputs": [],
   "source": []
  },
  {
   "cell_type": "code",
   "execution_count": null,
   "metadata": {},
   "outputs": [],
   "source": []
  },
  {
   "cell_type": "code",
   "execution_count": null,
   "metadata": {},
   "outputs": [],
   "source": []
  },
  {
   "cell_type": "code",
   "execution_count": null,
   "metadata": {},
   "outputs": [],
   "source": []
  },
  {
   "cell_type": "code",
   "execution_count": null,
   "metadata": {},
   "outputs": [],
   "source": []
  },
  {
   "cell_type": "code",
   "execution_count": null,
   "metadata": {},
   "outputs": [],
   "source": []
  },
  {
   "cell_type": "code",
   "execution_count": null,
   "metadata": {},
   "outputs": [],
   "source": []
  },
  {
   "cell_type": "code",
   "execution_count": null,
   "metadata": {},
   "outputs": [],
   "source": []
  },
  {
   "cell_type": "code",
   "execution_count": null,
   "metadata": {},
   "outputs": [],
   "source": []
  },
  {
   "cell_type": "code",
   "execution_count": null,
   "metadata": {},
   "outputs": [],
   "source": []
  },
  {
   "cell_type": "code",
   "execution_count": null,
   "metadata": {},
   "outputs": [],
   "source": []
  }
 ],
 "metadata": {
  "kernelspec": {
   "display_name": "Python 3",
   "language": "python",
   "name": "python3"
  },
  "language_info": {
   "codemirror_mode": {
    "name": "ipython",
    "version": 3
   },
   "file_extension": ".py",
   "mimetype": "text/x-python",
   "name": "python",
   "nbconvert_exporter": "python",
   "pygments_lexer": "ipython3",
   "version": "3.6.4"
  }
 },
 "nbformat": 4,
 "nbformat_minor": 2
}
