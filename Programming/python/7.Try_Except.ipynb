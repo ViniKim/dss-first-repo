{
 "cells": [
  {
   "cell_type": "markdown",
   "metadata": {},
   "source": [
    "##### 예외처리\n",
    "- 예외처리는 코드에 에러가 발생하는 경우를 대비해서 예외처리를 설정해주면 에러가 발생해도 아래 코드가 수행됨\n",
    "- try, except, finally\n",
    "- try: 코드 구문\n",
    "- except: 에러가 발생했을 때 실행되는 코드 구문\n",
    "- finally: try, except 구문이 실행되고 마지막에 항상 실행되는 코드 구문"
   ]
  },
  {
   "cell_type": "code",
   "execution_count": 5,
   "metadata": {},
   "outputs": [
    {
     "name": "stdout",
     "output_type": "stream",
     "text": [
      "3\n",
      "Done\n"
     ]
    }
   ],
   "source": [
    "ls = [1,2,3]\n",
    "try:\n",
    "    print(ls[2])\n",
    "except:\n",
    "    print(\"error\")\n",
    "print(\"Done\")\n"
   ]
  },
  {
   "cell_type": "code",
   "execution_count": 6,
   "metadata": {},
   "outputs": [
    {
     "name": "stdout",
     "output_type": "stream",
     "text": [
      "error\n",
      "Done\n"
     ]
    }
   ],
   "source": [
    "ls = [1,2,3]\n",
    "try:\n",
    "    print(ls[3])\n",
    "except:\n",
    "    print(\"error\")\n",
    "print(\"Done\")\n"
   ]
  },
  {
   "cell_type": "code",
   "execution_count": 7,
   "metadata": {},
   "outputs": [
    {
     "name": "stdout",
     "output_type": "stream",
     "text": [
      "list index out of range\n",
      "Done\n"
     ]
    }
   ],
   "source": [
    "# except 특정 에러 검출\n",
    "ls = [1,2,3]\n",
    "try:\n",
    "    print(ls[3])\n",
    "except IndexError as e:\n",
    "    print(e)\n",
    "print(\"Done\")"
   ]
  },
  {
   "cell_type": "code",
   "execution_count": 10,
   "metadata": {},
   "outputs": [
    {
     "name": "stdout",
     "output_type": "stream",
     "text": [
      "zero\n",
      "division by zero\n",
      "Done\n"
     ]
    }
   ],
   "source": [
    "ls = [1,2,3]\n",
    "try:\n",
    "    # print(ls[3])\n",
    "    1 / 0\n",
    "except IndexError as e:\n",
    "    print(e)\n",
    "except ZeroDivisionError as e:\n",
    "    print(\"zero\")\n",
    "    print(e)\n",
    "    \n",
    "print(\"Done\")"
   ]
  },
  {
   "cell_type": "code",
   "execution_count": 11,
   "metadata": {},
   "outputs": [
    {
     "name": "stdout",
     "output_type": "stream",
     "text": [
      "division by zero\n",
      "Done\n"
     ]
    }
   ],
   "source": [
    "ls = [1,2,3]\n",
    "try:\n",
    "    # print(ls[3])\n",
    "    1 / 0\n",
    "except (ZeroDivisionError, IndexError) as e:\n",
    "    print(e)\n",
    "    \n",
    "print(\"Done\")"
   ]
  },
  {
   "cell_type": "code",
   "execution_count": 13,
   "metadata": {},
   "outputs": [
    {
     "name": "stdout",
     "output_type": "stream",
     "text": [
      "list index out of range\n",
      "Done\n"
     ]
    }
   ],
   "source": [
    "#모든 ㅔㅇ러 검출\n",
    "\n",
    "ls = [1,2,3]\n",
    "try:\n",
    "    print(ls[3])\n",
    "    # 1 / 0\n",
    "except Exception as e:\n",
    "    print(e)\n",
    "    \n",
    "print(\"Done\")"
   ]
  },
  {
   "cell_type": "code",
   "execution_count": 15,
   "metadata": {},
   "outputs": [
    {
     "name": "stdout",
     "output_type": "stream",
     "text": [
      "3\n",
      "is error : False\n"
     ]
    }
   ],
   "source": [
    "is_error = False\n",
    "ls = [1,2,3]\n",
    "try:\n",
    "    print(ls[2])\n",
    "except:\n",
    "    is_error = True\n",
    "finally:\n",
    "    print(\"is error :\", is_error)\n",
    "#finally는 에러 유무와 상관없이 무조건 출력됨"
   ]
  },
  {
   "cell_type": "markdown",
   "metadata": {},
   "source": [
    "##### 에러 만들기\n",
    "- `raise` 에러를 강제로 발생시키는 키워드"
   ]
  },
  {
   "cell_type": "code",
   "execution_count": 17,
   "metadata": {},
   "outputs": [],
   "source": [
    "# 10 이상의 숫자를 입력받았을 때 에러를 발생시키는 에러를 만들겠.\n",
    "class Upper10Error(Exception):\n",
    "    def __str__(self):\n",
    "        return \"insert under 10 number\""
   ]
  },
  {
   "cell_type": "code",
   "execution_count": 22,
   "metadata": {},
   "outputs": [],
   "source": [
    "def input_number(num):\n",
    "    if num > 10:\n",
    "        raise Upper10Error()\n",
    "    print(num)"
   ]
  },
  {
   "cell_type": "code",
   "execution_count": 24,
   "metadata": {},
   "outputs": [
    {
     "ename": "Upper10Error",
     "evalue": "insert under 10 number",
     "output_type": "error",
     "traceback": [
      "\u001b[1;31m---------------------------------------------------------------------------\u001b[0m",
      "\u001b[1;31mUpper10Error\u001b[0m                              Traceback (most recent call last)",
      "\u001b[1;32m<ipython-input-24-1b50f27b028c>\u001b[0m in \u001b[0;36m<module>\u001b[1;34m()\u001b[0m\n\u001b[1;32m----> 1\u001b[1;33m \u001b[0minput_number\u001b[0m\u001b[1;33m(\u001b[0m\u001b[1;36m15\u001b[0m\u001b[1;33m)\u001b[0m\u001b[1;33m\u001b[0m\u001b[0m\n\u001b[0m",
      "\u001b[1;32m<ipython-input-22-99d6542cbd2c>\u001b[0m in \u001b[0;36minput_number\u001b[1;34m(num)\u001b[0m\n\u001b[0;32m      1\u001b[0m \u001b[1;32mdef\u001b[0m \u001b[0minput_number\u001b[0m\u001b[1;33m(\u001b[0m\u001b[0mnum\u001b[0m\u001b[1;33m)\u001b[0m\u001b[1;33m:\u001b[0m\u001b[1;33m\u001b[0m\u001b[0m\n\u001b[0;32m      2\u001b[0m     \u001b[1;32mif\u001b[0m \u001b[0mnum\u001b[0m \u001b[1;33m>\u001b[0m \u001b[1;36m10\u001b[0m\u001b[1;33m:\u001b[0m\u001b[1;33m\u001b[0m\u001b[0m\n\u001b[1;32m----> 3\u001b[1;33m         \u001b[1;32mraise\u001b[0m \u001b[0mUpper10Error\u001b[0m\u001b[1;33m(\u001b[0m\u001b[1;33m)\u001b[0m\u001b[1;33m\u001b[0m\u001b[0m\n\u001b[0m\u001b[0;32m      4\u001b[0m     \u001b[0mprint\u001b[0m\u001b[1;33m(\u001b[0m\u001b[0mnum\u001b[0m\u001b[1;33m)\u001b[0m\u001b[1;33m\u001b[0m\u001b[0m\n",
      "\u001b[1;31mUpper10Error\u001b[0m: insert under 10 number"
     ]
    }
   ],
   "source": [
    "input_number(15)"
   ]
  },
  {
   "cell_type": "code",
   "execution_count": 23,
   "metadata": {},
   "outputs": [
    {
     "name": "stdout",
     "output_type": "stream",
     "text": [
      "5\n"
     ]
    }
   ],
   "source": [
    "input_number(5)"
   ]
  },
  {
   "cell_type": "code",
   "execution_count": null,
   "metadata": {},
   "outputs": [],
   "source": []
  },
  {
   "cell_type": "code",
   "execution_count": null,
   "metadata": {},
   "outputs": [],
   "source": []
  },
  {
   "cell_type": "code",
   "execution_count": null,
   "metadata": {},
   "outputs": [],
   "source": []
  }
 ],
 "metadata": {
  "kernelspec": {
   "display_name": "Python 3",
   "language": "python",
   "name": "python3"
  },
  "language_info": {
   "codemirror_mode": {
    "name": "ipython",
    "version": 3
   },
   "file_extension": ".py",
   "mimetype": "text/x-python",
   "name": "python",
   "nbconvert_exporter": "python",
   "pygments_lexer": "ipython3",
   "version": "3.6.4"
  }
 },
 "nbformat": 4,
 "nbformat_minor": 2
}
