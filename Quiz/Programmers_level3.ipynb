{
 "cells": [
  {
   "cell_type": "markdown",
   "metadata": {},
   "source": [
    "#### 1. 다음 큰 숫자\n",
    "\n",
    "어떤 수 N(1≤N≤1,000,000) 이 주어졌을 때, N의 다음 큰 숫자는 다음과 같습니다.\n",
    "\n",
    "N의 다음 큰 숫자는 N을 2진수로 바꾸었을 때의 1의 개수와 같은 개수로 이루어진 수입니다.\n",
    "1번째 조건을 만족하는 숫자들 중 N보다 큰 수 중에서 가장 작은 숫자를 찾아야 합니다.\n",
    "예를 들어, 78을 2진수로 바꾸면 1001110 이며, 78의 다음 큰 숫자는 83으로 2진수는 1010011 입니다.\n",
    "N이 주어질 때, N의 다음 큰 숫자를 찾는 nextBigNumber 함수를 완성하세요."
   ]
  },
  {
   "cell_type": "code",
   "execution_count": 2,
   "metadata": {},
   "outputs": [
    {
     "name": "stdout",
     "output_type": "stream",
     "text": [
      "4\n",
      "83\n"
     ]
    }
   ],
   "source": [
    "def nextBigNumber(n):\n",
    "    if 1 <= n <= 1000000:\n",
    "        number = str(bin(n)).count('1')\n",
    "        print(number)\n",
    "        for i in range(n+1, 1000001):\n",
    "            if int(str(bin(i)).count('1')) == int(number):\n",
    "                return i\n",
    "\n",
    "#아래 코드는 테스트를 위한 출력 코드입니다.\n",
    "print(nextBigNumber(78))"
   ]
  },
  {
   "cell_type": "markdown",
   "metadata": {},
   "source": [
    "#### 2. 야근지수\n",
    "야근 지수\n",
    "회사원인 수민이는 많은 일이 쌓여 있습니다. 수민이는 야근을 최소화하기 위해 남은 일의 작업량을 숫자로 메기고, 일에 대한 야근 지수를 줄이기로 결정했습니다. 야근 지수는 남은 일의 작업량을 제곱하여 더한 값을 의미합니다. 수민이는 1시간 동안 남은 일 중 하나를 골라 작업량 1만큼 처리할 수 있습니다. 수민이의 퇴근까지 남은 N 시간과 각 일에 대한 작업량이 있을 때, noOvertime 함수를 제작하여 수민이의 야근 지수를 최소화 한 결과를 출력해 주세요. 예를 들어, N=4 일 때, 남은 일의 작업량이 [4, 3, 3] 이라면 야근 지수를 최소화하기 위해 일을 한 결과는 [2, 2, 2]가 되고 야근 지수는 22 + 22 + 22 = 12가 되어 12를 반환해 줍니다."
   ]
  },
  {
   "cell_type": "code",
   "execution_count": 1,
   "metadata": {},
   "outputs": [
    {
     "name": "stdout",
     "output_type": "stream",
     "text": [
      "[3, 3, 3]\n",
      "[2, 3, 3]\n",
      "[2, 3, 2]\n",
      "[2, 2, 2]\n",
      "12\n"
     ]
    }
   ],
   "source": [
    "def noOvertime(n, works):\n",
    "    while n > 0:\n",
    "        works.sort()\n",
    "        works.reverse()\n",
    "        works[0] -= 1\n",
    "        n -= 1\n",
    "        print(works)\n",
    "    \n",
    "    for i in range(len(works)):\n",
    "        works[i] = works[i]**2\n",
    "        result = sum(works)\n",
    "    \n",
    "    return result\n",
    "          \n",
    "#최댓값에서 빼야 함\n",
    "print(noOvertime(4, [4,3,3]))"
   ]
  }
 ],
 "metadata": {
  "kernelspec": {
   "display_name": "Python 3",
   "language": "python",
   "name": "python3"
  },
  "language_info": {
   "codemirror_mode": {
    "name": "ipython",
    "version": 3
   },
   "file_extension": ".py",
   "mimetype": "text/x-python",
   "name": "python",
   "nbconvert_exporter": "python",
   "pygments_lexer": "ipython3",
   "version": "3.6.4"
  }
 },
 "nbformat": 4,
 "nbformat_minor": 2
}
