{
 "cells": [
  {
   "cell_type": "markdown",
   "metadata": {},
   "source": [
    "### Quiz"
   ]
  },
  {
   "cell_type": "code",
   "execution_count": 1,
   "metadata": {},
   "outputs": [],
   "source": [
    "import numpy as np"
   ]
  },
  {
   "cell_type": "markdown",
   "metadata": {},
   "source": [
    "##### 1. 5개의 1로 이루어진 정수데이터 타입의 벡터를 만드세요"
   ]
  },
  {
   "cell_type": "code",
   "execution_count": 2,
   "metadata": {},
   "outputs": [
    {
     "data": {
      "text/plain": [
       "array([1, 1, 1, 1, 1])"
      ]
     },
     "execution_count": 2,
     "metadata": {},
     "output_type": "execute_result"
    }
   ],
   "source": [
    "np.ones(5, dtype = int)"
   ]
  },
  {
   "cell_type": "markdown",
   "metadata": {},
   "source": [
    "##### 2. 10개의 1로 이루어진 정수 데이터 타입의 벡터에서 마지막 3개의 데이터는 5가 들어있는 벡터를 만드세요"
   ]
  },
  {
   "cell_type": "code",
   "execution_count": 3,
   "metadata": {},
   "outputs": [
    {
     "data": {
      "text/plain": [
       "array([1, 1, 1, 1, 1, 1, 1, 5, 5, 5])"
      ]
     },
     "execution_count": 3,
     "metadata": {},
     "output_type": "execute_result"
    }
   ],
   "source": [
    "na = np.ones(10, dtype=int)\n",
    "na[7:]=5\n",
    "na"
   ]
  },
  {
   "cell_type": "markdown",
   "metadata": {},
   "source": [
    "##### 3. 10에서 20까지의 데이터를 가지는 벡터를 만드세요"
   ]
  },
  {
   "cell_type": "code",
   "execution_count": 4,
   "metadata": {},
   "outputs": [
    {
     "data": {
      "text/plain": [
       "array([10, 11, 12, 13, 14, 15, 16, 17, 18, 19, 20])"
      ]
     },
     "execution_count": 4,
     "metadata": {},
     "output_type": "execute_result"
    }
   ],
   "source": [
    "np.array(range(10,21))"
   ]
  },
  {
   "cell_type": "markdown",
   "metadata": {},
   "source": [
    "##### 4. 위 벡터의 순서를 바꾸세요"
   ]
  },
  {
   "cell_type": "code",
   "execution_count": 5,
   "metadata": {},
   "outputs": [
    {
     "data": {
      "text/plain": [
       "array([20, 19, 18, 17, 16, 15, 14, 13, 12, 11, 10])"
      ]
     },
     "execution_count": 5,
     "metadata": {},
     "output_type": "execute_result"
    }
   ],
   "source": [
    "na[::-1]"
   ]
  },
  {
   "cell_type": "markdown",
   "metadata": {},
   "source": [
    "##### 5. 0부터 8까지의 값을 가지는 3x3 행렬을 만드세요"
   ]
  },
  {
   "cell_type": "code",
   "execution_count": 6,
   "metadata": {},
   "outputs": [
    {
     "data": {
      "text/plain": [
       "array([[0, 1, 2],\n",
       "       [3, 4, 5],\n",
       "       [6, 7, 8]])"
      ]
     },
     "execution_count": 6,
     "metadata": {},
     "output_type": "execute_result"
    }
   ],
   "source": [
    "np.arange(0,9).reshape(3,3)"
   ]
  },
  {
   "cell_type": "markdown",
   "metadata": {},
   "source": [
    "##### 6. 위의 벡터에서  `[[4,5],[7,8]]`  행렬을 만드세요"
   ]
  },
  {
   "cell_type": "code",
   "execution_count": 7,
   "metadata": {},
   "outputs": [
    {
     "data": {
      "text/plain": [
       "array([[4, 5],\n",
       "       [7, 8]])"
      ]
     },
     "execution_count": 7,
     "metadata": {},
     "output_type": "execute_result"
    }
   ],
   "source": [
    "na[1:,1:]"
   ]
  },
  {
   "cell_type": "markdown",
   "metadata": {},
   "source": [
    "##### 7. 1에서 10까지의 데이터를 랜덤하게 가지는 3*4 행렬을 만드세요"
   ]
  },
  {
   "cell_type": "code",
   "execution_count": 8,
   "metadata": {},
   "outputs": [
    {
     "data": {
      "text/plain": [
       "array([[2, 2, 2, 8],\n",
       "       [9, 6, 2, 5],\n",
       "       [6, 1, 2, 1]])"
      ]
     },
     "execution_count": 8,
     "metadata": {},
     "output_type": "execute_result"
    }
   ],
   "source": [
    "na = np.random.randint(1,11, (3,4))"
   ]
  },
  {
   "cell_type": "markdown",
   "metadata": {},
   "source": [
    "##### 8. 위에서 만든 행렬의 unique 한 숫자들 리스트와 각숫자의 갯수를 리스트로 나타내세요"
   ]
  },
  {
   "cell_type": "code",
   "execution_count": 9,
   "metadata": {},
   "outputs": [
    {
     "data": {
      "text/plain": [
       "(array([1, 2, 5, 6, 8, 9]), array([2, 5, 1, 2, 1, 1]))"
      ]
     },
     "execution_count": 9,
     "metadata": {},
     "output_type": "execute_result"
    }
   ],
   "source": [
    "index, count = np.unique(na, return_counts=True)\n",
    "index, count"
   ]
  },
  {
   "cell_type": "markdown",
   "metadata": {},
   "source": [
    "##### 9. 1에서 12까지에 숫자가 들어간 3*4 행렬을 만드시고 행과 열에 관계없이 데이터를 섞으세요"
   ]
  },
  {
   "cell_type": "code",
   "execution_count": 10,
   "metadata": {},
   "outputs": [
    {
     "data": {
      "text/plain": [
       "array([[ 1,  2,  3,  4],\n",
       "       [ 5,  6,  7,  8],\n",
       "       [ 9, 10, 11, 12]])"
      ]
     },
     "execution_count": 10,
     "metadata": {},
     "output_type": "execute_result"
    }
   ],
   "source": [
    "na = np.arange(1,13).reshape(3,4)\n",
    "na"
   ]
  },
  {
   "cell_type": "code",
   "execution_count": 11,
   "metadata": {},
   "outputs": [
    {
     "data": {
      "text/plain": [
       "array([[ 5,  2, 10,  8],\n",
       "       [ 7, 11,  9, 12],\n",
       "       [ 1,  3,  6,  4]])"
      ]
     },
     "execution_count": 11,
     "metadata": {},
     "output_type": "execute_result"
    }
   ],
   "source": [
    "np.random.shuffle(na)\n",
    "na"
   ]
  },
  {
   "cell_type": "markdown",
   "metadata": {},
   "source": [
    "##### 10. 1부터 10까지의 랜덤한 데이터가 들어가는 `3*3`행렬을 만드시고 가장 아래에 위의 데이터를 모두 합한 `1*3`행렬을 추가해서 `4*3`행렬을 만드세요"
   ]
  },
  {
   "cell_type": "code",
   "execution_count": 12,
   "metadata": {},
   "outputs": [
    {
     "data": {
      "text/plain": [
       "array([[1, 3, 7],\n",
       "       [5, 2, 7],\n",
       "       [2, 4, 7]])"
      ]
     },
     "execution_count": 12,
     "metadata": {},
     "output_type": "execute_result"
    }
   ],
   "source": [
    "r1 = np.random.randint(1,11, (3,3))\n",
    "r1"
   ]
  },
  {
   "cell_type": "code",
   "execution_count": 13,
   "metadata": {},
   "outputs": [
    {
     "data": {
      "text/plain": [
       "array([[ 1,  3,  7],\n",
       "       [ 5,  2,  7],\n",
       "       [ 2,  4,  7],\n",
       "       [ 8,  9, 21]])"
      ]
     },
     "execution_count": 13,
     "metadata": {},
     "output_type": "execute_result"
    }
   ],
   "source": [
    "r2 = np.sum(r1, axis = 0)\n",
    "r3 = np.vstack((r1,r2))\n",
    "r3"
   ]
  },
  {
   "cell_type": "markdown",
   "metadata": {},
   "source": [
    "##### 11. 10번문제의 결과로 나온 행렬데이터에서 평균값을 출력하고 평균값보다 큰 숫자들만 유니크한 리스트로 나열하세요 (평균값은 소수 둘째 자리까지만 나타내세요)"
   ]
  },
  {
   "cell_type": "code",
   "execution_count": 15,
   "metadata": {},
   "outputs": [
    {
     "name": "stdout",
     "output_type": "stream",
     "text": [
      "avg :  6.33\n"
     ]
    },
    {
     "data": {
      "text/plain": [
       "array([ 7,  8,  9, 21])"
      ]
     },
     "execution_count": 15,
     "metadata": {},
     "output_type": "execute_result"
    }
   ],
   "source": [
    "avg = r3.mean().round(2)\n",
    "print(\"avg : \", avg)\n",
    "is1 = (r3 > a) == True\n",
    "r3[is1]"
   ]
  },
  {
   "cell_type": "markdown",
   "metadata": {},
   "source": [
    "##### 12. 1부터 20까지의 랜덤숫자를 가지는 5*5 행렬을 만드시고 최대값에는 숫자(MAX), 최소값에는 숫자(MIN)으로 행렬을 바꾸세요"
   ]
  },
  {
   "cell_type": "code",
   "execution_count": 16,
   "metadata": {},
   "outputs": [
    {
     "data": {
      "text/plain": [
       "array([[16, 20,  5,  3, 16],\n",
       "       [13,  4, 15,  2,  5],\n",
       "       [ 7, 19,  6,  5, 19],\n",
       "       [19, 14, 13,  2,  4],\n",
       "       [ 9,  8,  5, 19,  4]])"
      ]
     },
     "execution_count": 16,
     "metadata": {},
     "output_type": "execute_result"
    }
   ],
   "source": [
    "na = np.random.randint(1,21, (5,5))\n",
    "na"
   ]
  },
  {
   "cell_type": "code",
   "execution_count": 17,
   "metadata": {},
   "outputs": [],
   "source": [
    "a = na.argmax() // 5\n",
    "b = na.argmax() % 5\n",
    "c = na.argmin() // 5\n",
    "d = na.argmin() % 5\n",
    "a, b, c, d"
   ]
  },
  {
   "cell_type": "code",
   "execution_count": 18,
   "metadata": {},
   "outputs": [
    {
     "data": {
      "text/plain": [
       "array([['16', '20(MAX)', '5', '3', '16'],\n",
       "       ['13', '4', '15', '2(MIN)', '5'],\n",
       "       ['7', '19', '6', '5', '19'],\n",
       "       ['19', '14', '13', '2(MIN)', '4'],\n",
       "       ['9', '8', '5', '19', '4']], dtype='<U21')"
      ]
     },
     "execution_count": 18,
     "metadata": {},
     "output_type": "execute_result"
    }
   ],
   "source": [
    "na_str = na.astype(str)\n",
    "na_str[a,b] = str(na[a,b]) + \"(MAX)\"\n",
    "na_str[c,d] = str(na[c,d]) + \"(MIN)\"\n",
    "na_str"
   ]
  },
  {
   "cell_type": "markdown",
   "metadata": {},
   "source": [
    "##### 13. 100에서 130까지의 랜덤 숫자를 가지는 8*8행렬을 만드시고 3의 배수에는 fiz, 5의 배수에는 buz, 3과 5의 배수는 fbz 문자를 출력하세요"
   ]
  },
  {
   "cell_type": "code",
   "execution_count": 19,
   "metadata": {},
   "outputs": [
    {
     "data": {
      "text/plain": [
       "array([[115, 115, 129, 116, 106],\n",
       "       [128, 107, 102, 110, 122],\n",
       "       [110, 124, 118, 126, 116],\n",
       "       [105, 110, 105, 111, 119],\n",
       "       [121, 113, 121, 117, 118]])"
      ]
     },
     "execution_count": 19,
     "metadata": {},
     "output_type": "execute_result"
    }
   ],
   "source": [
    "na = np.random.randint(100,131, (8,8))\n",
    "na"
   ]
  },
  {
   "cell_type": "code",
   "execution_count": 20,
   "metadata": {},
   "outputs": [],
   "source": [
    "na_str=na.astype(str)"
   ]
  },
  {
   "cell_type": "code",
   "execution_count": 21,
   "metadata": {},
   "outputs": [
    {
     "data": {
      "text/plain": [
       "array([['buz', 'buz', 'fiz', '116', '106'],\n",
       "       ['128', '107', 'fiz', 'buz', '122'],\n",
       "       ['buz', '124', '118', 'fiz', '116'],\n",
       "       ['fbz', 'buz', 'fbz', 'fiz', '119'],\n",
       "       ['121', '113', '121', 'fiz', '118']], dtype='<U21')"
      ]
     },
     "execution_count": 21,
     "metadata": {},
     "output_type": "execute_result"
    }
   ],
   "source": [
    "for i in range(8):\n",
    "    for j in range(8):\n",
    "        if na[i,j] %3 == 0 and na[i,j] % 5 == 0:\n",
    "            na_str[i,j] = \"fizbuz\"\n",
    "        elif na[i,j] % 3 == 0:\n",
    "            na_str[i,j] = \"fiz\"\n",
    "        elif na[i,j] % 5 == 0:\n",
    "            na_str[i,j] = 'buz'\n",
    "na_str"
   ]
  },
  {
   "cell_type": "markdown",
   "metadata": {},
   "source": [
    "##### 14. 리스트 컴프리헨션을 이용하여 아래와 같은 규칙은 갖는 행렬을 만드세요"
   ]
  },
  {
   "cell_type": "code",
   "execution_count": 22,
   "metadata": {},
   "outputs": [
    {
     "name": "stdout",
     "output_type": "stream",
     "text": [
      "number :  5\n"
     ]
    },
    {
     "data": {
      "text/plain": [
       "array([[ 1,  2,  3,  4,  5],\n",
       "       [ 2,  4,  6,  8, 10],\n",
       "       [ 3,  6,  9, 12, 15],\n",
       "       [ 4,  8, 12, 16, 20],\n",
       "       [ 5, 10, 15, 20, 25]])"
      ]
     },
     "execution_count": 22,
     "metadata": {},
     "output_type": "execute_result"
    }
   ],
   "source": [
    "number = 5\n",
    "print(\"number : \", number)\n",
    "na = np.arange(1,number**2+1).reshape(number,number)\n",
    "for i in range(number):\n",
    "    for j in range(number):\n",
    "        na[i,j] = (i+1)*(j+1)\n",
    "na\n",
    "\n",
    "#list comprehension으로 하면 계속 에러 나요...."
   ]
  },
  {
   "cell_type": "code",
   "execution_count": 23,
   "metadata": {},
   "outputs": [
    {
     "name": "stdout",
     "output_type": "stream",
     "text": [
      "number :  7\n"
     ]
    },
    {
     "data": {
      "text/plain": [
       "array([[ 1,  2,  3,  4,  5,  6,  7],\n",
       "       [ 2,  4,  6,  8, 10, 12, 14],\n",
       "       [ 3,  6,  9, 12, 15, 18, 21],\n",
       "       [ 4,  8, 12, 16, 20, 24, 28],\n",
       "       [ 5, 10, 15, 20, 25, 30, 35],\n",
       "       [ 6, 12, 18, 24, 30, 36, 42],\n",
       "       [ 7, 14, 21, 28, 35, 42, 49]])"
      ]
     },
     "execution_count": 23,
     "metadata": {},
     "output_type": "execute_result"
    }
   ],
   "source": [
    "number = 7\n",
    "print(\"number : \", number)\n",
    "na = np.arange(1,number**2+1).reshape(number,number)\n",
    "for i in range(number):\n",
    "    for j in range(number):\n",
    "        na[i,j] = (i+1)*(j+1)\n",
    "na"
   ]
  }
 ],
 "metadata": {
  "kernelspec": {
   "display_name": "Python 3",
   "language": "python",
   "name": "python3"
  },
  "language_info": {
   "codemirror_mode": {
    "name": "ipython",
    "version": 3
   },
   "file_extension": ".py",
   "mimetype": "text/x-python",
   "name": "python",
   "nbconvert_exporter": "python",
   "pygments_lexer": "ipython3",
   "version": "3.6.4"
  }
 },
 "nbformat": 4,
 "nbformat_minor": 2
}
